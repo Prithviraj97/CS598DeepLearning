{
  "nbformat": 4,
  "nbformat_minor": 0,
  "metadata": {
    "colab": {
      "name": "CCTcifar100.ipynb",
      "provenance": [],
      "collapsed_sections": []
    },
    "kernelspec": {
      "name": "python3",
      "display_name": "Python 3"
    },
    "language_info": {
      "name": "python"
    }
  },
  "cells": [
    {
      "cell_type": "code",
      "metadata": {
        "colab": {
          "base_uri": "https://localhost:8080/"
        },
        "id": "zPVPNuewMPeV",
        "outputId": "3ac0b605-dc03-4c71-aa1e-e5fe512c6380"
      },
      "source": [
        "from tensorflow.keras import layers\n",
        "from tensorflow import keras\n",
        "import numpy as np\n",
        "import matplotlib.pyplot as plt\n",
        "import numpy as np\n",
        "import tensorflow as tf\n",
        "!pip install tensorflow-addons\n",
        "import tensorflow_addons as tfa"
      ],
      "execution_count": null,
      "outputs": [
        {
          "output_type": "stream",
          "name": "stdout",
          "text": [
            "Collecting tensorflow-addons\n",
            "  Downloading tensorflow_addons-0.15.0-cp37-cp37m-manylinux_2_12_x86_64.manylinux2010_x86_64.whl (1.1 MB)\n",
            "\u001b[K     |████████████████████████████████| 1.1 MB 4.3 MB/s \n",
            "\u001b[?25hRequirement already satisfied: typeguard>=2.7 in /usr/local/lib/python3.7/dist-packages (from tensorflow-addons) (2.7.1)\n",
            "Installing collected packages: tensorflow-addons\n",
            "Successfully installed tensorflow-addons-0.15.0\n"
          ]
        }
      ]
    },
    {
      "cell_type": "code",
      "metadata": {
        "id": "dMiTQUXXMZsk"
      },
      "source": [
        "positional_emb = True\n",
        "conv_layers = 2\n",
        "projection_dim = 128\n",
        "\n",
        "num_heads = 2\n",
        "transformer_units = [\n",
        "    projection_dim,\n",
        "    projection_dim,\n",
        "]\n",
        "transformer_layers = 2\n",
        "stochastic_depth_rate = 0.1\n",
        "\n",
        "learning_rate = 0.001\n",
        "weight_decay = 0.0001\n",
        "batch_size = 128\n",
        "num_epochs = 30\n",
        "image_size = 32"
      ],
      "execution_count": null,
      "outputs": []
    },
    {
      "cell_type": "code",
      "metadata": {
        "colab": {
          "base_uri": "https://localhost:8080/"
        },
        "id": "M2aJCMN5Mdub",
        "outputId": "1d51f63b-4f7f-48dd-db5f-128d0faed5ee"
      },
      "source": [
        "num_classes = 100\n",
        "input_shape = (32, 32, 3)\n",
        "\n",
        "(x_train, y_train), (x_test, y_test) = keras.datasets.cifar100.load_data()\n",
        "\n",
        "y_train = keras.utils.to_categorical(y_train, num_classes)\n",
        "y_test = keras.utils.to_categorical(y_test, num_classes)\n",
        "\n",
        "print(f\"x_train shape: {x_train.shape} - y_train shape: {y_train.shape}\")\n",
        "print(f\"x_test shape: {x_test.shape} - y_test shape: {y_test.shape}\")"
      ],
      "execution_count": null,
      "outputs": [
        {
          "output_type": "stream",
          "name": "stdout",
          "text": [
            "Downloading data from https://www.cs.toronto.edu/~kriz/cifar-100-python.tar.gz\n",
            "169009152/169001437 [==============================] - 11s 0us/step\n",
            "169017344/169001437 [==============================] - 11s 0us/step\n",
            "x_train shape: (50000, 32, 32, 3) - y_train shape: (50000, 100)\n",
            "x_test shape: (10000, 32, 32, 3) - y_test shape: (10000, 100)\n"
          ]
        }
      ]
    },
    {
      "cell_type": "code",
      "metadata": {
        "id": "d-Y9zZUCMn9f"
      },
      "source": [
        "class CCTTokenizer(layers.Layer):\n",
        "    def __init__(\n",
        "        self,\n",
        "        kernel_size=3,\n",
        "        stride=1,\n",
        "        padding=1,\n",
        "        pooling_kernel_size=3,\n",
        "        pooling_stride=2,\n",
        "        num_conv_layers=conv_layers,\n",
        "        num_output_channels=[64, 128],\n",
        "        positional_emb=positional_emb,\n",
        "        **kwargs,\n",
        "    ):\n",
        "        super(CCTTokenizer, self).__init__(**kwargs)\n",
        "\n",
        "        # This is our tokenizer.\n",
        "        self.conv_model = keras.Sequential()\n",
        "        for i in range(num_conv_layers):\n",
        "            self.conv_model.add(\n",
        "                layers.Conv2D(\n",
        "                    num_output_channels[i],\n",
        "                    kernel_size,\n",
        "                    stride,\n",
        "                    padding=\"valid\",\n",
        "                    use_bias=False,\n",
        "                    activation=\"relu\",\n",
        "                    kernel_initializer=\"he_normal\",\n",
        "                )\n",
        "            )\n",
        "            self.conv_model.add(layers.ZeroPadding2D(padding))\n",
        "            self.conv_model.add(\n",
        "                layers.MaxPool2D(pooling_kernel_size, pooling_stride, \"same\")\n",
        "            )\n",
        "\n",
        "        self.positional_emb = positional_emb\n",
        "\n",
        "    def call(self, images):\n",
        "        outputs = self.conv_model(images)\n",
        "        # After passing the images through our mini-network the spatial dimensions\n",
        "        # are flattened to form sequences.\n",
        "        reshaped = tf.reshape(\n",
        "            outputs,\n",
        "            (-1, tf.shape(outputs)[1] * tf.shape(outputs)[2], tf.shape(outputs)[-1]),\n",
        "        )\n",
        "        return reshaped\n",
        "\n",
        "    def positional_embedding(self, image_size):\n",
        "        # Positional embeddings are optional in CCT. Here, we calculate\n",
        "        # the number of sequences and initialize an `Embedding` layer to\n",
        "        # compute the positional embeddings later.\n",
        "        if self.positional_emb:\n",
        "            dummy_inputs = tf.ones((1, image_size, image_size, 3))\n",
        "            dummy_outputs = self.call(dummy_inputs)\n",
        "            sequence_length = tf.shape(dummy_outputs)[1]\n",
        "            projection_dim = tf.shape(dummy_outputs)[-1]\n",
        "\n",
        "            embed_layer = layers.Embedding(\n",
        "                input_dim=sequence_length, output_dim=projection_dim\n",
        "            )\n",
        "            return embed_layer, sequence_length\n",
        "        else:\n",
        "            return None"
      ],
      "execution_count": null,
      "outputs": []
    },
    {
      "cell_type": "code",
      "metadata": {
        "id": "0ywaSHygMv-n"
      },
      "source": [
        "class StochasticDepth(layers.Layer):\n",
        "    def __init__(self, drop_prop, **kwargs):\n",
        "        super(StochasticDepth, self).__init__(**kwargs)\n",
        "        self.drop_prob = drop_prop\n",
        "\n",
        "    def call(self, x, training=None):\n",
        "        if training:\n",
        "            keep_prob = 1 - self.drop_prob\n",
        "            shape = (tf.shape(x)[0],) + (1,) * (len(tf.shape(x)) - 1)\n",
        "            random_tensor = keep_prob + tf.random.uniform(shape, 0, 1)\n",
        "            random_tensor = tf.floor(random_tensor)\n",
        "            return (x / keep_prob) * random_tensor\n",
        "        return x"
      ],
      "execution_count": null,
      "outputs": []
    },
    {
      "cell_type": "code",
      "metadata": {
        "id": "RCiyjWjHMzC3"
      },
      "source": [
        "def mlp(x, hidden_units, dropout_rate):\n",
        "    for units in hidden_units:\n",
        "        x = layers.Dense(units, activation=tf.nn.gelu)(x)\n",
        "        x = layers.Dropout(dropout_rate)(x)\n",
        "    return x"
      ],
      "execution_count": null,
      "outputs": []
    },
    {
      "cell_type": "code",
      "metadata": {
        "id": "ld0KTBZfM3En"
      },
      "source": [
        "data_augmentation = keras.Sequential(\n",
        "    [\n",
        "        layers.Rescaling(scale=1.0 / 255),\n",
        "        layers.RandomCrop(image_size, image_size),\n",
        "        layers.RandomFlip(\"horizontal\"),\n",
        "    ],\n",
        "    name=\"data_augmentation\",\n",
        ")\n"
      ],
      "execution_count": null,
      "outputs": []
    },
    {
      "cell_type": "code",
      "metadata": {
        "id": "Kqx8z1fkM60f"
      },
      "source": [
        "def create_cct_model(\n",
        "    image_size=image_size,\n",
        "    input_shape=input_shape,\n",
        "    num_heads=num_heads,\n",
        "    projection_dim=projection_dim,\n",
        "    transformer_units=transformer_units,\n",
        "):\n",
        "\n",
        "    inputs = layers.Input(input_shape)\n",
        "\n",
        "    # Augment data.\n",
        "    augmented = data_augmentation(inputs)\n",
        "\n",
        "    # Encode patches.\n",
        "    cct_tokenizer = CCTTokenizer()\n",
        "    encoded_patches = cct_tokenizer(augmented)\n",
        "\n",
        "    # Apply positional embedding.\n",
        "    if positional_emb:\n",
        "        pos_embed, seq_length = cct_tokenizer.positional_embedding(image_size)\n",
        "        positions = tf.range(start=0, limit=seq_length, delta=1)\n",
        "        position_embeddings = pos_embed(positions)\n",
        "        encoded_patches += position_embeddings\n",
        "\n",
        "    # Calculate Stochastic Depth probabilities.\n",
        "    dpr = [x for x in np.linspace(0, stochastic_depth_rate, transformer_layers)]\n",
        "\n",
        "    # Create multiple layers of the Transformer block.\n",
        "    for i in range(transformer_layers):\n",
        "        # Layer normalization 1.\n",
        "        x1 = layers.LayerNormalization(epsilon=1e-5)(encoded_patches)\n",
        "\n",
        "        # Create a multi-head attention layer.\n",
        "        attention_output = layers.MultiHeadAttention(\n",
        "            num_heads=num_heads, key_dim=projection_dim, dropout=0.1\n",
        "        )(x1, x1)\n",
        "\n",
        "        # Skip connection 1.\n",
        "        attention_output = StochasticDepth(dpr[i])(attention_output)\n",
        "        x2 = layers.Add()([attention_output, encoded_patches])\n",
        "\n",
        "        # Layer normalization 2.\n",
        "        x3 = layers.LayerNormalization(epsilon=1e-5)(x2)\n",
        "\n",
        "        # MLP.\n",
        "        x3 = mlp(x3, hidden_units=transformer_units, dropout_rate=0.1)\n",
        "\n",
        "        # Skip connection 2.\n",
        "        x3 = StochasticDepth(dpr[i])(x3)\n",
        "        encoded_patches = layers.Add()([x3, x2])\n",
        "\n",
        "    # Apply sequence pooling.\n",
        "    representation = layers.LayerNormalization(epsilon=1e-5)(encoded_patches)\n",
        "    attention_weights = tf.nn.softmax(layers.Dense(1)(representation), axis=1)\n",
        "    weighted_representation = tf.matmul(\n",
        "        attention_weights, representation, transpose_a=True\n",
        "    )\n",
        "    weighted_representation = tf.squeeze(weighted_representation, -2)\n",
        "\n",
        "    # Classify outputs.\n",
        "    logits = layers.Dense(num_classes)(weighted_representation)\n",
        "    # Create the Keras model.\n",
        "    model = keras.Model(inputs=inputs, outputs=logits)\n",
        "    return model\n",
        "\n"
      ],
      "execution_count": null,
      "outputs": []
    },
    {
      "cell_type": "code",
      "metadata": {
        "colab": {
          "base_uri": "https://localhost:8080/"
        },
        "id": "yX2-bAtaNACE",
        "outputId": "739638aa-4c13-4eca-f1b3-622bbcf3512c"
      },
      "source": [
        "def run_experiment(model):\n",
        "    optimizer = tfa.optimizers.AdamW(learning_rate=0.001, weight_decay=0.0001)\n",
        "\n",
        "    model.compile(\n",
        "        optimizer=optimizer,\n",
        "        loss=keras.losses.CategoricalCrossentropy(\n",
        "            from_logits=True, label_smoothing=0.1\n",
        "        ),\n",
        "        metrics=[\n",
        "            keras.metrics.CategoricalAccuracy(name=\"accuracy\"),\n",
        "            keras.metrics.TopKCategoricalAccuracy(5, name=\"top-5-accuracy\"),\n",
        "        ],\n",
        "    )\n",
        "\n",
        "    checkpoint_filepath = \"/tmp/checkpoint\"\n",
        "    checkpoint_callback = keras.callbacks.ModelCheckpoint(\n",
        "        checkpoint_filepath,\n",
        "        monitor=\"val_accuracy\",\n",
        "        save_best_only=True,\n",
        "        save_weights_only=True,\n",
        "    )\n",
        "\n",
        "    history = model.fit(\n",
        "        x=x_train,\n",
        "        y=y_train,\n",
        "        batch_size=batch_size,\n",
        "        epochs=num_epochs,\n",
        "        validation_split=0.1,\n",
        "        callbacks=[checkpoint_callback],\n",
        "    )\n",
        "\n",
        "    model.load_weights(checkpoint_filepath)\n",
        "    _, accuracy, top_5_accuracy = model.evaluate(x_test, y_test)\n",
        "    print(f\"Test accuracy: {round(accuracy * 100, 2)}%\")\n",
        "    print(f\"Test top 5 accuracy: {round(top_5_accuracy * 100, 2)}%\")\n",
        "\n",
        "    return history\n",
        "\n",
        "\n",
        "cct_model = create_cct_model()\n",
        "history = run_experiment(cct_model)"
      ],
      "execution_count": null,
      "outputs": [
        {
          "output_type": "stream",
          "name": "stdout",
          "text": [
            "Epoch 1/30\n",
            "352/352 [==============================] - 34s 83ms/step - loss: 4.1831 - accuracy: 0.0787 - top-5-accuracy: 0.2421 - val_loss: 3.8638 - val_accuracy: 0.1322 - val_top-5-accuracy: 0.3590\n",
            "Epoch 2/30\n",
            "352/352 [==============================] - 28s 79ms/step - loss: 3.6079 - accuracy: 0.1871 - top-5-accuracy: 0.4584 - val_loss: 3.4541 - val_accuracy: 0.2202 - val_top-5-accuracy: 0.5094\n",
            "Epoch 3/30\n",
            "352/352 [==============================] - 28s 79ms/step - loss: 3.3141 - accuracy: 0.2529 - top-5-accuracy: 0.5562 - val_loss: 3.2353 - val_accuracy: 0.2658 - val_top-5-accuracy: 0.5800\n",
            "Epoch 4/30\n",
            "352/352 [==============================] - 28s 78ms/step - loss: 3.1252 - accuracy: 0.2981 - top-5-accuracy: 0.6127 - val_loss: 3.0371 - val_accuracy: 0.3250 - val_top-5-accuracy: 0.6368\n",
            "Epoch 5/30\n",
            "352/352 [==============================] - 28s 79ms/step - loss: 2.9587 - accuracy: 0.3422 - top-5-accuracy: 0.6621 - val_loss: 2.9731 - val_accuracy: 0.3362 - val_top-5-accuracy: 0.6650\n",
            "Epoch 6/30\n",
            "352/352 [==============================] - 28s 78ms/step - loss: 2.8485 - accuracy: 0.3682 - top-5-accuracy: 0.6949 - val_loss: 3.0203 - val_accuracy: 0.3270 - val_top-5-accuracy: 0.6508\n",
            "Epoch 7/30\n",
            "352/352 [==============================] - 28s 78ms/step - loss: 2.7757 - accuracy: 0.3862 - top-5-accuracy: 0.7120 - val_loss: 2.8133 - val_accuracy: 0.3786 - val_top-5-accuracy: 0.7008\n",
            "Epoch 8/30\n",
            "352/352 [==============================] - 28s 79ms/step - loss: 2.6965 - accuracy: 0.4092 - top-5-accuracy: 0.7312 - val_loss: 2.7756 - val_accuracy: 0.3894 - val_top-5-accuracy: 0.7104\n",
            "Epoch 9/30\n",
            "352/352 [==============================] - 28s 79ms/step - loss: 2.6323 - accuracy: 0.4255 - top-5-accuracy: 0.7473 - val_loss: 2.7107 - val_accuracy: 0.4026 - val_top-5-accuracy: 0.7290\n",
            "Epoch 10/30\n",
            "352/352 [==============================] - 28s 78ms/step - loss: 2.5784 - accuracy: 0.4421 - top-5-accuracy: 0.7635 - val_loss: 2.6678 - val_accuracy: 0.4132 - val_top-5-accuracy: 0.7354\n",
            "Epoch 11/30\n",
            "352/352 [==============================] - 28s 79ms/step - loss: 2.5350 - accuracy: 0.4521 - top-5-accuracy: 0.7731 - val_loss: 2.6437 - val_accuracy: 0.4304 - val_top-5-accuracy: 0.7470\n",
            "Epoch 12/30\n",
            "352/352 [==============================] - 28s 78ms/step - loss: 2.4989 - accuracy: 0.4630 - top-5-accuracy: 0.7798 - val_loss: 2.6350 - val_accuracy: 0.4234 - val_top-5-accuracy: 0.7480\n",
            "Epoch 13/30\n",
            "352/352 [==============================] - 27s 78ms/step - loss: 2.4529 - accuracy: 0.4764 - top-5-accuracy: 0.7931 - val_loss: 2.6267 - val_accuracy: 0.4282 - val_top-5-accuracy: 0.7544\n",
            "Epoch 14/30\n",
            "352/352 [==============================] - 27s 78ms/step - loss: 2.4204 - accuracy: 0.4876 - top-5-accuracy: 0.8000 - val_loss: 2.5871 - val_accuracy: 0.4380 - val_top-5-accuracy: 0.7662\n",
            "Epoch 15/30\n",
            "352/352 [==============================] - 28s 79ms/step - loss: 2.3809 - accuracy: 0.4971 - top-5-accuracy: 0.8086 - val_loss: 2.5798 - val_accuracy: 0.4432 - val_top-5-accuracy: 0.7648\n",
            "Epoch 16/30\n",
            "352/352 [==============================] - 28s 79ms/step - loss: 2.3511 - accuracy: 0.5067 - top-5-accuracy: 0.8157 - val_loss: 2.5341 - val_accuracy: 0.4606 - val_top-5-accuracy: 0.7692\n",
            "Epoch 17/30\n",
            "352/352 [==============================] - 28s 79ms/step - loss: 2.3198 - accuracy: 0.5151 - top-5-accuracy: 0.8237 - val_loss: 2.5260 - val_accuracy: 0.4620 - val_top-5-accuracy: 0.7750\n",
            "Epoch 18/30\n",
            "352/352 [==============================] - 28s 79ms/step - loss: 2.2972 - accuracy: 0.5224 - top-5-accuracy: 0.8284 - val_loss: 2.6008 - val_accuracy: 0.4358 - val_top-5-accuracy: 0.7592\n",
            "Epoch 19/30\n",
            "352/352 [==============================] - 28s 79ms/step - loss: 2.2702 - accuracy: 0.5311 - top-5-accuracy: 0.8336 - val_loss: 2.5143 - val_accuracy: 0.4736 - val_top-5-accuracy: 0.7760\n",
            "Epoch 20/30\n",
            "352/352 [==============================] - 28s 79ms/step - loss: 2.2494 - accuracy: 0.5369 - top-5-accuracy: 0.8382 - val_loss: 2.5424 - val_accuracy: 0.4548 - val_top-5-accuracy: 0.7716\n",
            "Epoch 21/30\n",
            "352/352 [==============================] - 28s 79ms/step - loss: 2.2300 - accuracy: 0.5426 - top-5-accuracy: 0.8415 - val_loss: 2.5018 - val_accuracy: 0.4730 - val_top-5-accuracy: 0.7854\n",
            "Epoch 22/30\n",
            "352/352 [==============================] - 28s 79ms/step - loss: 2.2091 - accuracy: 0.5468 - top-5-accuracy: 0.8476 - val_loss: 2.4526 - val_accuracy: 0.4768 - val_top-5-accuracy: 0.7894\n",
            "Epoch 23/30\n",
            "352/352 [==============================] - 28s 78ms/step - loss: 2.1826 - accuracy: 0.5560 - top-5-accuracy: 0.8530 - val_loss: 2.4486 - val_accuracy: 0.4838 - val_top-5-accuracy: 0.7938\n",
            "Epoch 24/30\n",
            "352/352 [==============================] - 28s 78ms/step - loss: 2.1658 - accuracy: 0.5629 - top-5-accuracy: 0.8546 - val_loss: 2.5105 - val_accuracy: 0.4702 - val_top-5-accuracy: 0.7814\n",
            "Epoch 25/30\n",
            "352/352 [==============================] - 28s 80ms/step - loss: 2.1495 - accuracy: 0.5670 - top-5-accuracy: 0.8592 - val_loss: 2.5075 - val_accuracy: 0.4672 - val_top-5-accuracy: 0.7780\n",
            "Epoch 26/30\n",
            "352/352 [==============================] - 28s 80ms/step - loss: 2.1351 - accuracy: 0.5727 - top-5-accuracy: 0.8635 - val_loss: 2.5336 - val_accuracy: 0.4708 - val_top-5-accuracy: 0.7758\n",
            "Epoch 27/30\n",
            "352/352 [==============================] - 28s 80ms/step - loss: 2.1237 - accuracy: 0.5754 - top-5-accuracy: 0.8658 - val_loss: 2.4436 - val_accuracy: 0.4930 - val_top-5-accuracy: 0.7920\n",
            "Epoch 28/30\n",
            "352/352 [==============================] - 28s 80ms/step - loss: 2.1080 - accuracy: 0.5823 - top-5-accuracy: 0.8692 - val_loss: 2.4589 - val_accuracy: 0.4882 - val_top-5-accuracy: 0.7982\n",
            "Epoch 29/30\n",
            "352/352 [==============================] - 28s 80ms/step - loss: 2.0867 - accuracy: 0.5861 - top-5-accuracy: 0.8727 - val_loss: 2.4796 - val_accuracy: 0.4776 - val_top-5-accuracy: 0.7916\n",
            "Epoch 30/30\n",
            "352/352 [==============================] - 28s 79ms/step - loss: 2.0757 - accuracy: 0.5898 - top-5-accuracy: 0.8734 - val_loss: 2.4764 - val_accuracy: 0.4820 - val_top-5-accuracy: 0.7904\n",
            "313/313 [==============================] - 5s 17ms/step - loss: 2.4246 - accuracy: 0.5005 - top-5-accuracy: 0.7957\n",
            "Test accuracy: 50.05%\n",
            "Test top 5 accuracy: 79.57%\n"
          ]
        }
      ]
    },
    {
      "cell_type": "code",
      "metadata": {
        "id": "QzOWQZyEUH92"
      },
      "source": [
        "from google.colab import files"
      ],
      "execution_count": null,
      "outputs": []
    },
    {
      "cell_type": "code",
      "metadata": {
        "colab": {
          "base_uri": "https://localhost:8080/",
          "height": 313
        },
        "id": "ZNlrdquaRIMv",
        "outputId": "ad1072bf-91e1-428e-ea32-adf8a8852336"
      },
      "source": [
        "plt.plot(history.history[\"loss\"], label=\"train_loss\")\n",
        "plt.plot(history.history[\"val_loss\"], label=\"val_loss\")\n",
        "plt.xlabel(\"Epochs\")\n",
        "plt.ylabel(\"Loss\")\n",
        "plt.title(\"Train and Validation Losses Over Epochs\", fontsize=14)\n",
        "plt.legend()\n",
        "plt.grid()\n",
        "plt.show()\n",
        "plt.savefig('CCT100L.png')\n",
        "files.download('CCT100L.png')"
      ],
      "execution_count": null,
      "outputs": [
        {
          "output_type": "display_data",
          "data": {
            "image/png": "[encoded data removed]",
            "text/plain": [
              "<Figure size 432x288 with 1 Axes>"
            ]
          },
          "metadata": {
            "needs_background": "light"
          }
        },
        {
          "output_type": "display_data",
          "data": {
            "application/javascript": [
              "\n",
              "    async function download(id, filename, size) {\n",
              "      if (!google.colab.kernel.accessAllowed) {\n",
              "        return;\n",
              "      }\n",
              "      const div = document.createElement('div');\n",
              "      const label = document.createElement('label');\n",
              "      label.textContent = `Downloading \"${filename}\": `;\n",
              "      div.appendChild(label);\n",
              "      const progress = document.createElement('progress');\n",
              "      progress.max = size;\n",
              "      div.appendChild(progress);\n",
              "      document.body.appendChild(div);\n",
              "\n",
              "      const buffers = [];\n",
              "      let downloaded = 0;\n",
              "\n",
              "      const channel = await google.colab.kernel.comms.open(id);\n",
              "      // Send a message to notify the kernel that we're ready.\n",
              "      channel.send({})\n",
              "\n",
              "      for await (const message of channel.messages) {\n",
              "        // Send a message to notify the kernel that we're ready.\n",
              "        channel.send({})\n",
              "        if (message.buffers) {\n",
              "          for (const buffer of message.buffers) {\n",
              "            buffers.push(buffer);\n",
              "            downloaded += buffer.byteLength;\n",
              "            progress.value = downloaded;\n",
              "          }\n",
              "        }\n",
              "      }\n",
              "      const blob = new Blob(buffers, {type: 'application/binary'});\n",
              "      const a = document.createElement('a');\n",
              "      a.href = window.URL.createObjectURL(blob);\n",
              "      a.download = filename;\n",
              "      div.appendChild(a);\n",
              "      a.click();\n",
              "      div.remove();\n",
              "    }\n",
              "  "
            ],
            "text/plain": [
              "<IPython.core.display.Javascript object>"
            ]
          },
          "metadata": {}
        },
        {
          "output_type": "display_data",
          "data": {
            "application/javascript": [
              "download(\"download_d4183312-52c9-41b4-bd47-a6688b7792ec\", \"CCT100L.png\", 1273)"
            ],
            "text/plain": [
              "<IPython.core.display.Javascript object>"
            ]
          },
          "metadata": {}
        },
        {
          "output_type": "display_data",
          "data": {
            "text/plain": [
              "<Figure size 432x288 with 0 Axes>"
            ]
          },
          "metadata": {}
        }
      ]
    },
    {
      "cell_type": "code",
      "metadata": {
        "colab": {
          "base_uri": "https://localhost:8080/",
          "height": 312
        },
        "id": "tuOeCEisRKig",
        "outputId": "d6c2a172-40fe-40ab-d092-78b7bb6458da"
      },
      "source": [
        "plt.plot(history.history[\"accuracy\"], label=\"accuracy\")\n",
        "plt.plot(history.history[\"val_accuracy\"], label=\"val_accuracy\")\n",
        "plt.xlabel(\"Epochs\")\n",
        "plt.ylabel(\"Accuracy\")\n",
        "plt.title(\"Training and Validation Accuracy Over Epochs\", fontsize=12)\n",
        "plt.legend()\n",
        "plt.grid()\n",
        "plt.show()\n",
        "plt.savefig('CCT100Acc.png')\n",
        "files.download('CCT100Acc.png')"
      ],
      "execution_count": null,
      "outputs": [
        {
          "output_type": "display_data",
          "data": {
            "image/png": "[encoded data removed]",
            "text/plain": [
              "<Figure size 432x288 with 1 Axes>"
            ]
          },
          "metadata": {
            "needs_background": "light"
          }
        },
        {
          "output_type": "display_data",
          "data": {
            "application/javascript": [
              "\n",
              "    async function download(id, filename, size) {\n",
              "      if (!google.colab.kernel.accessAllowed) {\n",
              "        return;\n",
              "      }\n",
              "      const div = document.createElement('div');\n",
              "      const label = document.createElement('label');\n",
              "      label.textContent = `Downloading \"${filename}\": `;\n",
              "      div.appendChild(label);\n",
              "      const progress = document.createElement('progress');\n",
              "      progress.max = size;\n",
              "      div.appendChild(progress);\n",
              "      document.body.appendChild(div);\n",
              "\n",
              "      const buffers = [];\n",
              "      let downloaded = 0;\n",
              "\n",
              "      const channel = await google.colab.kernel.comms.open(id);\n",
              "      // Send a message to notify the kernel that we're ready.\n",
              "      channel.send({})\n",
              "\n",
              "      for await (const message of channel.messages) {\n",
              "        // Send a message to notify the kernel that we're ready.\n",
              "        channel.send({})\n",
              "        if (message.buffers) {\n",
              "          for (const buffer of message.buffers) {\n",
              "            buffers.push(buffer);\n",
              "            downloaded += buffer.byteLength;\n",
              "            progress.value = downloaded;\n",
              "          }\n",
              "        }\n",
              "      }\n",
              "      const blob = new Blob(buffers, {type: 'application/binary'});\n",
              "      const a = document.createElement('a');\n",
              "      a.href = window.URL.createObjectURL(blob);\n",
              "      a.download = filename;\n",
              "      div.appendChild(a);\n",
              "      a.click();\n",
              "      div.remove();\n",
              "    }\n",
              "  "
            ],
            "text/plain": [
              "<IPython.core.display.Javascript object>"
            ]
          },
          "metadata": {}
        },
        {
          "output_type": "display_data",
          "data": {
            "application/javascript": [
              "download(\"download_1ae0bb79-f447-4584-a871-92eb4c236e83\", \"CCT100Acc.png\", 1273)"
            ],
            "text/plain": [
              "<IPython.core.display.Javascript object>"
            ]
          },
          "metadata": {}
        },
        {
          "output_type": "display_data",
          "data": {
            "text/plain": [
              "<Figure size 432x288 with 0 Axes>"
            ]
          },
          "metadata": {}
        }
      ]
    },
    {
      "cell_type": "code",
      "metadata": {
        "colab": {
          "base_uri": "https://localhost:8080/",
          "height": 313
        },
        "id": "C10ZlmRmRoOk",
        "outputId": "b723ddc9-1682-4e59-f07d-713f09555f39"
      },
      "source": [
        "plt.plot(history.history[\"accuracy\"], label=\"accuracy\")\n",
        "plt.plot(history.history[\"val_accuracy\"], label=\"val_accuracy\")\n",
        "plt.plot(history.history[\"val_top-5-accuracy\"], label=\"val_top-5-accuracy\")\n",
        "plt.plot(history.history[\"top-5-accuracy\"], label=\"top-5-accuracy\")\n",
        "plt.xlabel(\"Epochs\")\n",
        "plt.ylabel(\"Accuracy\")\n",
        "plt.title(\"Training, Validation and Top-5 Validation accuracy Over Epochs\", fontsize=14)\n",
        "plt.legend()\n",
        "plt.grid()\n",
        "plt.show()\n",
        "plt.savefig('CCT100Acc3.png')\n",
        "files.download('CCT100Acc3.png')"
      ],
      "execution_count": null,
      "outputs": [
        {
          "output_type": "display_data",
          "data": {
            "image/png": "[encoded data removed]",
            "text/plain": [
              "<Figure size 432x288 with 1 Axes>"
            ]
          },
          "metadata": {
            "needs_background": "light"
          }
        },
        {
          "output_type": "display_data",
          "data": {
            "application/javascript": [
              "\n",
              "    async function download(id, filename, size) {\n",
              "      if (!google.colab.kernel.accessAllowed) {\n",
              "        return;\n",
              "      }\n",
              "      const div = document.createElement('div');\n",
              "      const label = document.createElement('label');\n",
              "      label.textContent = `Downloading \"${filename}\": `;\n",
              "      div.appendChild(label);\n",
              "      const progress = document.createElement('progress');\n",
              "      progress.max = size;\n",
              "      div.appendChild(progress);\n",
              "      document.body.appendChild(div);\n",
              "\n",
              "      const buffers = [];\n",
              "      let downloaded = 0;\n",
              "\n",
              "      const channel = await google.colab.kernel.comms.open(id);\n",
              "      // Send a message to notify the kernel that we're ready.\n",
              "      channel.send({})\n",
              "\n",
              "      for await (const message of channel.messages) {\n",
              "        // Send a message to notify the kernel that we're ready.\n",
              "        channel.send({})\n",
              "        if (message.buffers) {\n",
              "          for (const buffer of message.buffers) {\n",
              "            buffers.push(buffer);\n",
              "            downloaded += buffer.byteLength;\n",
              "            progress.value = downloaded;\n",
              "          }\n",
              "        }\n",
              "      }\n",
              "      const blob = new Blob(buffers, {type: 'application/binary'});\n",
              "      const a = document.createElement('a');\n",
              "      a.href = window.URL.createObjectURL(blob);\n",
              "      a.download = filename;\n",
              "      div.appendChild(a);\n",
              "      a.click();\n",
              "      div.remove();\n",
              "    }\n",
              "  "
            ],
            "text/plain": [
              "<IPython.core.display.Javascript object>"
            ]
          },
          "metadata": {}
        },
        {
          "output_type": "display_data",
          "data": {
            "application/javascript": [
              "download(\"download_dacaaaac-bb26-4e33-9508-9fcfa308a5e9\", \"CCT100Acc3.png\", 1273)"
            ],
            "text/plain": [
              "<IPython.core.display.Javascript object>"
            ]
          },
          "metadata": {}
        },
        {
          "output_type": "display_data",
          "data": {
            "text/plain": [
              "<Figure size 432x288 with 0 Axes>"
            ]
          },
          "metadata": {}
        }
      ]
    },
    {
      "cell_type": "code",
      "metadata": {
        "id": "uIulzCs5Kb-2"
      },
      "source": [
        ""
      ],
      "execution_count": null,
      "outputs": []
    }
  ]
}