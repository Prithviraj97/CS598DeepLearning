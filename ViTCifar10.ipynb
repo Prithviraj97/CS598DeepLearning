{
  "nbformat": 4,
  "nbformat_minor": 0,
  "metadata": {
    "colab": {
      "name": "ViTCifar10.ipynb",
      "provenance": [],
      "collapsed_sections": []
    },
    "kernelspec": {
      "name": "python3",
      "display_name": "Python 3"
    },
    "language_info": {
      "name": "python"
    },
    "accelerator": "GPU"
  },
  "cells": [
    {
      "cell_type": "code",
      "metadata": {
        "colab": {
          "base_uri": "https://localhost:8080/"
        },
        "id": "uWQXguAjggvg",
        "outputId": "972bf66d-0d91-41ad-b16e-163ac4082414"
      },
      "source": [
        "!pip install -U tensorflow-addons"
      ],
      "execution_count": null,
      "outputs": [
        {
          "output_type": "stream",
          "name": "stdout",
          "text": [
            "Collecting tensorflow-addons\n",
            "  Downloading tensorflow_addons-0.15.0-cp37-cp37m-manylinux_2_12_x86_64.manylinux2010_x86_64.whl (1.1 MB)\n",
            "\u001b[K     |████████████████████████████████| 1.1 MB 5.3 MB/s \n",
            "\u001b[?25hRequirement already satisfied: typeguard>=2.7 in /usr/local/lib/python3.7/dist-packages (from tensorflow-addons) (2.7.1)\n",
            "Installing collected packages: tensorflow-addons\n",
            "Successfully installed tensorflow-addons-0.15.0\n"
          ]
        }
      ]
    },
    {
      "cell_type": "code",
      "metadata": {
        "id": "cdljFMywkmtV"
      },
      "source": [
        "import numpy as np\n",
        "import tensorflow as tf\n",
        "from tensorflow import keras\n",
        "from tensorflow.keras import layers\n",
        "import tensorflow_addons as tfa"
      ],
      "execution_count": null,
      "outputs": []
    },
    {
      "cell_type": "code",
      "metadata": {
        "colab": {
          "base_uri": "https://localhost:8080/"
        },
        "id": "-1QUr0W4kq1E",
        "outputId": "5937ceac-2336-4fa7-96a5-104a419db245"
      },
      "source": [
        "num_classes = 10\n",
        "input_shape = (32, 32, 3)\n",
        "\n",
        "(x_train, y_train), (x_test, y_test) = keras.datasets.cifar10.load_data()\n",
        "\n",
        "print(f\"x_train shape: {x_train.shape} - y_train shape: {y_train.shape}\")\n",
        "print(f\"x_test shape: {x_test.shape} - y_test shape: {y_test.shape}\")"
      ],
      "execution_count": null,
      "outputs": [
        {
          "output_type": "stream",
          "name": "stdout",
          "text": [
            "Downloading data from https://www.cs.toronto.edu/~kriz/cifar-10-python.tar.gz\n",
            "170500096/170498071 [==============================] - 3s 0us/step\n",
            "170508288/170498071 [==============================] - 3s 0us/step\n",
            "x_train shape: (50000, 32, 32, 3) - y_train shape: (50000, 1)\n",
            "x_test shape: (10000, 32, 32, 3) - y_test shape: (10000, 1)\n"
          ]
        }
      ]
    },
    {
      "cell_type": "code",
      "metadata": {
        "id": "S-n7SIkwkyJr"
      },
      "source": [
        "learning_rate = 0.001\n",
        "weight_decay = 0.0001\n",
        "batch_size = 128\n",
        "num_epochs = 60\n",
        "image_size = 32  \n",
        "patch_size = 4  # Size of the patches to be extract from the input images\n",
        "num_patches = (image_size // patch_size) ** 2\n",
        "projection_dim = 128\n",
        "num_heads = 2\n",
        "transformer_units = [\n",
        "    projection_dim,\n",
        "    projection_dim,\n",
        "]  # Size of the transformer layers\n",
        "transformer_layers = 2\n",
        "mlp_head_units = [projection_dim * 4, projection_dim * 2]  # Size of the dense layers of the final classifier"
      ],
      "execution_count": null,
      "outputs": []
    },
    {
      "cell_type": "code",
      "metadata": {
        "id": "3s6TdZuFk3E1"
      },
      "source": [
        "data_augmentation = keras.Sequential(\n",
        "    [\n",
        "        layers.experimental.preprocessing.Rescaling(scale=1./255),\n",
        "        layers.experimental.preprocessing.RandomCrop(image_size, image_size),\n",
        "        layers.experimental.preprocessing.RandomFlip(\"horizontal\")\n",
        "    ],\n",
        "    name=\"data_augmentation\"\n",
        ")"
      ],
      "execution_count": null,
      "outputs": []
    },
    {
      "cell_type": "code",
      "metadata": {
        "id": "DO0Vh8yNk7Ks"
      },
      "source": [
        "def mlp(x, hidden_units, dropout_rate):\n",
        "    for units in hidden_units:\n",
        "        x = layers.Dense(units, activation=tf.nn.gelu)(x)\n",
        "        x = layers.Dropout(dropout_rate)(x)\n",
        "    return x"
      ],
      "execution_count": null,
      "outputs": []
    },
    {
      "cell_type": "code",
      "metadata": {
        "id": "61js3Vouk-FV"
      },
      "source": [
        "class Patches(layers.Layer):\n",
        "    def __init__(self, patch_size):\n",
        "        super(Patches, self).__init__()\n",
        "        self.patch_size = patch_size\n",
        "\n",
        "    def call(self, images):\n",
        "        batch_size = tf.shape(images)[0]\n",
        "        patches = tf.image.extract_patches(\n",
        "            images=images,\n",
        "            sizes=[1, self.patch_size, self.patch_size, 1],\n",
        "            strides=[1, self.patch_size, self.patch_size, 1],\n",
        "            rates=[1, 1, 1, 1],\n",
        "            padding=\"VALID\",\n",
        "        )\n",
        "        patch_dims = patches.shape[-1]\n",
        "        patches = tf.reshape(patches, [batch_size, -1, patch_dims])\n",
        "        return patches"
      ],
      "execution_count": null,
      "outputs": []
    },
    {
      "cell_type": "code",
      "metadata": {
        "colab": {
          "base_uri": "https://localhost:8080/",
          "height": 547
        },
        "id": "Y2JB53AslBqN",
        "outputId": "769d8200-e3dd-4cbd-a67c-57beda4de44a"
      },
      "source": [
        "import matplotlib.pyplot as plt\n",
        "\n",
        "plt.figure(figsize=(4, 4))\n",
        "image = x_train[np.random.choice(range(x_train.shape[0]))]\n",
        "plt.imshow(image.astype(\"uint8\"))\n",
        "plt.axis(\"off\")\n",
        "plt.savefig(\"original.png\", dpi=300, bbox_inches=\"tight\")\n",
        "\n",
        "resized_image = tf.image.resize(\n",
        "    tf.convert_to_tensor([image]), size=(image_size, image_size)\n",
        ")\n",
        "patches = Patches(patch_size)(resized_image)\n",
        "print(f\"Image size: {image_size} X {image_size}\")\n",
        "print(f\"Patch size: {patch_size} X {patch_size}\")\n",
        "print(f\"Patches per image: {patches.shape[1]}\")\n",
        "print(f\"Elements per patch: {patches.shape[-1]}\")\n",
        "\n",
        "n = int(np.sqrt(patches.shape[1]))\n",
        "plt.figure(figsize=(4, 4))\n",
        "for i, patch in enumerate(patches[0]):\n",
        "    ax = plt.subplot(n, n, i + 1)\n",
        "    patch_img = tf.reshape(patch, (patch_size, patch_size, 3))\n",
        "    plt.imshow(patch_img.numpy().astype(\"uint8\"))\n",
        "    plt.axis(\"off\")\n",
        "plt.savefig(\"patched.png\", dpi=300, bbox_inches=\"tight\")"
      ],
      "execution_count": null,
      "outputs": [
        {
          "output_type": "stream",
          "name": "stdout",
          "text": [
            "Image size: 32 X 32\n",
            "Patch size: 4 X 4\n",
            "Patches per image: 64\n",
            "Elements per patch: 48\n"
          ]
        },
        {
          "output_type": "display_data",
          "data": {
            "image/png": "[encoded data removed]",
            "text/plain": [
              "<Figure size 288x288 with 1 Axes>"
            ]
          },
          "metadata": {
            "needs_background": "light"
          }
        },
        {
          "output_type": "display_data",
          "data": {
            "image/png": "[encoded data removed]",
            "text/plain": [
              "<Figure size 288x288 with 64 Axes>"
            ]
          },
          "metadata": {
            "needs_background": "light"
          }
        }
      ]
    },
    {
      "cell_type": "code",
      "metadata": {
        "id": "fXn4tavLlLLU"
      },
      "source": [
        "#Patch Encoder\n",
        "class PatchEncoder(layers.Layer):\n",
        "    def __init__(self, num_patches, projection_dim):\n",
        "        super(PatchEncoder, self).__init__()\n",
        "        self.num_patches = num_patches\n",
        "        self.projection = layers.Dense(units=projection_dim)\n",
        "        self.position_embedding = layers.Embedding(\n",
        "            input_dim=num_patches, output_dim=projection_dim\n",
        "        )\n",
        "\n",
        "    def call(self, patch):\n",
        "        positions = tf.range(start=0, limit=self.num_patches, delta=1)\n",
        "        encoded = self.projection(patch) + self.position_embedding(positions)\n",
        "        return encoded"
      ],
      "execution_count": null,
      "outputs": []
    },
    {
      "cell_type": "code",
      "metadata": {
        "id": "Eb6gabyZlW2E"
      },
      "source": [
        "def create_vit_classifier():\n",
        "    inputs = layers.Input(shape=input_shape)\n",
        "    # Augment data.\n",
        "    augmented = data_augmentation(inputs)\n",
        "    # Create patches.\n",
        "    patches = Patches(patch_size)(augmented)\n",
        "    # Encode patches.\n",
        "    encoded_patches = PatchEncoder(num_patches, projection_dim)(patches)\n",
        "\n",
        "    # Create multiple layers of the Transformer block.\n",
        "    for _ in range(transformer_layers):\n",
        "        # Layer normalization 1.\n",
        "        x1 = layers.LayerNormalization(epsilon=1e-6)(encoded_patches)\n",
        "        # Create a multi-head attention layer.\n",
        "        attention_output = layers.MultiHeadAttention(\n",
        "            num_heads=num_heads, key_dim=projection_dim, dropout=0.1\n",
        "        )(x1, x1)\n",
        "        # Skip connection 1.\n",
        "        x2 = layers.Add()([attention_output, encoded_patches])\n",
        "        # Layer normalization 2.\n",
        "        x3 = layers.LayerNormalization(epsilon=1e-6)(x2)\n",
        "        # MLP.\n",
        "        x3 = mlp(x3, hidden_units=transformer_units, dropout_rate=0.1)\n",
        "        # Skip connection 2.\n",
        "        encoded_patches = layers.Add()([x3, x2])\n",
        "\n",
        "    # Create a [batch_size, projection_dim] tensor.\n",
        "    representation = layers.LayerNormalization(epsilon=1e-6)(encoded_patches)\n",
        "    representation = layers.Flatten()(representation)\n",
        "    representation = layers.Dropout(0.5)(representation)\n",
        "    # Add MLP.\n",
        "    features = mlp(representation, hidden_units=mlp_head_units, dropout_rate=0.5)\n",
        "    # Classify outputs.\n",
        "    logits = layers.Dense(num_classes)(features)\n",
        "    # Create the Keras model.\n",
        "    model = keras.Model(inputs=inputs, outputs=logits)\n",
        "    return model"
      ],
      "execution_count": null,
      "outputs": []
    },
    {
      "cell_type": "code",
      "metadata": {
        "colab": {
          "base_uri": "https://localhost:8080/"
        },
        "id": "Haz0yYoMlZVf",
        "outputId": "7eeabbe0-530a-48e9-c07d-9287b76b676d"
      },
      "source": [
        "create_vit_classifier().count_params()/1e6"
      ],
      "execution_count": null,
      "outputs": [
        {
          "output_type": "execute_result",
          "data": {
            "text/plain": [
              "4.674442"
            ]
          },
          "metadata": {},
          "execution_count": 11
        }
      ]
    },
    {
      "cell_type": "code",
      "metadata": {
        "colab": {
          "base_uri": "https://localhost:8080/"
        },
        "id": "qpiJesnGleHN",
        "outputId": "bac4c8ff-6819-446c-cec8-d07270caa71e"
      },
      "source": [
        "def run_experiment(model):\n",
        "    optimizer = tfa.optimizers.AdamW(\n",
        "        learning_rate=learning_rate, weight_decay=weight_decay\n",
        "    )\n",
        "\n",
        "    model.compile(\n",
        "        optimizer=optimizer,\n",
        "        loss=keras.losses.SparseCategoricalCrossentropy(from_logits=True),\n",
        "        metrics=[\n",
        "            keras.metrics.SparseCategoricalAccuracy(name=\"accuracy\"),\n",
        "            keras.metrics.SparseTopKCategoricalAccuracy(5, name=\"top-5-accuracy\"),\n",
        "        ],\n",
        "    )\n",
        "\n",
        "    checkpoint_filepath = \"/tmp/checkpoint\"\n",
        "    checkpoint_callback = keras.callbacks.ModelCheckpoint(\n",
        "        checkpoint_filepath,\n",
        "        monitor=\"val_accuracy\",\n",
        "        save_best_only=True,\n",
        "        save_weights_only=True,\n",
        "    )\n",
        "\n",
        "    history = model.fit(\n",
        "        x=x_train,\n",
        "        y=y_train,\n",
        "        batch_size=batch_size,\n",
        "        epochs=num_epochs,\n",
        "        validation_split=0.1,\n",
        "        callbacks=[checkpoint_callback],\n",
        "    )\n",
        "\n",
        "    model.load_weights(checkpoint_filepath)\n",
        "    _, accuracy, top_5_accuracy = model.evaluate(x_test, y_test)\n",
        "    print(f\"Test accuracy: {round(accuracy * 100, 2)}%\")\n",
        "    print(f\"Test top 5 accuracy: {round(top_5_accuracy * 100, 2)}%\")\n",
        "\n",
        "    return history\n",
        "\n",
        "\n",
        "vit_classifier = create_vit_classifier()\n",
        "history = run_experiment(vit_classifier)"
      ],
      "execution_count": null,
      "outputs": [
        {
          "output_type": "stream",
          "name": "stdout",
          "text": [
            "Epoch 1/60\n",
            "352/352 [==============================] - 32s 73ms/step - loss: 2.3511 - accuracy: 0.0989 - top-5-accuracy: 0.4956 - val_loss: 2.3027 - val_accuracy: 0.1038 - val_top-5-accuracy: 0.4920\n",
            "Epoch 2/60\n",
            "352/352 [==============================] - 25s 70ms/step - loss: 2.3029 - accuracy: 0.0987 - top-5-accuracy: 0.4951 - val_loss: 2.3027 - val_accuracy: 0.0958 - val_top-5-accuracy: 0.5028\n",
            "Epoch 3/60\n",
            "352/352 [==============================] - 25s 70ms/step - loss: 2.3029 - accuracy: 0.0967 - top-5-accuracy: 0.4974 - val_loss: 2.3028 - val_accuracy: 0.0976 - val_top-5-accuracy: 0.4960\n",
            "Epoch 4/60\n",
            "352/352 [==============================] - 25s 70ms/step - loss: 2.3028 - accuracy: 0.0994 - top-5-accuracy: 0.4998 - val_loss: 2.3033 - val_accuracy: 0.0950 - val_top-5-accuracy: 0.4928\n",
            "Epoch 5/60\n",
            "352/352 [==============================] - 24s 70ms/step - loss: 2.3030 - accuracy: 0.0983 - top-5-accuracy: 0.4984 - val_loss: 2.3027 - val_accuracy: 0.0958 - val_top-5-accuracy: 0.5036\n",
            "Epoch 6/60\n",
            "352/352 [==============================] - 24s 69ms/step - loss: 2.3029 - accuracy: 0.0978 - top-5-accuracy: 0.4984 - val_loss: 2.3023 - val_accuracy: 0.1038 - val_top-5-accuracy: 0.5134\n",
            "Epoch 7/60\n",
            "352/352 [==============================] - 24s 70ms/step - loss: 2.3035 - accuracy: 0.0966 - top-5-accuracy: 0.4953 - val_loss: 2.3030 - val_accuracy: 0.0976 - val_top-5-accuracy: 0.4960\n",
            "Epoch 8/60\n",
            "352/352 [==============================] - 24s 69ms/step - loss: 2.3033 - accuracy: 0.0984 - top-5-accuracy: 0.4958 - val_loss: 2.3031 - val_accuracy: 0.0970 - val_top-5-accuracy: 0.4914\n",
            "Epoch 9/60\n",
            "352/352 [==============================] - 25s 70ms/step - loss: 2.3030 - accuracy: 0.0989 - top-5-accuracy: 0.4981 - val_loss: 2.3028 - val_accuracy: 0.0976 - val_top-5-accuracy: 0.5004\n",
            "Epoch 10/60\n",
            "352/352 [==============================] - 24s 70ms/step - loss: 2.3030 - accuracy: 0.0981 - top-5-accuracy: 0.4951 - val_loss: 2.3031 - val_accuracy: 0.0958 - val_top-5-accuracy: 0.4840\n",
            "Epoch 11/60\n",
            "352/352 [==============================] - 25s 70ms/step - loss: 2.3029 - accuracy: 0.0993 - top-5-accuracy: 0.4992 - val_loss: 2.3024 - val_accuracy: 0.0976 - val_top-5-accuracy: 0.5106\n",
            "Epoch 12/60\n",
            "352/352 [==============================] - 24s 70ms/step - loss: 2.3029 - accuracy: 0.0976 - top-5-accuracy: 0.4982 - val_loss: 2.3031 - val_accuracy: 0.0970 - val_top-5-accuracy: 0.4910\n",
            "Epoch 13/60\n",
            "352/352 [==============================] - 24s 70ms/step - loss: 2.3030 - accuracy: 0.0976 - top-5-accuracy: 0.4970 - val_loss: 2.3030 - val_accuracy: 0.0958 - val_top-5-accuracy: 0.4840\n",
            "Epoch 14/60\n",
            "352/352 [==============================] - 24s 69ms/step - loss: 2.3028 - accuracy: 0.0982 - top-5-accuracy: 0.5000 - val_loss: 2.3033 - val_accuracy: 0.0970 - val_top-5-accuracy: 0.4912\n",
            "Epoch 15/60\n",
            "352/352 [==============================] - 24s 69ms/step - loss: 2.3028 - accuracy: 0.0991 - top-5-accuracy: 0.5006 - val_loss: 2.3029 - val_accuracy: 0.0970 - val_top-5-accuracy: 0.4976\n",
            "Epoch 16/60\n",
            "352/352 [==============================] - 24s 69ms/step - loss: 2.3032 - accuracy: 0.0982 - top-5-accuracy: 0.4954 - val_loss: 2.3030 - val_accuracy: 0.0950 - val_top-5-accuracy: 0.4922\n",
            "Epoch 17/60\n",
            "352/352 [==============================] - 24s 69ms/step - loss: 2.3030 - accuracy: 0.0989 - top-5-accuracy: 0.4975 - val_loss: 2.3028 - val_accuracy: 0.1024 - val_top-5-accuracy: 0.4992\n",
            "Epoch 18/60\n",
            "352/352 [==============================] - 25s 70ms/step - loss: 2.3039 - accuracy: 0.0991 - top-5-accuracy: 0.5006 - val_loss: 2.2590 - val_accuracy: 0.1422 - val_top-5-accuracy: 0.6306\n",
            "Epoch 19/60\n",
            "352/352 [==============================] - 25s 70ms/step - loss: 2.0138 - accuracy: 0.2514 - top-5-accuracy: 0.7672 - val_loss: 1.8764 - val_accuracy: 0.3050 - val_top-5-accuracy: 0.8216\n",
            "Epoch 20/60\n",
            "352/352 [==============================] - 24s 69ms/step - loss: 1.7667 - accuracy: 0.3533 - top-5-accuracy: 0.8575 - val_loss: 1.5902 - val_accuracy: 0.4196 - val_top-5-accuracy: 0.8998\n",
            "Epoch 21/60\n",
            "352/352 [==============================] - 24s 70ms/step - loss: 1.6241 - accuracy: 0.4111 - top-5-accuracy: 0.8928 - val_loss: 1.4958 - val_accuracy: 0.4692 - val_top-5-accuracy: 0.9170\n",
            "Epoch 22/60\n",
            "352/352 [==============================] - 25s 70ms/step - loss: 1.5286 - accuracy: 0.4469 - top-5-accuracy: 0.9082 - val_loss: 1.4565 - val_accuracy: 0.4720 - val_top-5-accuracy: 0.9202\n",
            "Epoch 23/60\n",
            "352/352 [==============================] - 25s 70ms/step - loss: 1.4555 - accuracy: 0.4758 - top-5-accuracy: 0.9197 - val_loss: 1.3347 - val_accuracy: 0.5216 - val_top-5-accuracy: 0.9356\n",
            "Epoch 24/60\n",
            "352/352 [==============================] - 24s 69ms/step - loss: 1.3854 - accuracy: 0.5001 - top-5-accuracy: 0.9291 - val_loss: 1.3634 - val_accuracy: 0.5122 - val_top-5-accuracy: 0.9316\n",
            "Epoch 25/60\n",
            "352/352 [==============================] - 25s 70ms/step - loss: 1.3386 - accuracy: 0.5182 - top-5-accuracy: 0.9356 - val_loss: 1.2430 - val_accuracy: 0.5492 - val_top-5-accuracy: 0.9516\n",
            "Epoch 26/60\n",
            "352/352 [==============================] - 24s 70ms/step - loss: 1.2943 - accuracy: 0.5347 - top-5-accuracy: 0.9411 - val_loss: 1.2414 - val_accuracy: 0.5640 - val_top-5-accuracy: 0.9506\n",
            "Epoch 27/60\n",
            "352/352 [==============================] - 25s 70ms/step - loss: 1.2682 - accuracy: 0.5458 - top-5-accuracy: 0.9426 - val_loss: 1.1870 - val_accuracy: 0.5666 - val_top-5-accuracy: 0.9548\n",
            "Epoch 28/60\n",
            "352/352 [==============================] - 25s 70ms/step - loss: 1.2344 - accuracy: 0.5588 - top-5-accuracy: 0.9479 - val_loss: 1.1648 - val_accuracy: 0.5806 - val_top-5-accuracy: 0.9596\n",
            "Epoch 29/60\n",
            "352/352 [==============================] - 25s 70ms/step - loss: 1.2119 - accuracy: 0.5653 - top-5-accuracy: 0.9512 - val_loss: 1.1230 - val_accuracy: 0.5938 - val_top-5-accuracy: 0.9618\n",
            "Epoch 30/60\n",
            "352/352 [==============================] - 25s 70ms/step - loss: 1.1884 - accuracy: 0.5748 - top-5-accuracy: 0.9522 - val_loss: 1.1261 - val_accuracy: 0.5966 - val_top-5-accuracy: 0.9612\n",
            "Epoch 31/60\n",
            "352/352 [==============================] - 25s 70ms/step - loss: 1.1653 - accuracy: 0.5859 - top-5-accuracy: 0.9540 - val_loss: 1.0941 - val_accuracy: 0.6136 - val_top-5-accuracy: 0.9640\n",
            "Epoch 32/60\n",
            "352/352 [==============================] - 24s 69ms/step - loss: 1.1444 - accuracy: 0.5928 - top-5-accuracy: 0.9582 - val_loss: 1.0704 - val_accuracy: 0.6074 - val_top-5-accuracy: 0.9662\n",
            "Epoch 33/60\n",
            "352/352 [==============================] - 24s 69ms/step - loss: 1.1243 - accuracy: 0.5986 - top-5-accuracy: 0.9583 - val_loss: 1.0965 - val_accuracy: 0.6046 - val_top-5-accuracy: 0.9614\n",
            "Epoch 34/60\n",
            "352/352 [==============================] - 25s 70ms/step - loss: 1.1137 - accuracy: 0.6020 - top-5-accuracy: 0.9594 - val_loss: 1.0565 - val_accuracy: 0.6164 - val_top-5-accuracy: 0.9660\n",
            "Epoch 35/60\n",
            "352/352 [==============================] - 25s 70ms/step - loss: 1.0902 - accuracy: 0.6099 - top-5-accuracy: 0.9617 - val_loss: 1.0595 - val_accuracy: 0.6250 - val_top-5-accuracy: 0.9632\n",
            "Epoch 36/60\n",
            "352/352 [==============================] - 25s 70ms/step - loss: 1.0712 - accuracy: 0.6201 - top-5-accuracy: 0.9636 - val_loss: 1.0520 - val_accuracy: 0.6260 - val_top-5-accuracy: 0.9650\n",
            "Epoch 37/60\n",
            "352/352 [==============================] - 25s 70ms/step - loss: 1.0619 - accuracy: 0.6235 - top-5-accuracy: 0.9634 - val_loss: 1.0303 - val_accuracy: 0.6354 - val_top-5-accuracy: 0.9676\n",
            "Epoch 38/60\n",
            "352/352 [==============================] - 24s 70ms/step - loss: 1.0485 - accuracy: 0.6271 - top-5-accuracy: 0.9650 - val_loss: 1.0376 - val_accuracy: 0.6308 - val_top-5-accuracy: 0.9666\n",
            "Epoch 39/60\n",
            "352/352 [==============================] - 25s 70ms/step - loss: 1.0285 - accuracy: 0.6316 - top-5-accuracy: 0.9673 - val_loss: 1.0252 - val_accuracy: 0.6316 - val_top-5-accuracy: 0.9680\n",
            "Epoch 40/60\n",
            "352/352 [==============================] - 25s 71ms/step - loss: 1.0127 - accuracy: 0.6407 - top-5-accuracy: 0.9677 - val_loss: 1.0124 - val_accuracy: 0.6372 - val_top-5-accuracy: 0.9680\n",
            "Epoch 41/60\n",
            "352/352 [==============================] - 25s 70ms/step - loss: 1.0029 - accuracy: 0.6434 - top-5-accuracy: 0.9679 - val_loss: 1.0105 - val_accuracy: 0.6432 - val_top-5-accuracy: 0.9710\n",
            "Epoch 42/60\n",
            "352/352 [==============================] - 25s 70ms/step - loss: 0.9861 - accuracy: 0.6495 - top-5-accuracy: 0.9705 - val_loss: 0.9694 - val_accuracy: 0.6546 - val_top-5-accuracy: 0.9736\n",
            "Epoch 43/60\n",
            "352/352 [==============================] - 24s 69ms/step - loss: 0.9769 - accuracy: 0.6552 - top-5-accuracy: 0.9704 - val_loss: 1.0001 - val_accuracy: 0.6494 - val_top-5-accuracy: 0.9686\n",
            "Epoch 44/60\n",
            "352/352 [==============================] - 24s 69ms/step - loss: 0.9673 - accuracy: 0.6567 - top-5-accuracy: 0.9707 - val_loss: 0.9681 - val_accuracy: 0.6540 - val_top-5-accuracy: 0.9752\n",
            "Epoch 45/60\n",
            "352/352 [==============================] - 25s 70ms/step - loss: 0.9581 - accuracy: 0.6601 - top-5-accuracy: 0.9718 - val_loss: 0.9700 - val_accuracy: 0.6542 - val_top-5-accuracy: 0.9748\n",
            "Epoch 46/60\n",
            "352/352 [==============================] - 25s 71ms/step - loss: 0.9465 - accuracy: 0.6639 - top-5-accuracy: 0.9737 - val_loss: 0.9598 - val_accuracy: 0.6570 - val_top-5-accuracy: 0.9728\n",
            "Epoch 47/60\n",
            "352/352 [==============================] - 25s 71ms/step - loss: 0.9298 - accuracy: 0.6702 - top-5-accuracy: 0.9740 - val_loss: 0.9467 - val_accuracy: 0.6608 - val_top-5-accuracy: 0.9728\n",
            "Epoch 48/60\n",
            "352/352 [==============================] - 25s 71ms/step - loss: 0.9123 - accuracy: 0.6777 - top-5-accuracy: 0.9758 - val_loss: 0.9632 - val_accuracy: 0.6614 - val_top-5-accuracy: 0.9722\n",
            "Epoch 49/60\n",
            "352/352 [==============================] - 25s 70ms/step - loss: 0.9091 - accuracy: 0.6766 - top-5-accuracy: 0.9763 - val_loss: 0.9493 - val_accuracy: 0.6614 - val_top-5-accuracy: 0.9732\n",
            "Epoch 50/60\n",
            "352/352 [==============================] - 25s 71ms/step - loss: 0.9011 - accuracy: 0.6801 - top-5-accuracy: 0.9765 - val_loss: 0.9149 - val_accuracy: 0.6762 - val_top-5-accuracy: 0.9732\n",
            "Epoch 51/60\n",
            "352/352 [==============================] - 25s 70ms/step - loss: 0.8853 - accuracy: 0.6856 - top-5-accuracy: 0.9770 - val_loss: 0.9169 - val_accuracy: 0.6778 - val_top-5-accuracy: 0.9754\n",
            "Epoch 52/60\n",
            "352/352 [==============================] - 24s 69ms/step - loss: 0.8723 - accuracy: 0.6873 - top-5-accuracy: 0.9784 - val_loss: 0.9173 - val_accuracy: 0.6718 - val_top-5-accuracy: 0.9744\n",
            "Epoch 53/60\n",
            "352/352 [==============================] - 25s 70ms/step - loss: 0.8709 - accuracy: 0.6911 - top-5-accuracy: 0.9772 - val_loss: 0.9062 - val_accuracy: 0.6796 - val_top-5-accuracy: 0.9724\n",
            "Epoch 54/60\n",
            "352/352 [==============================] - 25s 70ms/step - loss: 0.8548 - accuracy: 0.6980 - top-5-accuracy: 0.9793 - val_loss: 0.9031 - val_accuracy: 0.6806 - val_top-5-accuracy: 0.9756\n",
            "Epoch 55/60\n",
            "352/352 [==============================] - 25s 70ms/step - loss: 0.8451 - accuracy: 0.6986 - top-5-accuracy: 0.9797 - val_loss: 0.9040 - val_accuracy: 0.6824 - val_top-5-accuracy: 0.9746\n",
            "Epoch 56/60\n",
            "352/352 [==============================] - 25s 71ms/step - loss: 0.8413 - accuracy: 0.7026 - top-5-accuracy: 0.9799 - val_loss: 0.8899 - val_accuracy: 0.6832 - val_top-5-accuracy: 0.9752\n",
            "Epoch 57/60\n",
            "352/352 [==============================] - 25s 72ms/step - loss: 0.8302 - accuracy: 0.7071 - top-5-accuracy: 0.9804 - val_loss: 0.8725 - val_accuracy: 0.6886 - val_top-5-accuracy: 0.9772\n",
            "Epoch 58/60\n",
            "352/352 [==============================] - 25s 71ms/step - loss: 0.8183 - accuracy: 0.7108 - top-5-accuracy: 0.9818 - val_loss: 0.8696 - val_accuracy: 0.6894 - val_top-5-accuracy: 0.9754\n",
            "Epoch 59/60\n",
            "352/352 [==============================] - 25s 70ms/step - loss: 0.8079 - accuracy: 0.7136 - top-5-accuracy: 0.9821 - val_loss: 0.8843 - val_accuracy: 0.6922 - val_top-5-accuracy: 0.9776\n",
            "Epoch 60/60\n",
            "352/352 [==============================] - 25s 70ms/step - loss: 0.8026 - accuracy: 0.7143 - top-5-accuracy: 0.9815 - val_loss: 0.9027 - val_accuracy: 0.6876 - val_top-5-accuracy: 0.9742\n",
            "313/313 [==============================] - 5s 16ms/step - loss: 0.9291 - accuracy: 0.6793 - top-5-accuracy: 0.9737\n",
            "Test accuracy: 67.93%\n",
            "Test top 5 accuracy: 97.37%\n"
          ]
        }
      ]
    },
    {
      "cell_type": "code",
      "metadata": {
        "colab": {
          "base_uri": "https://localhost:8080/",
          "height": 296
        },
        "id": "YsbURXXZtDov",
        "outputId": "e6781a81-4440-43e9-f7a7-416980bad73e"
      },
      "source": [
        "plt.plot(history.history[\"loss\"], label=\"train_loss\")\n",
        "plt.plot(history.history[\"val_loss\"], label=\"val_loss\")\n",
        "plt.xlabel(\"Epochs\")\n",
        "plt.ylabel(\"Loss\")\n",
        "plt.title(\"Train and Validation Losses Over Epochs\", fontsize=14)\n",
        "plt.legend()\n",
        "plt.grid()\n",
        "plt.show()"
      ],
      "execution_count": null,
      "outputs": [
        {
          "output_type": "display_data",
          "data": {
            "image/png": "[encoded data removed]",
            "text/plain": [
              "<Figure size 432x288 with 1 Axes>"
            ]
          },
          "metadata": {
            "needs_background": "light"
          }
        }
      ]
    },
    {
      "cell_type": "code",
      "metadata": {
        "colab": {
          "base_uri": "https://localhost:8080/",
          "height": 295
        },
        "id": "3YNw9P1etuSX",
        "outputId": "61a3a0ce-9d08-4d67-a6c9-85e3276ebf4f"
      },
      "source": [
        "plt.plot(history.history[\"accuracy\"], label=\"train_accuracy\")\n",
        "plt.plot(history.history[\"val_accuracy\"], label=\"val_accuracy\")\n",
        "plt.xlabel(\"Epochs\")\n",
        "plt.ylabel(\"Accuracy\")\n",
        "plt.title(\"Train and Validation accuracy over Epochs\", fontsize=12)\n",
        "plt.legend()\n",
        "plt.grid()\n",
        "plt.show()"
      ],
      "execution_count": null,
      "outputs": [
        {
          "output_type": "display_data",
          "data": {
            "image/png": "[encoded data removed]",
            "text/plain": [
              "<Figure size 432x288 with 1 Axes>"
            ]
          },
          "metadata": {
            "needs_background": "light"
          }
        }
      ]
    },
    {
      "cell_type": "code",
      "metadata": {
        "colab": {
          "base_uri": "https://localhost:8080/",
          "height": 295
        },
        "id": "BBLMPkzmuJfl",
        "outputId": "ed13992d-b618-4e00-bd43-37d9d4dccc4d"
      },
      "source": [
        "plt.plot(history.history[\"loss\"], label=\"train_loss\")\n",
        "plt.plot(history.history[\"val_loss\"], label=\"val_loss\")\n",
        "plt.plot(history.history[\"accuracy\"], label=\"train_accuracy\")\n",
        "plt.plot(history.history[\"val_accuracy\"], label=\"val_accuracy\")\n",
        "plt.xlabel(\"Epochs\")\n",
        "plt.ylabel(\"Loss/Accuracy\")\n",
        "plt.title(\"Train and Validation Losses/Accuracy Over Epochs\", fontsize=12)\n",
        "plt.legend()\n",
        "plt.grid()\n",
        "plt.show()"
      ],
      "execution_count": null,
      "outputs": [
        {
          "output_type": "display_data",
          "data": {
            "image/png": "[encoded data removed]",
            "text/plain": [
              "<Figure size 432x288 with 1 Axes>"
            ]
          },
          "metadata": {
            "needs_background": "light"
          }
        }
      ]
    }
  ]
}