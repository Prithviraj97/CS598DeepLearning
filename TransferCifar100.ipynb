{
  "nbformat": 4,
  "nbformat_minor": 0,
  "metadata": {
    "colab": {
      "name": "TransferC100.ipynb",
      "provenance": [],
      "collapsed_sections": []
    },
    "kernelspec": {
      "name": "python3",
      "display_name": "Python 3"
    },
    "language_info": {
      "name": "python"
    }
  },
  "cells": [
    {
      "cell_type": "markdown",
      "metadata": {
        "id": "dYRuGRxLwOfo"
      },
      "source": [
        "Implementation of transfer Learning on CIFAR-100 dataset using the ResNet50V2 pre-trained model."
      ]
    },
    {
      "cell_type": "code",
      "metadata": {
        "id": "fqpRe_I_feEm"
      },
      "source": [
        "from tensorflow.keras import layers\n",
        "from tensorflow import keras\n",
        "import numpy as np\n",
        "import matplotlib.pyplot as plt\n",
        "import numpy as np\n",
        "import tensorflow as tf\n",
        "from tensorflow.keras.losses import sparse_categorical_crossentropy\n",
        "from keras.applications import vgg19,resnet_v2\n",
        "from keras.preprocessing.image import ImageDataGenerator\n",
        "from sklearn.model_selection import train_test_split\n",
        "from tensorflow.keras.utils import to_categorical\n"
      ],
      "execution_count": null,
      "outputs": []
    },
    {
      "cell_type": "code",
      "metadata": {
        "id": "rgvGDgfqmS5_",
        "colab": {
          "base_uri": "https://localhost:8080/"
        },
        "outputId": "ceb124cf-0896-44d0-d0e5-fffc2fb036df"
      },
      "source": [
        "cifar_100 = keras.datasets.cifar100\n",
        "(x_train,y_train),(x_test,y_test) = cifar_100.load_data()"
      ],
      "execution_count": null,
      "outputs": [
        {
          "output_type": "stream",
          "name": "stdout",
          "text": [
            "Downloading data from https://www.cs.toronto.edu/~kriz/cifar-100-python.tar.gz\n",
            "169009152/169001437 [==============================] - 6s 0us/step\n",
            "169017344/169001437 [==============================] - 6s 0us/step\n"
          ]
        }
      ]
    },
    {
      "cell_type": "code",
      "metadata": {
        "id": "42ixJVPZoZTu"
      },
      "source": [
        "#x_train,x_val,y_train,y_val=train_test_split(x_train,y_train,test_size=.3)"
      ],
      "execution_count": null,
      "outputs": []
    },
    {
      "cell_type": "code",
      "metadata": {
        "colab": {
          "base_uri": "https://localhost:8080/"
        },
        "id": "84HeBt01mbqq",
        "outputId": "092f0deb-9d06-4486-e239-029aa91e4e37"
      },
      "source": [
        "print((x_train.shape,y_train.shape))\n",
        "#print((x_val.shape,y_val.shape))\n",
        "print((x_test.shape,y_test.shape))"
      ],
      "execution_count": null,
      "outputs": [
        {
          "output_type": "stream",
          "name": "stdout",
          "text": [
            "((50000, 32, 32, 3), (50000, 1))\n",
            "((10000, 32, 32, 3), (10000, 1))\n"
          ]
        }
      ]
    },
    {
      "cell_type": "code",
      "metadata": {
        "id": "T35I29HymoNi"
      },
      "source": [
        "y_train=to_categorical(y_train)\n",
        "#y_val=to_categorical(y_val)\n",
        "y_test=to_categorical(y_test)"
      ],
      "execution_count": null,
      "outputs": []
    },
    {
      "cell_type": "code",
      "metadata": {
        "colab": {
          "base_uri": "https://localhost:8080/"
        },
        "id": "whapjwWinGF-",
        "outputId": "c313b443-a2ac-40ed-b415-b4bbf54c2145"
      },
      "source": [
        "print((x_train.shape,y_train.shape))\n",
        "#print((x_val.shape,y_val.shape))\n",
        "print((x_test.shape,y_test.shape))"
      ],
      "execution_count": null,
      "outputs": [
        {
          "output_type": "stream",
          "name": "stdout",
          "text": [
            "((50000, 32, 32, 3), (50000, 100))\n",
            "((10000, 32, 32, 3), (10000, 100))\n"
          ]
        }
      ]
    },
    {
      "cell_type": "code",
      "metadata": {
        "id": "mfWWTHN8nSNn",
        "colab": {
          "base_uri": "https://localhost:8080/"
        },
        "outputId": "2f383359-32ef-469e-9c5c-9326947113a0"
      },
      "source": [
        "model2 = keras.applications.ResNet50V2(weights='imagenet', include_top=False, input_shape=(32,32,3))"
      ],
      "execution_count": null,
      "outputs": [
        {
          "output_type": "stream",
          "name": "stdout",
          "text": [
            "Downloading data from https://storage.googleapis.com/tensorflow/keras-applications/resnet/resnet50v2_weights_tf_dim_ordering_tf_kernels_notop.h5\n",
            "94674944/94668760 [==============================] - 2s 0us/step\n",
            "94683136/94668760 [==============================] - 2s 0us/step\n"
          ]
        }
      ]
    },
    {
      "cell_type": "code",
      "metadata": {
        "id": "DqN0Xp6gnakF"
      },
      "source": [
        "from keras import Sequential\n",
        "from keras.layers import Flatten,Dense,BatchNormalization,Activation,Dropout\n",
        "Model_1 = keras.Sequential()\n",
        "Model_1.add(model2)\n",
        "Model_1.add(Flatten())"
      ],
      "execution_count": null,
      "outputs": []
    },
    {
      "cell_type": "code",
      "metadata": {
        "id": "O-RXXpJ52UKG"
      },
      "source": [
        "for layer in model2.layers:\n",
        "  if isinstance(layer, BatchNormalization):\n",
        "    layer.trainable = True\n",
        "  else:\n",
        "      layer.trainable = False"
      ],
      "execution_count": null,
      "outputs": []
    },
    {
      "cell_type": "code",
      "metadata": {
        "colab": {
          "base_uri": "https://localhost:8080/"
        },
        "id": "BE2uPTaZngQN",
        "outputId": "4f184e6a-2fb9-407f-f34e-f08ac3d0ec45"
      },
      "source": [
        "Model_1.summary()"
      ],
      "execution_count": null,
      "outputs": [
        {
          "output_type": "stream",
          "name": "stdout",
          "text": [
            "Model: \"sequential\"\n",
            "_________________________________________________________________\n",
            " Layer (type)                Output Shape              Param #   \n",
            "=================================================================\n",
            " resnet50v2 (Functional)     (None, 1, 1, 2048)        23564800  \n",
            "                                                                 \n",
            " flatten (Flatten)           (None, 2048)              0         \n",
            "                                                                 \n",
            "=================================================================\n",
            "Total params: 23,564,800\n",
            "Trainable params: 45,440\n",
            "Non-trainable params: 23,519,360\n",
            "_________________________________________________________________\n"
          ]
        }
      ]
    },
    {
      "cell_type": "code",
      "metadata": {
        "id": "KcfqZ_GJnl4g"
      },
      "source": [
        "Model_1.add(Dense(1024,activation=('relu'))) \n",
        "Model_1.add(Dropout(.4))\n",
        "Model_1.add(BatchNormalization())\n",
        "Model_1.add(Dense(512,activation=('relu'))) \n",
        "Model_1.add(Dropout(.3))\n",
        "Model_1.add(BatchNormalization())\n",
        "Model_1.add(Dense(256,activation=('relu')))\n",
        "Model_1.add(Dropout(.3))\n",
        "Model_1.add(BatchNormalization())\n",
        "Model_1.add(Dense(100,activation=('softmax')))"
      ],
      "execution_count": null,
      "outputs": []
    },
    {
      "cell_type": "code",
      "metadata": {
        "colab": {
          "base_uri": "https://localhost:8080/"
        },
        "id": "27uNFLU3pz9Q",
        "outputId": "b9192297-190d-47b5-b549-599238892754"
      },
      "source": [
        "Model_1.summary()"
      ],
      "execution_count": null,
      "outputs": [
        {
          "output_type": "stream",
          "name": "stdout",
          "text": [
            "Model: \"sequential\"\n",
            "_________________________________________________________________\n",
            " Layer (type)                Output Shape              Param #   \n",
            "=================================================================\n",
            " resnet50v2 (Functional)     (None, 1, 1, 2048)        23564800  \n",
            "                                                                 \n",
            " flatten (Flatten)           (None, 2048)              0         \n",
            "                                                                 \n",
            " dense (Dense)               (None, 1024)              2098176   \n",
            "                                                                 \n",
            " dropout (Dropout)           (None, 1024)              0         \n",
            "                                                                 \n",
            " batch_normalization (BatchN  (None, 1024)             4096      \n",
            " ormalization)                                                   \n",
            "                                                                 \n",
            " dense_1 (Dense)             (None, 512)               524800    \n",
            "                                                                 \n",
            " dropout_1 (Dropout)         (None, 512)               0         \n",
            "                                                                 \n",
            " batch_normalization_1 (Batc  (None, 512)              2048      \n",
            " hNormalization)                                                 \n",
            "                                                                 \n",
            " dense_2 (Dense)             (None, 256)               131328    \n",
            "                                                                 \n",
            " dropout_2 (Dropout)         (None, 256)               0         \n",
            "                                                                 \n",
            " batch_normalization_2 (Batc  (None, 256)              1024      \n",
            " hNormalization)                                                 \n",
            "                                                                 \n",
            " dense_3 (Dense)             (None, 100)               25700     \n",
            "                                                                 \n",
            "=================================================================\n",
            "Total params: 26,351,972\n",
            "Trainable params: 2,829,028\n",
            "Non-trainable params: 23,522,944\n",
            "_________________________________________________________________\n"
          ]
        }
      ]
    },
    {
      "cell_type": "code",
      "metadata": {
        "id": "DYohikW7p3bf"
      },
      "source": [
        "Model_1.compile(optimizer='adam', loss='categorical_crossentropy', metrics=['accuracy'])"
      ],
      "execution_count": null,
      "outputs": []
    },
    {
      "cell_type": "code",
      "metadata": {
        "id": "R5fPElIaqDvb"
      },
      "source": [
        "train_gen = ImageDataGenerator( rotation_range=30, \n",
        "                                    horizontal_flip=True,\n",
        "                                    zoom_range=.2,\n",
        "                               shear_range=0.2)\n"
      ],
      "execution_count": null,
      "outputs": []
    },
    {
      "cell_type": "code",
      "metadata": {
        "id": "02QOaf-drQRQ"
      },
      "source": [
        "train_gen.fit(x_train)\n",
        "#val_gen.fit(x_val)\n",
        "#test_gen.fit(x_test)"
      ],
      "execution_count": null,
      "outputs": []
    },
    {
      "cell_type": "code",
      "metadata": {
        "id": "GgOXBYv8vbNh"
      },
      "source": [
        ""
      ],
      "execution_count": null,
      "outputs": []
    },
    {
      "cell_type": "code",
      "metadata": {
        "colab": {
          "base_uri": "https://localhost:8080/"
        },
        "id": "nuV19awmrUQm",
        "outputId": "dd6ee7ce-d65c-46f1-c28f-e15960ee206f"
      },
      "source": [
        "history = Model_1.fit(train_gen.flow(x_train,y_train,batch_size=100),\n",
        "                     epochs=80, steps_per_epoch=x_train.shape[0] //100,\n",
        "                     validation_data=(x_test,y_test))"
      ],
      "execution_count": null,
      "outputs": [
        {
          "output_type": "stream",
          "name": "stdout",
          "text": [
            "Epoch 1/80\n",
            "500/500 [==============================] - 49s 74ms/step - loss: 4.5967 - accuracy: 0.0385 - val_loss: 4.1701 - val_accuracy: 0.0931\n",
            "Epoch 2/80\n",
            "500/500 [==============================] - 36s 72ms/step - loss: 4.0467 - accuracy: 0.0871 - val_loss: 3.7854 - val_accuracy: 0.1340\n",
            "Epoch 3/80\n",
            "500/500 [==============================] - 36s 72ms/step - loss: 3.7694 - accuracy: 0.1233 - val_loss: 3.5377 - val_accuracy: 0.1664\n",
            "Epoch 4/80\n",
            "500/500 [==============================] - 36s 72ms/step - loss: 3.5897 - accuracy: 0.1511 - val_loss: 3.3905 - val_accuracy: 0.1944\n",
            "Epoch 5/80\n",
            "500/500 [==============================] - 36s 72ms/step - loss: 3.4650 - accuracy: 0.1737 - val_loss: 3.2405 - val_accuracy: 0.2121\n",
            "Epoch 6/80\n",
            "500/500 [==============================] - 36s 72ms/step - loss: 3.3615 - accuracy: 0.1906 - val_loss: 3.1422 - val_accuracy: 0.2298\n",
            "Epoch 7/80\n",
            "500/500 [==============================] - 37s 75ms/step - loss: 3.2676 - accuracy: 0.2072 - val_loss: 3.0646 - val_accuracy: 0.2472\n",
            "Epoch 8/80\n",
            "500/500 [==============================] - 36s 73ms/step - loss: 3.1953 - accuracy: 0.2196 - val_loss: 3.0125 - val_accuracy: 0.2546\n",
            "Epoch 9/80\n",
            "500/500 [==============================] - 37s 74ms/step - loss: 3.1117 - accuracy: 0.2350 - val_loss: 2.9376 - val_accuracy: 0.2649\n",
            "Epoch 10/80\n",
            "500/500 [==============================] - 36s 73ms/step - loss: 3.0528 - accuracy: 0.2449 - val_loss: 2.8670 - val_accuracy: 0.2817\n",
            "Epoch 11/80\n",
            "500/500 [==============================] - 36s 73ms/step - loss: 2.9864 - accuracy: 0.2568 - val_loss: 2.8272 - val_accuracy: 0.2910\n",
            "Epoch 12/80\n",
            "500/500 [==============================] - 37s 74ms/step - loss: 2.9251 - accuracy: 0.2699 - val_loss: 2.7814 - val_accuracy: 0.2989\n",
            "Epoch 13/80\n",
            "500/500 [==============================] - 37s 73ms/step - loss: 2.8770 - accuracy: 0.2803 - val_loss: 2.7058 - val_accuracy: 0.3124\n",
            "Epoch 14/80\n",
            "500/500 [==============================] - 36s 72ms/step - loss: 2.8232 - accuracy: 0.2903 - val_loss: 2.6748 - val_accuracy: 0.3130\n",
            "Epoch 15/80\n",
            "500/500 [==============================] - 36s 73ms/step - loss: 2.7720 - accuracy: 0.2996 - val_loss: 2.6357 - val_accuracy: 0.3254\n",
            "Epoch 16/80\n",
            "500/500 [==============================] - 37s 73ms/step - loss: 2.7303 - accuracy: 0.3086 - val_loss: 2.6023 - val_accuracy: 0.3379\n",
            "Epoch 17/80\n",
            "500/500 [==============================] - 37s 73ms/step - loss: 2.6931 - accuracy: 0.3171 - val_loss: 2.5440 - val_accuracy: 0.3470\n",
            "Epoch 18/80\n",
            "500/500 [==============================] - 36s 72ms/step - loss: 2.6459 - accuracy: 0.3251 - val_loss: 2.5195 - val_accuracy: 0.3515\n",
            "Epoch 19/80\n",
            "500/500 [==============================] - 37s 73ms/step - loss: 2.6156 - accuracy: 0.3306 - val_loss: 2.4903 - val_accuracy: 0.3597\n",
            "Epoch 20/80\n",
            "500/500 [==============================] - 37s 75ms/step - loss: 2.5737 - accuracy: 0.3384 - val_loss: 2.4941 - val_accuracy: 0.3616\n",
            "Epoch 21/80\n",
            "500/500 [==============================] - 36s 72ms/step - loss: 2.5437 - accuracy: 0.3456 - val_loss: 2.4656 - val_accuracy: 0.3643\n",
            "Epoch 22/80\n",
            "500/500 [==============================] - 36s 72ms/step - loss: 2.5101 - accuracy: 0.3539 - val_loss: 2.4469 - val_accuracy: 0.3695\n",
            "Epoch 23/80\n",
            "500/500 [==============================] - 37s 75ms/step - loss: 2.4921 - accuracy: 0.3570 - val_loss: 2.4090 - val_accuracy: 0.3759\n",
            "Epoch 24/80\n",
            "500/500 [==============================] - 38s 77ms/step - loss: 2.4643 - accuracy: 0.3610 - val_loss: 2.4134 - val_accuracy: 0.3789\n",
            "Epoch 25/80\n",
            "500/500 [==============================] - 37s 75ms/step - loss: 2.4383 - accuracy: 0.3694 - val_loss: 2.3930 - val_accuracy: 0.3847\n",
            "Epoch 26/80\n",
            "500/500 [==============================] - 37s 74ms/step - loss: 2.4058 - accuracy: 0.3759 - val_loss: 2.3676 - val_accuracy: 0.3871\n",
            "Epoch 27/80\n",
            "500/500 [==============================] - 37s 75ms/step - loss: 2.3887 - accuracy: 0.3796 - val_loss: 2.3335 - val_accuracy: 0.3931\n",
            "Epoch 28/80\n",
            "500/500 [==============================] - 37s 75ms/step - loss: 2.3673 - accuracy: 0.3809 - val_loss: 2.3431 - val_accuracy: 0.3978\n",
            "Epoch 29/80\n",
            "500/500 [==============================] - 36s 72ms/step - loss: 2.3405 - accuracy: 0.3896 - val_loss: 2.3365 - val_accuracy: 0.3974\n",
            "Epoch 30/80\n",
            "500/500 [==============================] - 36s 72ms/step - loss: 2.3129 - accuracy: 0.3934 - val_loss: 2.2986 - val_accuracy: 0.4052\n",
            "Epoch 31/80\n",
            "500/500 [==============================] - 37s 74ms/step - loss: 2.3125 - accuracy: 0.3955 - val_loss: 2.3200 - val_accuracy: 0.3990\n",
            "Epoch 32/80\n",
            "500/500 [==============================] - 36s 72ms/step - loss: 2.2856 - accuracy: 0.4005 - val_loss: 2.3001 - val_accuracy: 0.4011\n",
            "Epoch 33/80\n",
            "500/500 [==============================] - 36s 72ms/step - loss: 2.2641 - accuracy: 0.4052 - val_loss: 2.2761 - val_accuracy: 0.4074\n",
            "Epoch 34/80\n",
            "500/500 [==============================] - 36s 71ms/step - loss: 2.2456 - accuracy: 0.4104 - val_loss: 2.2618 - val_accuracy: 0.4153\n",
            "Epoch 35/80\n",
            "500/500 [==============================] - 36s 72ms/step - loss: 2.2328 - accuracy: 0.4116 - val_loss: 2.2606 - val_accuracy: 0.4139\n",
            "Epoch 36/80\n",
            "500/500 [==============================] - 36s 72ms/step - loss: 2.2149 - accuracy: 0.4163 - val_loss: 2.2703 - val_accuracy: 0.4158\n",
            "Epoch 37/80\n",
            "500/500 [==============================] - 37s 75ms/step - loss: 2.1981 - accuracy: 0.4186 - val_loss: 2.2556 - val_accuracy: 0.4189\n",
            "Epoch 38/80\n",
            "500/500 [==============================] - 37s 74ms/step - loss: 2.1724 - accuracy: 0.4249 - val_loss: 2.2553 - val_accuracy: 0.4141\n",
            "Epoch 39/80\n",
            "500/500 [==============================] - 37s 73ms/step - loss: 2.1649 - accuracy: 0.4273 - val_loss: 2.2174 - val_accuracy: 0.4220\n",
            "Epoch 40/80\n",
            "500/500 [==============================] - 36s 73ms/step - loss: 2.1494 - accuracy: 0.4297 - val_loss: 2.2322 - val_accuracy: 0.4242\n",
            "Epoch 41/80\n",
            "500/500 [==============================] - 37s 73ms/step - loss: 2.1437 - accuracy: 0.4303 - val_loss: 2.2184 - val_accuracy: 0.4284\n",
            "Epoch 42/80\n",
            "500/500 [==============================] - 36s 73ms/step - loss: 2.1223 - accuracy: 0.4362 - val_loss: 2.2198 - val_accuracy: 0.4273\n",
            "Epoch 43/80\n",
            "500/500 [==============================] - 36s 72ms/step - loss: 2.1089 - accuracy: 0.4378 - val_loss: 2.2221 - val_accuracy: 0.4293\n",
            "Epoch 44/80\n",
            "500/500 [==============================] - 37s 75ms/step - loss: 2.1044 - accuracy: 0.4401 - val_loss: 2.2059 - val_accuracy: 0.4318\n",
            "Epoch 45/80\n",
            "500/500 [==============================] - 36s 72ms/step - loss: 2.0909 - accuracy: 0.4447 - val_loss: 2.2048 - val_accuracy: 0.4293\n",
            "Epoch 46/80\n",
            "500/500 [==============================] - 38s 75ms/step - loss: 2.0707 - accuracy: 0.4500 - val_loss: 2.2004 - val_accuracy: 0.4313\n",
            "Epoch 47/80\n",
            "500/500 [==============================] - 36s 72ms/step - loss: 2.0647 - accuracy: 0.4497 - val_loss: 2.1907 - val_accuracy: 0.4362\n",
            "Epoch 48/80\n",
            "500/500 [==============================] - 36s 72ms/step - loss: 2.0526 - accuracy: 0.4510 - val_loss: 2.1735 - val_accuracy: 0.4344\n",
            "Epoch 49/80\n",
            "500/500 [==============================] - 36s 71ms/step - loss: 2.0365 - accuracy: 0.4556 - val_loss: 2.1847 - val_accuracy: 0.4330\n",
            "Epoch 50/80\n",
            "500/500 [==============================] - 36s 72ms/step - loss: 2.0393 - accuracy: 0.4543 - val_loss: 2.1893 - val_accuracy: 0.4375\n",
            "Epoch 51/80\n",
            "500/500 [==============================] - 36s 72ms/step - loss: 2.0171 - accuracy: 0.4594 - val_loss: 2.1789 - val_accuracy: 0.4403\n",
            "Epoch 52/80\n",
            "500/500 [==============================] - 36s 72ms/step - loss: 1.9986 - accuracy: 0.4640 - val_loss: 2.1777 - val_accuracy: 0.4377\n",
            "Epoch 53/80\n",
            "500/500 [==============================] - 37s 74ms/step - loss: 2.0042 - accuracy: 0.4620 - val_loss: 2.1491 - val_accuracy: 0.4424\n",
            "Epoch 54/80\n",
            "500/500 [==============================] - 37s 74ms/step - loss: 1.9835 - accuracy: 0.4672 - val_loss: 2.1669 - val_accuracy: 0.4387\n",
            "Epoch 55/80\n",
            "500/500 [==============================] - 36s 73ms/step - loss: 1.9834 - accuracy: 0.4684 - val_loss: 2.1691 - val_accuracy: 0.4393\n",
            "Epoch 56/80\n",
            "500/500 [==============================] - 37s 74ms/step - loss: 1.9703 - accuracy: 0.4699 - val_loss: 2.1625 - val_accuracy: 0.4402\n",
            "Epoch 57/80\n",
            "500/500 [==============================] - 39s 78ms/step - loss: 1.9577 - accuracy: 0.4722 - val_loss: 2.1562 - val_accuracy: 0.4438\n",
            "Epoch 58/80\n",
            "500/500 [==============================] - 37s 73ms/step - loss: 1.9318 - accuracy: 0.4782 - val_loss: 2.1442 - val_accuracy: 0.4441\n",
            "Epoch 59/80\n",
            "500/500 [==============================] - 37s 73ms/step - loss: 1.9438 - accuracy: 0.4766 - val_loss: 2.1452 - val_accuracy: 0.4435\n",
            "Epoch 60/80\n",
            "500/500 [==============================] - 37s 73ms/step - loss: 1.9259 - accuracy: 0.4805 - val_loss: 2.1438 - val_accuracy: 0.4478\n",
            "Epoch 61/80\n",
            "500/500 [==============================] - 37s 74ms/step - loss: 1.9181 - accuracy: 0.4820 - val_loss: 2.1472 - val_accuracy: 0.4486\n",
            "Epoch 62/80\n",
            "500/500 [==============================] - 37s 74ms/step - loss: 1.9030 - accuracy: 0.4841 - val_loss: 2.1642 - val_accuracy: 0.4440\n",
            "Epoch 63/80\n",
            "500/500 [==============================] - 37s 73ms/step - loss: 1.8953 - accuracy: 0.4867 - val_loss: 2.1398 - val_accuracy: 0.4469\n",
            "Epoch 64/80\n",
            "500/500 [==============================] - 37s 74ms/step - loss: 1.8931 - accuracy: 0.4887 - val_loss: 2.1348 - val_accuracy: 0.4473\n",
            "Epoch 65/80\n",
            "500/500 [==============================] - 37s 73ms/step - loss: 1.8765 - accuracy: 0.4915 - val_loss: 2.1513 - val_accuracy: 0.4477\n",
            "Epoch 66/80\n",
            "500/500 [==============================] - 37s 74ms/step - loss: 1.8726 - accuracy: 0.4943 - val_loss: 2.1245 - val_accuracy: 0.4494\n",
            "Epoch 67/80\n",
            "500/500 [==============================] - 37s 75ms/step - loss: 1.8631 - accuracy: 0.4952 - val_loss: 2.1390 - val_accuracy: 0.4502\n",
            "Epoch 68/80\n",
            "500/500 [==============================] - 37s 74ms/step - loss: 1.8594 - accuracy: 0.4964 - val_loss: 2.1377 - val_accuracy: 0.4562\n",
            "Epoch 69/80\n",
            "500/500 [==============================] - 37s 74ms/step - loss: 1.8446 - accuracy: 0.5012 - val_loss: 2.1357 - val_accuracy: 0.4521\n",
            "Epoch 70/80\n",
            "500/500 [==============================] - 37s 73ms/step - loss: 1.8334 - accuracy: 0.5026 - val_loss: 2.1434 - val_accuracy: 0.4529\n",
            "Epoch 71/80\n",
            "500/500 [==============================] - 37s 73ms/step - loss: 1.8406 - accuracy: 0.4987 - val_loss: 2.1295 - val_accuracy: 0.4554\n",
            "Epoch 72/80\n",
            "500/500 [==============================] - 37s 74ms/step - loss: 1.8196 - accuracy: 0.5044 - val_loss: 2.1369 - val_accuracy: 0.4555\n",
            "Epoch 73/80\n",
            "500/500 [==============================] - 37s 74ms/step - loss: 1.8133 - accuracy: 0.5027 - val_loss: 2.1289 - val_accuracy: 0.4564\n",
            "Epoch 74/80\n",
            "500/500 [==============================] - 38s 77ms/step - loss: 1.8094 - accuracy: 0.5088 - val_loss: 2.1535 - val_accuracy: 0.4529\n",
            "Epoch 75/80\n",
            "500/500 [==============================] - 38s 76ms/step - loss: 1.8050 - accuracy: 0.5101 - val_loss: 2.1122 - val_accuracy: 0.4641\n",
            "Epoch 76/80\n",
            "500/500 [==============================] - 37s 74ms/step - loss: 1.7965 - accuracy: 0.5102 - val_loss: 2.1286 - val_accuracy: 0.4555\n",
            "Epoch 77/80\n",
            "500/500 [==============================] - 37s 73ms/step - loss: 1.7849 - accuracy: 0.5129 - val_loss: 2.1246 - val_accuracy: 0.4583\n",
            "Epoch 78/80\n",
            "500/500 [==============================] - 37s 74ms/step - loss: 1.7864 - accuracy: 0.5144 - val_loss: 2.1397 - val_accuracy: 0.4580\n",
            "Epoch 79/80\n",
            "500/500 [==============================] - 37s 74ms/step - loss: 1.7743 - accuracy: 0.5158 - val_loss: 2.1497 - val_accuracy: 0.4561\n",
            "Epoch 80/80\n",
            "500/500 [==============================] - 38s 75ms/step - loss: 1.7693 - accuracy: 0.5150 - val_loss: 2.1303 - val_accuracy: 0.4546\n"
          ]
        }
      ]
    },
    {
      "cell_type": "code",
      "metadata": {
        "colab": {
          "base_uri": "https://localhost:8080/"
        },
        "id": "xtWDq_n6Du8z",
        "outputId": "acfe9a25-11bb-4c4e-b742-838960ee0db2"
      },
      "source": [
        "test_eval = Model_1.evaluate(x_test,y_test)"
      ],
      "execution_count": null,
      "outputs": [
        {
          "output_type": "stream",
          "name": "stdout",
          "text": [
            "313/313 [==============================] - 5s 15ms/step - loss: 2.1303 - accuracy: 0.4546\n"
          ]
        }
      ]
    },
    {
      "cell_type": "code",
      "metadata": {
        "colab": {
          "base_uri": "https://localhost:8080/",
          "height": 324
        },
        "id": "1nVD0iILD5lC",
        "outputId": "0361508a-9caf-455b-9af1-0e1bd13ff8d0"
      },
      "source": [
        "import pandas as pd\n",
        "pd.DataFrame(history.history).plot(figsize=(7,5))\n",
        "\n",
        "plt.grid(True)\n",
        "plt.gca().set_ylim(0,5)\n",
        "plt.savefig('Finally')"
      ],
      "execution_count": null,
      "outputs": [
        {
          "output_type": "display_data",
          "data": {
            "image/png": "[encoded data removed]",
            "text/plain": [
              "<Figure size 504x360 with 1 Axes>"
            ]
          },
          "metadata": {
            "needs_background": "light"
          }
        }
      ]
    },
    {
      "cell_type": "code",
      "metadata": {
        "colab": {
          "base_uri": "https://localhost:8080/",
          "height": 295
        },
        "id": "RYtbuJcmEj4i",
        "outputId": "9e2ad020-afa8-469f-f997-7b87ccac5153"
      },
      "source": [
        "plt.plot(history.history['accuracy'], label=\"train_acc\")\n",
        "plt.plot(history.history['val_accuracy'], label=\"val_accuracy\")\n",
        "plt.title('Validation and train accuracy history')\n",
        "plt.legend()\n",
        "plt.grid()\n",
        "plt.gca()\n",
        "plt.xlabel('Epochs')\n",
        "plt.ylabel('Accuracy')\n",
        "plt.show()"
      ],
      "execution_count": null,
      "outputs": [
        {
          "output_type": "display_data",
          "data": {
            "image/png": "[encoded data removed]",
            "text/plain": [
              "<Figure size 432x288 with 1 Axes>"
            ]
          },
          "metadata": {
            "needs_background": "light"
          }
        }
      ]
    },
    {
      "cell_type": "code",
      "metadata": {
        "colab": {
          "base_uri": "https://localhost:8080/",
          "height": 295
        },
        "id": "hnAaZw6yFQKu",
        "outputId": "38549cd4-d5e1-4c6e-c0f1-b23fedae2acf"
      },
      "source": [
        "plt.plot(history.history['loss'], label=\"train_loss\")\n",
        "plt.plot(history.history['val_loss'], label=\"validation_loss\")\n",
        "plt.title('Validation loss history')\n",
        "plt.legend()\n",
        "plt.grid()\n",
        "plt.gca()\n",
        "plt.xlabel('Epochs')\n",
        "plt.ylabel('Loss')\n",
        "plt.show()"
      ],
      "execution_count": null,
      "outputs": [
        {
          "output_type": "display_data",
          "data": {
            "image/png": "[encoded data removed]",
            "text/plain": [
              "<Figure size 432x288 with 1 Axes>"
            ]
          },
          "metadata": {
            "needs_background": "light"
          }
        }
      ]
    },
    {
      "cell_type": "code",
      "metadata": {
        "colab": {
          "base_uri": "https://localhost:8080/",
          "height": 295
        },
        "id": "CMqs_cdpGRNr",
        "outputId": "0ec14a27-93fc-487e-b38d-697381b97f47"
      },
      "source": [
        "plt.plot(history.history['loss'], label=\"train_loss\")\n",
        "plt.plot(history.history['val_loss'], label=\"validation_loss\")\n",
        "plt.plot(history.history['accuracy'], label=\"train_acc\")\n",
        "plt.plot(history.history['val_accuracy'], label=\"val_accuracy\")\n",
        "plt.title('Validation and Training Metrics')\n",
        "plt.legend()\n",
        "plt.grid()\n",
        "plt.gca()\n",
        "plt.xlabel('Epochs')\n",
        "plt.ylabel('Loss')\n",
        "plt.ylabel('Accuracy/loss')\n",
        "plt.show()"
      ],
      "execution_count": null,
      "outputs": [
        {
          "output_type": "display_data",
          "data": {
            "image/png": "[encoded data removed]",
            "text/plain": [
              "<Figure size 432x288 with 1 Axes>"
            ]
          },
          "metadata": {
            "needs_background": "light"
          }
        }
      ]
    },
    {
      "cell_type": "code",
      "metadata": {
        "colab": {
          "base_uri": "https://localhost:8080/"
        },
        "id": "a_FT_8ZXJD3f",
        "outputId": "80b82c56-d861-4611-a115-110148485a3a"
      },
      "source": [
        "Model_1.save('TransferCifar100.h5')"
      ],
      "execution_count": null,
      "outputs": [
        {
          "output_type": "stream",
          "name": "stderr",
          "text": [
            "/usr/local/lib/python3.7/dist-packages/keras/engine/functional.py:1410: CustomMaskWarning: Custom mask layers require a config and must override get_config. When loading, the custom mask layer must be passed to the custom_objects argument.\n",
            "  layer_config = serialize_layer_fn(layer)\n"
          ]
        }
      ]
    }
  ]
}