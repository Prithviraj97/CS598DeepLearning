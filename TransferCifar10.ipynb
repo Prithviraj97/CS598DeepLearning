{
  "nbformat": 4,
  "nbformat_minor": 0,
  "metadata": {
    "colab": {
      "name": "Trythis.ipynb",
      "provenance": [],
      "collapsed_sections": []
    },
    "kernelspec": {
      "name": "python3",
      "display_name": "Python 3"
    },
    "language_info": {
      "name": "python"
    },
    "accelerator": "GPU"
  },
  "cells": [
    {
      "cell_type": "markdown",
      "metadata": {
        "id": "heyXND_NplKZ"
      },
      "source": [
        "Transfer learning using ResNet50 pre-trained model on CIFAR-10 Dataset."
      ]
    },
    {
      "cell_type": "code",
      "metadata": {
        "id": "ZFCZXKqxEcJM"
      },
      "source": [
        "from tensorflow.keras import layers\n",
        "from tensorflow import keras\n",
        "import numpy as np\n",
        "import matplotlib.pyplot as plt\n",
        "import numpy as np\n",
        "import tensorflow as tf\n",
        "from tensorflow.keras.losses import sparse_categorical_crossentropy\n",
        "from keras.applications import vgg19,resnet_v2\n",
        "from keras.preprocessing.image import ImageDataGenerator\n",
        "from sklearn.model_selection import train_test_split\n",
        "from tensorflow.keras.utils import to_categorical\n"
      ],
      "execution_count": null,
      "outputs": []
    },
    {
      "cell_type": "code",
      "metadata": {
        "id": "RwJ00IIoFfcz",
        "colab": {
          "base_uri": "https://localhost:8080/"
        },
        "outputId": "bf276ef2-aa36-4463-f408-389f91ad6cc0"
      },
      "source": [
        "cifar_10 = keras.datasets.cifar10\n",
        "(x_train,y_train),(x_test,y_test) = cifar_10.load_data()"
      ],
      "execution_count": null,
      "outputs": [
        {
          "output_type": "stream",
          "name": "stdout",
          "text": [
            "Downloading data from https://www.cs.toronto.edu/~kriz/cifar-10-python.tar.gz\n",
            "170500096/170498071 [==============================] - 4s 0us/step\n",
            "170508288/170498071 [==============================] - 4s 0us/step\n"
          ]
        }
      ]
    },
    {
      "cell_type": "code",
      "metadata": {
        "id": "iEy7TbLpWAFj"
      },
      "source": [
        "x_train,x_val,y_train,y_val=train_test_split(x_train,y_train,test_size=.3)"
      ],
      "execution_count": null,
      "outputs": []
    },
    {
      "cell_type": "code",
      "metadata": {
        "colab": {
          "base_uri": "https://localhost:8080/"
        },
        "id": "EOjr3kPeWNI5",
        "outputId": "aac88d36-eb11-4610-fff7-08cbb8425586"
      },
      "source": [
        "print((x_train.shape,y_train.shape))\n",
        "print((x_val.shape,y_val.shape))\n",
        "print((x_test.shape,y_test.shape))"
      ],
      "execution_count": null,
      "outputs": [
        {
          "output_type": "stream",
          "name": "stdout",
          "text": [
            "((35000, 32, 32, 3), (35000, 1))\n",
            "((15000, 32, 32, 3), (15000, 1))\n",
            "((10000, 32, 32, 3), (10000, 1))\n"
          ]
        }
      ]
    },
    {
      "cell_type": "code",
      "metadata": {
        "id": "UTIVgl6nWSvT"
      },
      "source": [
        "y_train=to_categorical(y_train, num_classes=10)\n",
        "y_val=to_categorical(y_val, num_classes=10)\n",
        "y_test=to_categorical(y_test, num_classes=10)\n"
      ],
      "execution_count": null,
      "outputs": []
    },
    {
      "cell_type": "code",
      "metadata": {
        "colab": {
          "base_uri": "https://localhost:8080/"
        },
        "id": "T0lDZ9hl6zA6",
        "outputId": "d6b1f962-9d11-46ef-fcdb-13573b5a517a"
      },
      "source": [
        "print((x_train.shape,y_train.shape))\n",
        "print((x_val.shape,y_val.shape))\n",
        "print((x_test.shape,y_test.shape))"
      ],
      "execution_count": null,
      "outputs": [
        {
          "output_type": "stream",
          "name": "stdout",
          "text": [
            "((35000, 32, 32, 3), (35000, 10))\n",
            "((15000, 32, 32, 3), (15000, 10))\n",
            "((10000, 32, 32, 3), (10000, 10))\n"
          ]
        }
      ]
    },
    {
      "cell_type": "code",
      "metadata": {
        "colab": {
          "base_uri": "https://localhost:8080/"
        },
        "id": "gF1sJUUfXcyj",
        "outputId": "837cd697-04a7-444f-b791-a02b4c111872"
      },
      "source": [
        "y_train.shape[1]"
      ],
      "execution_count": null,
      "outputs": [
        {
          "output_type": "execute_result",
          "data": {
            "text/plain": [
              "10"
            ]
          },
          "metadata": {},
          "execution_count": 8
        }
      ]
    },
    {
      "cell_type": "code",
      "metadata": {
        "id": "Vcq_kRqmFopp"
      },
      "source": [
        "classes = ['airplane', 'automobile', 'bird', 'cat', 'deer', 'dog', 'frog', 'horse', 'ship', 'truck']"
      ],
      "execution_count": null,
      "outputs": []
    },
    {
      "cell_type": "code",
      "metadata": {
        "id": "BLqU-oGGGP2S",
        "colab": {
          "base_uri": "https://localhost:8080/"
        },
        "outputId": "ae81669b-aa15-436a-98cd-bc28358251e5"
      },
      "source": [
        "model1 = keras.applications.VGG19(weights='imagenet', include_top=False, input_shape=(32,32,3))"
      ],
      "execution_count": null,
      "outputs": [
        {
          "output_type": "stream",
          "name": "stdout",
          "text": [
            "Downloading data from https://storage.googleapis.com/tensorflow/keras-applications/vgg19/vgg19_weights_tf_dim_ordering_tf_kernels_notop.h5\n",
            "80142336/80134624 [==============================] - 2s 0us/step\n",
            "80150528/80134624 [==============================] - 2s 0us/step\n"
          ]
        }
      ]
    },
    {
      "cell_type": "code",
      "metadata": {
        "id": "Jxp8RowcXksx",
        "colab": {
          "base_uri": "https://localhost:8080/"
        },
        "outputId": "b7564ee3-0c69-4ba0-d15b-194c3f40b8df"
      },
      "source": [
        "model2 = keras.applications.ResNet50V2(weights='imagenet', include_top=False, input_shape=(32,32,3))"
      ],
      "execution_count": null,
      "outputs": [
        {
          "output_type": "stream",
          "name": "stdout",
          "text": [
            "Downloading data from https://storage.googleapis.com/tensorflow/keras-applications/resnet/resnet50v2_weights_tf_dim_ordering_tf_kernels_notop.h5\n",
            "94674944/94668760 [==============================] - 1s 0us/step\n",
            "94683136/94668760 [==============================] - 1s 0us/step\n"
          ]
        }
      ]
    },
    {
      "cell_type": "code",
      "metadata": {
        "id": "9hudB3k3X6Sp"
      },
      "source": [
        "from keras import Sequential\n",
        "from keras.layers import Flatten,Dense,BatchNormalization,Activation,Dropout\n",
        "Model_1 = keras.Sequential()\n",
        "Model_1.add(model2)\n",
        "Model_1.add(Flatten())"
      ],
      "execution_count": null,
      "outputs": []
    },
    {
      "cell_type": "code",
      "metadata": {
        "colab": {
          "base_uri": "https://localhost:8080/"
        },
        "id": "hoCv7n9yZS4c",
        "outputId": "96e29ab3-85fe-4ece-dbbf-5549efcbe26c"
      },
      "source": [
        "Model_1.summary()"
      ],
      "execution_count": null,
      "outputs": [
        {
          "output_type": "stream",
          "name": "stdout",
          "text": [
            "Model: \"sequential\"\n",
            "_________________________________________________________________\n",
            " Layer (type)                Output Shape              Param #   \n",
            "=================================================================\n",
            " resnet50v2 (Functional)     (None, 1, 1, 2048)        23564800  \n",
            "                                                                 \n",
            " flatten (Flatten)           (None, 2048)              0         \n",
            "                                                                 \n",
            "=================================================================\n",
            "Total params: 23,564,800\n",
            "Trainable params: 23,519,360\n",
            "Non-trainable params: 45,440\n",
            "_________________________________________________________________\n"
          ]
        }
      ]
    },
    {
      "cell_type": "code",
      "metadata": {
        "id": "0YCz6bTuZe15"
      },
      "source": [
        "Model_1.add(Dense(256,activation=('relu'))) \n",
        "Model_1.add(Dropout(.4))\n",
        "Model_1.add(BatchNormalization())\n",
        "Model_1.add(Dense(128,activation=('relu'))) \n",
        "Model_1.add(Dropout(.3))\n",
        "Model_1.add(BatchNormalization())\n",
        "Model_1.add(Dense(64,activation=('relu')))\n",
        "Model_1.add(Dropout(.3))\n",
        "Model_1.add(BatchNormalization())\n",
        "Model_1.add(Dense(10,activation=('softmax')))"
      ],
      "execution_count": null,
      "outputs": []
    },
    {
      "cell_type": "code",
      "metadata": {
        "colab": {
          "base_uri": "https://localhost:8080/"
        },
        "id": "ZJMU-T7JZ_1L",
        "outputId": "56992b7c-78ed-4a5c-ea43-926b1af98b42"
      },
      "source": [
        "Model_1.summary()"
      ],
      "execution_count": null,
      "outputs": [
        {
          "output_type": "stream",
          "name": "stdout",
          "text": [
            "Model: \"sequential\"\n",
            "_________________________________________________________________\n",
            " Layer (type)                Output Shape              Param #   \n",
            "=================================================================\n",
            " resnet50v2 (Functional)     (None, 1, 1, 2048)        23564800  \n",
            "                                                                 \n",
            " flatten (Flatten)           (None, 2048)              0         \n",
            "                                                                 \n",
            " dense (Dense)               (None, 2000)              4098000   \n",
            "                                                                 \n",
            " dropout (Dropout)           (None, 2000)              0         \n",
            "                                                                 \n",
            " dense_1 (Dense)             (None, 1000)              2001000   \n",
            "                                                                 \n",
            " dropout_1 (Dropout)         (None, 1000)              0         \n",
            "                                                                 \n",
            " dense_2 (Dense)             (None, 500)               500500    \n",
            "                                                                 \n",
            " dropout_2 (Dropout)         (None, 500)               0         \n",
            "                                                                 \n",
            " dense_3 (Dense)             (None, 10)                5010      \n",
            "                                                                 \n",
            " dense_4 (Dense)             (None, 256)               2816      \n",
            "                                                                 \n",
            " dropout_3 (Dropout)         (None, 256)               0         \n",
            "                                                                 \n",
            " batch_normalization (BatchN  (None, 256)              1024      \n",
            " ormalization)                                                   \n",
            "                                                                 \n",
            " dense_5 (Dense)             (None, 128)               32896     \n",
            "                                                                 \n",
            " dropout_4 (Dropout)         (None, 128)               0         \n",
            "                                                                 \n",
            " batch_normalization_1 (Batc  (None, 128)              512       \n",
            " hNormalization)                                                 \n",
            "                                                                 \n",
            " dense_6 (Dense)             (None, 64)                8256      \n",
            "                                                                 \n",
            " dropout_5 (Dropout)         (None, 64)                0         \n",
            "                                                                 \n",
            " batch_normalization_2 (Batc  (None, 64)               256       \n",
            " hNormalization)                                                 \n",
            "                                                                 \n",
            " dense_7 (Dense)             (None, 10)                650       \n",
            "                                                                 \n",
            "=================================================================\n",
            "Total params: 30,215,720\n",
            "Trainable params: 30,169,384\n",
            "Non-trainable params: 46,336\n",
            "_________________________________________________________________\n"
          ]
        }
      ]
    },
    {
      "cell_type": "code",
      "metadata": {
        "id": "5YIt724AaFJS"
      },
      "source": [
        "Model_1.compile(optimizer='sgd', loss='categorical_crossentropy', metrics=['accuracy'])"
      ],
      "execution_count": null,
      "outputs": []
    },
    {
      "cell_type": "code",
      "metadata": {
        "id": "34Y1YflcbADU"
      },
      "source": [
        "train_gen = ImageDataGenerator(\n",
        "                                    rotation_range=2, \n",
        "                                    horizontal_flip=True,\n",
        "                                    zoom_range=.1)\n",
        "\n",
        "val_gen = ImageDataGenerator(\n",
        "                                    rotation_range=2, \n",
        "                                    horizontal_flip=True,\n",
        "                                    zoom_range=.1)\n",
        "\n",
        "test_gen= ImageDataGenerator(rotation_range=2, \n",
        "                                    horizontal_flip= True,\n",
        "                                    zoom_range=.1) "
      ],
      "execution_count": null,
      "outputs": []
    },
    {
      "cell_type": "code",
      "metadata": {
        "id": "SMEvR94mbI8a"
      },
      "source": [
        "train_gen.fit(x_train)\n",
        "val_gen.fit(x_val)\n",
        "test_gen.fit(x_test)"
      ],
      "execution_count": null,
      "outputs": []
    },
    {
      "cell_type": "code",
      "metadata": {
        "colab": {
          "base_uri": "https://localhost:8080/"
        },
        "id": "I9mnG55MaUD5",
        "outputId": "0557c452-493f-4794-a7c3-cf027804f9e3"
      },
      "source": [
        "history = Model_1.fit(train_gen.flow(x_train,y_train,batch_size=100),\n",
        "                     epochs=70\n",
        "                     validation_data=val_gen.flow(x_val,y_val,batch_size=100))"
      ],
      "execution_count": null,
      "outputs": [
        {
          "output_type": "stream",
          "name": "stdout",
          "text": [
            "Epoch 1/70\n",
            "350/350 [==============================] - 65s 166ms/step - loss: 1.6737 - accuracy: 0.4502 - val_loss: 1.7863 - val_accuracy: 0.4785\n",
            "Epoch 2/70\n",
            "350/350 [==============================] - 57s 164ms/step - loss: 1.3718 - accuracy: 0.5464 - val_loss: 1.2126 - val_accuracy: 0.5903\n",
            "Epoch 3/70\n",
            "350/350 [==============================] - 57s 164ms/step - loss: 1.3073 - accuracy: 0.5693 - val_loss: 1.2565 - val_accuracy: 0.5793\n",
            "Epoch 4/70\n",
            "350/350 [==============================] - 57s 164ms/step - loss: 1.2649 - accuracy: 0.5846 - val_loss: 1.1448 - val_accuracy: 0.6103\n",
            "Epoch 5/70\n",
            "350/350 [==============================] - 57s 163ms/step - loss: 1.2389 - accuracy: 0.5876 - val_loss: 1.1772 - val_accuracy: 0.5967\n",
            "Epoch 6/70\n",
            "350/350 [==============================] - 57s 163ms/step - loss: 1.2146 - accuracy: 0.5948 - val_loss: 1.0965 - val_accuracy: 0.6227\n",
            "Epoch 7/70\n",
            "350/350 [==============================] - 57s 164ms/step - loss: 1.1962 - accuracy: 0.6004 - val_loss: 1.0934 - val_accuracy: 0.6255\n",
            "Epoch 8/70\n",
            "350/350 [==============================] - 58s 164ms/step - loss: 1.1798 - accuracy: 0.6057 - val_loss: 1.1151 - val_accuracy: 0.6157\n",
            "Epoch 9/70\n",
            "350/350 [==============================] - 57s 164ms/step - loss: 1.1757 - accuracy: 0.6097 - val_loss: 1.0934 - val_accuracy: 0.6265\n",
            "Epoch 10/70\n",
            "350/350 [==============================] - 57s 164ms/step - loss: 1.1589 - accuracy: 0.6151 - val_loss: 1.0599 - val_accuracy: 0.6340\n",
            "Epoch 11/70\n",
            "350/350 [==============================] - 57s 164ms/step - loss: 1.1421 - accuracy: 0.6219 - val_loss: 1.1063 - val_accuracy: 0.6214\n",
            "Epoch 12/70\n",
            "350/350 [==============================] - 57s 164ms/step - loss: 1.1363 - accuracy: 0.6239 - val_loss: 1.0623 - val_accuracy: 0.6294\n",
            "Epoch 13/70\n",
            "350/350 [==============================] - 57s 164ms/step - loss: 1.1262 - accuracy: 0.6271 - val_loss: 1.0571 - val_accuracy: 0.6343\n",
            "Epoch 14/70\n",
            "350/350 [==============================] - 57s 163ms/step - loss: 1.1244 - accuracy: 0.6226 - val_loss: 1.1068 - val_accuracy: 0.6184\n",
            "Epoch 15/70\n",
            "350/350 [==============================] - 57s 164ms/step - loss: 1.1142 - accuracy: 0.6269 - val_loss: 1.1397 - val_accuracy: 0.5999\n",
            "Epoch 16/70\n",
            "350/350 [==============================] - 68s 194ms/step - loss: 1.1051 - accuracy: 0.6329 - val_loss: 1.0309 - val_accuracy: 0.6377\n",
            "Epoch 17/70\n",
            "350/350 [==============================] - 58s 165ms/step - loss: 1.0929 - accuracy: 0.6359 - val_loss: 1.0293 - val_accuracy: 0.6415\n",
            "Epoch 18/70\n",
            "350/350 [==============================] - 57s 164ms/step - loss: 1.0824 - accuracy: 0.6376 - val_loss: 2.3071 - val_accuracy: 0.2285\n",
            "Epoch 19/70\n",
            "350/350 [==============================] - 57s 163ms/step - loss: 1.0876 - accuracy: 0.6396 - val_loss: 1.0387 - val_accuracy: 0.6397\n",
            "Epoch 20/70\n",
            "350/350 [==============================] - 58s 165ms/step - loss: 1.0859 - accuracy: 0.6373 - val_loss: 1.0124 - val_accuracy: 0.6481\n",
            "Epoch 21/70\n",
            "350/350 [==============================] - 58s 164ms/step - loss: 1.0685 - accuracy: 0.6456 - val_loss: 1.0052 - val_accuracy: 0.6479\n",
            "Epoch 22/70\n",
            "350/350 [==============================] - 57s 164ms/step - loss: 1.0668 - accuracy: 0.6444 - val_loss: 1.0427 - val_accuracy: 0.6403\n",
            "Epoch 23/70\n",
            "350/350 [==============================] - 58s 164ms/step - loss: 1.0665 - accuracy: 0.6449 - val_loss: 1.0011 - val_accuracy: 0.6507\n",
            "Epoch 24/70\n",
            "350/350 [==============================] - 57s 164ms/step - loss: 1.0615 - accuracy: 0.6449 - val_loss: 1.0551 - val_accuracy: 0.6388\n",
            "Epoch 25/70\n",
            "350/350 [==============================] - 58s 165ms/step - loss: 1.0544 - accuracy: 0.6500 - val_loss: 0.9986 - val_accuracy: 0.6564\n",
            "Epoch 26/70\n",
            "350/350 [==============================] - 58s 165ms/step - loss: 1.0463 - accuracy: 0.6472 - val_loss: 0.9898 - val_accuracy: 0.6574\n",
            "Epoch 27/70\n",
            "350/350 [==============================] - 58s 165ms/step - loss: 1.0484 - accuracy: 0.6507 - val_loss: 1.0026 - val_accuracy: 0.6540\n",
            "Epoch 28/70\n",
            "350/350 [==============================] - 58s 167ms/step - loss: 1.0409 - accuracy: 0.6546 - val_loss: 1.0803 - val_accuracy: 0.6358\n",
            "Epoch 29/70\n",
            "350/350 [==============================] - 58s 167ms/step - loss: 1.0371 - accuracy: 0.6576 - val_loss: 1.0116 - val_accuracy: 0.6492\n",
            "Epoch 30/70\n",
            "350/350 [==============================] - 58s 166ms/step - loss: 1.0350 - accuracy: 0.6595 - val_loss: 0.9725 - val_accuracy: 0.6641\n",
            "Epoch 31/70\n",
            "350/350 [==============================] - 58s 166ms/step - loss: 1.0336 - accuracy: 0.6577 - val_loss: 0.9732 - val_accuracy: 0.6653\n",
            "Epoch 32/70\n",
            "350/350 [==============================] - 58s 166ms/step - loss: 1.0229 - accuracy: 0.6586 - val_loss: 1.0717 - val_accuracy: 0.6369\n",
            "Epoch 33/70\n",
            "350/350 [==============================] - 58s 166ms/step - loss: 1.0192 - accuracy: 0.6605 - val_loss: 1.0159 - val_accuracy: 0.6458\n",
            "Epoch 34/70\n",
            "350/350 [==============================] - 58s 167ms/step - loss: 1.0105 - accuracy: 0.6633 - val_loss: 0.9534 - val_accuracy: 0.6716\n",
            "Epoch 35/70\n",
            "350/350 [==============================] - 58s 165ms/step - loss: 1.0089 - accuracy: 0.6645 - val_loss: 1.0257 - val_accuracy: 0.6495\n",
            "Epoch 36/70\n",
            "350/350 [==============================] - 58s 165ms/step - loss: 1.0101 - accuracy: 0.6662 - val_loss: 0.9953 - val_accuracy: 0.6593\n",
            "Epoch 37/70\n",
            "350/350 [==============================] - 58s 166ms/step - loss: 1.0000 - accuracy: 0.6700 - val_loss: 1.3132 - val_accuracy: 0.5743\n",
            "Epoch 38/70\n",
            "350/350 [==============================] - 58s 165ms/step - loss: 1.0052 - accuracy: 0.6663 - val_loss: 0.9580 - val_accuracy: 0.6694\n",
            "Epoch 39/70\n",
            "350/350 [==============================] - 58s 165ms/step - loss: 0.9966 - accuracy: 0.6693 - val_loss: 1.2297 - val_accuracy: 0.5757\n",
            "Epoch 40/70\n",
            "350/350 [==============================] - 58s 166ms/step - loss: 0.9907 - accuracy: 0.6723 - val_loss: 0.9544 - val_accuracy: 0.6737\n",
            "Epoch 41/70\n",
            "350/350 [==============================] - 58s 165ms/step - loss: 0.9888 - accuracy: 0.6719 - val_loss: 0.9557 - val_accuracy: 0.6747\n",
            "Epoch 42/70\n",
            "350/350 [==============================] - 58s 167ms/step - loss: 0.9857 - accuracy: 0.6765 - val_loss: 0.9489 - val_accuracy: 0.6729\n",
            "Epoch 43/70\n",
            "350/350 [==============================] - 58s 165ms/step - loss: 0.9804 - accuracy: 0.6775 - val_loss: 0.9684 - val_accuracy: 0.6636\n",
            "Epoch 44/70\n",
            "350/350 [==============================] - 58s 165ms/step - loss: 0.9810 - accuracy: 0.6759 - val_loss: 0.9884 - val_accuracy: 0.6564\n",
            "Epoch 45/70\n",
            "350/350 [==============================] - 58s 165ms/step - loss: 0.9741 - accuracy: 0.6755 - val_loss: 0.9585 - val_accuracy: 0.6705\n",
            "Epoch 46/70\n",
            "350/350 [==============================] - 58s 165ms/step - loss: 0.9720 - accuracy: 0.6784 - val_loss: 0.9776 - val_accuracy: 0.6657\n",
            "Epoch 47/70\n",
            "350/350 [==============================] - 58s 165ms/step - loss: 0.9645 - accuracy: 0.6777 - val_loss: 1.0061 - val_accuracy: 0.6511\n",
            "Epoch 48/70\n",
            "350/350 [==============================] - 58s 165ms/step - loss: 0.9652 - accuracy: 0.6795 - val_loss: 1.0345 - val_accuracy: 0.6447\n",
            "Epoch 49/70\n",
            "350/350 [==============================] - 58s 164ms/step - loss: 0.9655 - accuracy: 0.6790 - val_loss: 0.9415 - val_accuracy: 0.6755\n",
            "Epoch 50/70\n",
            "350/350 [==============================] - 58s 165ms/step - loss: 0.9578 - accuracy: 0.6844 - val_loss: 0.9467 - val_accuracy: 0.6738\n",
            "Epoch 51/70\n",
            "350/350 [==============================] - 57s 164ms/step - loss: 0.9531 - accuracy: 0.6818 - val_loss: 1.0424 - val_accuracy: 0.6478\n",
            "Epoch 52/70\n",
            "350/350 [==============================] - 58s 165ms/step - loss: 0.9631 - accuracy: 0.6849 - val_loss: 1.1527 - val_accuracy: 0.6165\n",
            "Epoch 53/70\n",
            "350/350 [==============================] - 58s 165ms/step - loss: 0.9548 - accuracy: 0.6856 - val_loss: 0.9762 - val_accuracy: 0.6627\n",
            "Epoch 54/70\n",
            "350/350 [==============================] - 58s 165ms/step - loss: 0.9480 - accuracy: 0.6857 - val_loss: 0.9936 - val_accuracy: 0.6560\n",
            "Epoch 55/70\n",
            "350/350 [==============================] - 58s 165ms/step - loss: 0.9495 - accuracy: 0.6865 - val_loss: 1.0447 - val_accuracy: 0.6488\n",
            "Epoch 56/70\n",
            "350/350 [==============================] - 58s 164ms/step - loss: 0.9387 - accuracy: 0.6870 - val_loss: 0.9492 - val_accuracy: 0.6767\n",
            "Epoch 57/70\n",
            "350/350 [==============================] - 58s 164ms/step - loss: 0.9400 - accuracy: 0.6903 - val_loss: 0.9652 - val_accuracy: 0.6685\n",
            "Epoch 58/70\n",
            "350/350 [==============================] - 58s 165ms/step - loss: 0.9464 - accuracy: 0.6858 - val_loss: 0.9744 - val_accuracy: 0.6704\n",
            "Epoch 59/70\n",
            "350/350 [==============================] - 58s 165ms/step - loss: 0.9317 - accuracy: 0.6913 - val_loss: 0.9684 - val_accuracy: 0.6666\n",
            "Epoch 60/70\n",
            "350/350 [==============================] - 58s 165ms/step - loss: 0.9297 - accuracy: 0.6917 - val_loss: 0.9469 - val_accuracy: 0.6785\n",
            "Epoch 61/70\n",
            "350/350 [==============================] - 58s 164ms/step - loss: 0.9277 - accuracy: 0.6934 - val_loss: 0.9213 - val_accuracy: 0.6861\n",
            "Epoch 62/70\n",
            "350/350 [==============================] - 58s 165ms/step - loss: 0.9264 - accuracy: 0.6943 - val_loss: 0.9100 - val_accuracy: 0.6899\n",
            "Epoch 63/70\n",
            "350/350 [==============================] - 58s 165ms/step - loss: 0.9238 - accuracy: 0.6952 - val_loss: 1.0020 - val_accuracy: 0.6626\n",
            "Epoch 64/70\n",
            "350/350 [==============================] - 58s 166ms/step - loss: 0.9216 - accuracy: 0.6965 - val_loss: 1.0114 - val_accuracy: 0.6617\n",
            "Epoch 65/70\n",
            "350/350 [==============================] - 58s 165ms/step - loss: 0.9224 - accuracy: 0.6969 - val_loss: 0.9776 - val_accuracy: 0.6671\n",
            "Epoch 66/70\n",
            "350/350 [==============================] - 59s 167ms/step - loss: 0.9170 - accuracy: 0.6963 - val_loss: 0.9019 - val_accuracy: 0.6915\n",
            "Epoch 67/70\n",
            "350/350 [==============================] - 58s 167ms/step - loss: 0.9177 - accuracy: 0.6959 - val_loss: 0.9248 - val_accuracy: 0.6868\n",
            "Epoch 68/70\n",
            "350/350 [==============================] - 59s 167ms/step - loss: 0.9129 - accuracy: 0.7002 - val_loss: 0.9752 - val_accuracy: 0.6710\n",
            "Epoch 69/70\n",
            "350/350 [==============================] - 59s 167ms/step - loss: 0.9058 - accuracy: 0.7018 - val_loss: 1.1256 - val_accuracy: 0.6129\n",
            "Epoch 70/70\n",
            "350/350 [==============================] - 58s 166ms/step - loss: 0.9066 - accuracy: 0.7009 - val_loss: 0.9371 - val_accuracy: 0.6795\n"
          ]
        }
      ]
    },
    {
      "cell_type": "code",
      "metadata": {
        "colab": {
          "base_uri": "https://localhost:8080/"
        },
        "id": "6TPWh6OJjmeB",
        "outputId": "2b0b8235-7920-4332-9edf-4fb0317b0905"
      },
      "source": [
        "test_eval = Model_1.evaluate(x_test,y_test)"
      ],
      "execution_count": null,
      "outputs": [
        {
          "output_type": "stream",
          "name": "stdout",
          "text": [
            "313/313 [==============================] - 12s 31ms/step - loss: 0.9399 - accuracy: 0.6809\n"
          ]
        }
      ]
    },
    {
      "cell_type": "code",
      "metadata": {
        "colab": {
          "base_uri": "https://localhost:8080/"
        },
        "id": "DRUpbI7wk7AI",
        "outputId": "730c289e-4b12-4f34-fbde-cb97705eb94b"
      },
      "source": [
        "Val_Check = Model_1.evaluate(x_val,y_val)"
      ],
      "execution_count": null,
      "outputs": [
        {
          "output_type": "stream",
          "name": "stdout",
          "text": [
            "469/469 [==============================] - 14s 30ms/step - loss: 0.9387 - accuracy: 0.6824\n"
          ]
        }
      ]
    },
    {
      "cell_type": "code",
      "metadata": {
        "colab": {
          "base_uri": "https://localhost:8080/"
        },
        "id": "nhiu38sqor9c",
        "outputId": "096255dc-513f-4285-f235-ce34acdca54f"
      },
      "source": [
        "train_check = Model_1.evaluate(x_train,y_train)"
      ],
      "execution_count": null,
      "outputs": [
        {
          "output_type": "stream",
          "name": "stdout",
          "text": [
            "1094/1094 [==============================] - 32s 29ms/step - loss: 0.8255 - accuracy: 0.7174\n"
          ]
        }
      ]
    },
    {
      "cell_type": "code",
      "metadata": {
        "colab": {
          "base_uri": "https://localhost:8080/"
        },
        "id": "L40ficFAmcqm",
        "outputId": "9922bbe5-e527-4859-a5d5-c6f455d682a0"
      },
      "source": [
        "Model_1.save('transferC10.h5')\n"
      ],
      "execution_count": null,
      "outputs": [
        {
          "output_type": "stream",
          "name": "stderr",
          "text": [
            "/usr/local/lib/python3.7/dist-packages/keras/engine/functional.py:1410: CustomMaskWarning: Custom mask layers require a config and must override get_config. When loading, the custom mask layer must be passed to the custom_objects argument.\n",
            "  layer_config = serialize_layer_fn(layer)\n"
          ]
        }
      ]
    },
    {
      "cell_type": "code",
      "metadata": {
        "id": "2UVjBk6dvUMN"
      },
      "source": [
        "import pandas as pd\n"
      ],
      "execution_count": null,
      "outputs": []
    },
    {
      "cell_type": "code",
      "metadata": {
        "colab": {
          "base_uri": "https://localhost:8080/",
          "height": 320
        },
        "id": "04rD2jOXmiE8",
        "outputId": "7cfda86a-a54b-4312-9df2-a394bb9ea2c7"
      },
      "source": [
        "pd.DataFrame(history.history).plot(figsize=(7,5))\n",
        "plt.grid(True)\n",
        "plt.gca().set_ylim(0,2.2)\n",
        "\n",
        "plt.savefig('hola')\n",
        "\n",
        "\n"
      ],
      "execution_count": null,
      "outputs": [
        {
          "output_type": "display_data",
          "data": {
            "image/png": "[encoded data removed]",
            "text/plain": [
              "<Figure size 504x360 with 1 Axes>"
            ]
          },
          "metadata": {
            "needs_background": "light"
          }
        }
      ]
    },
    {
      "cell_type": "code",
      "metadata": {
        "colab": {
          "base_uri": "https://localhost:8080/",
          "height": 295
        },
        "id": "xeUYV2YDj2Ag",
        "outputId": "31761a19-71bb-4fb3-e3eb-6ad39c5b8c22"
      },
      "source": [
        "plt.plot(history.history['accuracy'], label=\"train_accuracy\")\n",
        "plt.plot(history.history['val_accuracy'], label=\"validaion_acc\")\n",
        "plt.title('Validation and Train Accuracy History')\n",
        "plt.legend()\n",
        "plt.grid()\n",
        "plt.gca()\n",
        "plt.xlabel('Epochs')\n",
        "plt.ylabel('Accuracy')\n",
        "plt.show()"
      ],
      "execution_count": null,
      "outputs": [
        {
          "output_type": "display_data",
          "data": {
            "image/png": "[encoded data removed]",
            "text/plain": [
              "<Figure size 432x288 with 1 Axes>"
            ]
          },
          "metadata": {
            "needs_background": "light"
          }
        }
      ]
    },
    {
      "cell_type": "code",
      "metadata": {
        "colab": {
          "base_uri": "https://localhost:8080/",
          "height": 295
        },
        "id": "Ynwb5QNWVhqD",
        "outputId": "d759fe88-67e1-46d2-9fc2-ae3b1406f5d0"
      },
      "source": [
        "plt.plot(history.history['loss'], label=\"train_loss\")\n",
        "plt.plot(history.history['val_loss'], label=\"validaion_loss\")\n",
        "plt.title('Validation loss history')\n",
        "plt.legend()\n",
        "plt.grid()\n",
        "plt.gca()\n",
        "plt.xlabel('Epochs')\n",
        "plt.ylabel('Loss')\n",
        "plt.show()"
      ],
      "execution_count": null,
      "outputs": [
        {
          "output_type": "display_data",
          "data": {
            "image/png": "[encoded data removed]",
            "text/plain": [
              "<Figure size 432x288 with 1 Axes>"
            ]
          },
          "metadata": {
            "needs_background": "light"
          }
        }
      ]
    },
    {
      "cell_type": "code",
      "metadata": {
        "colab": {
          "base_uri": "https://localhost:8080/",
          "height": 312
        },
        "id": "hLbcjoQyV3Xn",
        "outputId": "6f9f3b34-e05e-4cfc-e2a1-0a029926c886"
      },
      "source": [
        "fig = plt.figure\n",
        "plt.plot(history.history['accuracy'], label=\"train_accuracy\")\n",
        "plt.plot(history.history['val_accuracy'], label=\"validaion_acc\")\n",
        "plt.plot(history.history['loss'], label='train_loss')\n",
        "plt.plot(history.history['val_loss'],label='validation loss')\n",
        "plt.title('Validation and Train history over Epochs')\n",
        "plt.legend()\n",
        "plt.grid()\n",
        "plt.gca().set_ylim(0,2.4)\n",
        "plt.xlabel('Epochs')\n",
        "plt.ylabel('Loss')\n",
        "plt.ylabel('Accuracy')"
      ],
      "execution_count": null,
      "outputs": [
        {
          "output_type": "execute_result",
          "data": {
            "text/plain": [
              "Text(0, 0.5, 'Accuracy')"
            ]
          },
          "metadata": {},
          "execution_count": 43
        },
        {
          "output_type": "display_data",
          "data": {
            "image/png": "[encoded data removed]",
            "text/plain": [
              "<Figure size 432x288 with 1 Axes>"
            ]
          },
          "metadata": {
            "needs_background": "light"
          }
        }
      ]
    }
  ]
}