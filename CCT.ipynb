{
  "nbformat": 4,
  "nbformat_minor": 0,
  "metadata": {
    "colab": {
      "name": "CCT.ipynb",
      "provenance": [],
      "collapsed_sections": []
    },
    "kernelspec": {
      "name": "python3",
      "display_name": "Python 3"
    },
    "language_info": {
      "name": "python"
    }
  },
  "cells": [
    {
      "cell_type": "code",
      "metadata": {
        "id": "USJs3RWGyW5y",
        "colab": {
          "base_uri": "https://localhost:8080/"
        },
        "outputId": "3923d958-bf3a-46cd-a291-750e4a04feaa"
      },
      "source": [
        "from tensorflow.keras import layers\n",
        "from tensorflow import keras\n",
        "import numpy as np\n",
        "import matplotlib.pyplot as plt\n",
        "import numpy as np\n",
        "import tensorflow as tf\n",
        "!pip install tensorflow-addons\n",
        "import tensorflow_addons as tfa"
      ],
      "execution_count": null,
      "outputs": [
        {
          "output_type": "stream",
          "name": "stdout",
          "text": [
            "Requirement already satisfied: tensorflow-addons in /usr/local/lib/python3.7/dist-packages (0.15.0)\n",
            "Requirement already satisfied: typeguard>=2.7 in /usr/local/lib/python3.7/dist-packages (from tensorflow-addons) (2.7.1)\n"
          ]
        }
      ]
    },
    {
      "cell_type": "code",
      "metadata": {
        "id": "m2tIHoTMCKbp"
      },
      "source": [
        "positional_emb = True\n",
        "conv_layers = 2\n",
        "projection_dim = 128\n",
        "\n",
        "num_heads = 2\n",
        "transformer_units = [\n",
        "    projection_dim,\n",
        "    projection_dim,\n",
        "]\n",
        "transformer_layers = 2\n",
        "stochastic_depth_rate = 0.1\n",
        "\n",
        "learning_rate = 0.001\n",
        "weight_decay = 0.0001\n",
        "batch_size = 128\n",
        "num_epochs = 30\n",
        "image_size = 32"
      ],
      "execution_count": null,
      "outputs": []
    },
    {
      "cell_type": "markdown",
      "metadata": {
        "id": "aLzb3UtSCaX3"
      },
      "source": [
        "Load the CIFA-10 Dataset.\n"
      ]
    },
    {
      "cell_type": "code",
      "metadata": {
        "colab": {
          "base_uri": "https://localhost:8080/"
        },
        "id": "VYstvpplCR9Z",
        "outputId": "eaa90c28-54e1-4389-f477-45cdb533a0ab"
      },
      "source": [
        "num_classes = 10\n",
        "input_shape = (32, 32, 3)\n",
        "\n",
        "(x_train, y_train), (x_test, y_test) = keras.datasets.cifar10.load_data()\n",
        "\n",
        "y_train = keras.utils.to_categorical(y_train, num_classes)\n",
        "y_test = keras.utils.to_categorical(y_test, num_classes)\n",
        "\n",
        "print(f\"x_train shape: {x_train.shape} - y_train shape: {y_train.shape}\")\n",
        "print(f\"x_test shape: {x_test.shape} - y_test shape: {y_test.shape}\")"
      ],
      "execution_count": null,
      "outputs": [
        {
          "output_type": "stream",
          "name": "stdout",
          "text": [
            "Downloading data from https://www.cs.toronto.edu/~kriz/cifar-10-python.tar.gz\n",
            "170500096/170498071 [==============================] - 11s 0us/step\n",
            "170508288/170498071 [==============================] - 11s 0us/step\n",
            "x_train shape: (50000, 32, 32, 3) - y_train shape: (50000, 10)\n",
            "x_test shape: (10000, 32, 32, 3) - y_test shape: (10000, 10)\n"
          ]
        }
      ]
    },
    {
      "cell_type": "code",
      "metadata": {
        "id": "U3O-dXrBCfvv"
      },
      "source": [
        "class CCTTokenizer(layers.Layer):\n",
        "    def __init__(\n",
        "        self,\n",
        "        kernel_size=3,\n",
        "        stride=1,\n",
        "        padding=1,\n",
        "        pooling_kernel_size=3,\n",
        "        pooling_stride=2,\n",
        "        num_conv_layers=conv_layers,\n",
        "        num_output_channels=[64, 128],\n",
        "        positional_emb=positional_emb,\n",
        "        **kwargs,\n",
        "    ):\n",
        "        super(CCTTokenizer, self).__init__(**kwargs)\n",
        "\n",
        "        # This is our tokenizer.\n",
        "        self.conv_model = keras.Sequential()\n",
        "        for i in range(num_conv_layers):\n",
        "            self.conv_model.add(\n",
        "                layers.Conv2D(\n",
        "                    num_output_channels[i],\n",
        "                    kernel_size,\n",
        "                    stride,\n",
        "                    padding=\"valid\",\n",
        "                    use_bias=False,\n",
        "                    activation=\"relu\",\n",
        "                    kernel_initializer=\"he_normal\",\n",
        "                )\n",
        "            )\n",
        "            self.conv_model.add(layers.ZeroPadding2D(padding))\n",
        "            self.conv_model.add(\n",
        "                layers.MaxPool2D(pooling_kernel_size, pooling_stride, \"same\")\n",
        "            )\n",
        "\n",
        "        self.positional_emb = positional_emb\n",
        "\n",
        "    def call(self, images):\n",
        "        outputs = self.conv_model(images)\n",
        "        # After passing the images through our mini-network the spatial dimensions\n",
        "        # are flattened to form sequences.\n",
        "        reshaped = tf.reshape(\n",
        "            outputs,\n",
        "            (-1, tf.shape(outputs)[1] * tf.shape(outputs)[2], tf.shape(outputs)[-1]),\n",
        "        )\n",
        "        return reshaped\n",
        "\n",
        "    def positional_embedding(self, image_size):\n",
        "        # Positional embeddings are optional in CCT. Here, we calculate\n",
        "        # the number of sequences and initialize an `Embedding` layer to\n",
        "        # compute the positional embeddings later.\n",
        "        if self.positional_emb:\n",
        "            dummy_inputs = tf.ones((1, image_size, image_size, 3))\n",
        "            dummy_outputs = self.call(dummy_inputs)\n",
        "            sequence_length = tf.shape(dummy_outputs)[1]\n",
        "            projection_dim = tf.shape(dummy_outputs)[-1]\n",
        "\n",
        "            embed_layer = layers.Embedding(\n",
        "                input_dim=sequence_length, output_dim=projection_dim\n",
        "            )\n",
        "            return embed_layer, sequence_length\n",
        "        else:\n",
        "            return None\n"
      ],
      "execution_count": null,
      "outputs": []
    },
    {
      "cell_type": "code",
      "metadata": {
        "id": "9JGs0t3ICupj"
      },
      "source": [
        "class StochasticDepth(layers.Layer):\n",
        "    def __init__(self, drop_prop, **kwargs):\n",
        "        super(StochasticDepth, self).__init__(**kwargs)\n",
        "        self.drop_prob = drop_prop\n",
        "\n",
        "    def call(self, x, training=None):\n",
        "        if training:\n",
        "            keep_prob = 1 - self.drop_prob\n",
        "            shape = (tf.shape(x)[0],) + (1,) * (len(tf.shape(x)) - 1)\n",
        "            random_tensor = keep_prob + tf.random.uniform(shape, 0, 1)\n",
        "            random_tensor = tf.floor(random_tensor)\n",
        "            return (x / keep_prob) * random_tensor\n",
        "        return x"
      ],
      "execution_count": null,
      "outputs": []
    },
    {
      "cell_type": "code",
      "metadata": {
        "id": "y4DOrrvbCysL"
      },
      "source": [
        "def mlp(x, hidden_units, dropout_rate):\n",
        "    for units in hidden_units:\n",
        "        x = layers.Dense(units, activation=tf.nn.gelu)(x)\n",
        "        x = layers.Dropout(dropout_rate)(x)\n",
        "    return x"
      ],
      "execution_count": null,
      "outputs": []
    },
    {
      "cell_type": "code",
      "metadata": {
        "id": "WFLbEhizC2I8"
      },
      "source": [
        "data_augmentation = keras.Sequential(\n",
        "    [\n",
        "        layers.Rescaling(scale=1.0 / 255),\n",
        "        layers.RandomCrop(image_size, image_size),\n",
        "        layers.RandomFlip(\"horizontal\"),\n",
        "    ],\n",
        "    name=\"data_augmentation\",\n",
        ")\n"
      ],
      "execution_count": null,
      "outputs": []
    },
    {
      "cell_type": "code",
      "metadata": {
        "id": "6cdL_fGMC7E_"
      },
      "source": [
        "def create_cct_model(\n",
        "    image_size=image_size,\n",
        "    input_shape=input_shape,\n",
        "    num_heads=num_heads,\n",
        "    projection_dim=projection_dim,\n",
        "    transformer_units=transformer_units,\n",
        "):\n",
        "\n",
        "    inputs = layers.Input(input_shape)\n",
        "\n",
        "    # Augment data.\n",
        "    augmented = data_augmentation(inputs)\n",
        "\n",
        "    # Encode patches.\n",
        "    cct_tokenizer = CCTTokenizer()\n",
        "    encoded_patches = cct_tokenizer(augmented)\n",
        "\n",
        "    # Apply positional embedding.\n",
        "    if positional_emb:\n",
        "        pos_embed, seq_length = cct_tokenizer.positional_embedding(image_size)\n",
        "        positions = tf.range(start=0, limit=seq_length, delta=1)\n",
        "        position_embeddings = pos_embed(positions)\n",
        "        encoded_patches += position_embeddings\n",
        "\n",
        "    # Calculate Stochastic Depth probabilities.\n",
        "    dpr = [x for x in np.linspace(0, stochastic_depth_rate, transformer_layers)]\n",
        "\n",
        "    # Create multiple layers of the Transformer block.\n",
        "    for i in range(transformer_layers):\n",
        "        # Layer normalization 1.\n",
        "        x1 = layers.LayerNormalization(epsilon=1e-5)(encoded_patches)\n",
        "\n",
        "        # Create a multi-head attention layer.\n",
        "        attention_output = layers.MultiHeadAttention(\n",
        "            num_heads=num_heads, key_dim=projection_dim, dropout=0.1\n",
        "        )(x1, x1)\n",
        "\n",
        "        # Skip connection 1.\n",
        "        attention_output = StochasticDepth(dpr[i])(attention_output)\n",
        "        x2 = layers.Add()([attention_output, encoded_patches])\n",
        "\n",
        "        # Layer normalization 2.\n",
        "        x3 = layers.LayerNormalization(epsilon=1e-5)(x2)\n",
        "\n",
        "        # MLP.\n",
        "        x3 = mlp(x3, hidden_units=transformer_units, dropout_rate=0.1)\n",
        "\n",
        "        # Skip connection 2.\n",
        "        x3 = StochasticDepth(dpr[i])(x3)\n",
        "        encoded_patches = layers.Add()([x3, x2])\n",
        "\n",
        "    # Apply sequence pooling.\n",
        "    representation = layers.LayerNormalization(epsilon=1e-5)(encoded_patches)\n",
        "    attention_weights = tf.nn.softmax(layers.Dense(1)(representation), axis=1)\n",
        "    weighted_representation = tf.matmul(\n",
        "        attention_weights, representation, transpose_a=True\n",
        "    )\n",
        "    weighted_representation = tf.squeeze(weighted_representation, -2)\n",
        "\n",
        "    # Classify outputs.\n",
        "    logits = layers.Dense(num_classes)(weighted_representation)\n",
        "    # Create the Keras model.\n",
        "    model = keras.Model(inputs=inputs, outputs=logits)\n",
        "    return model\n",
        "\n"
      ],
      "execution_count": null,
      "outputs": []
    },
    {
      "cell_type": "code",
      "metadata": {
        "colab": {
          "base_uri": "https://localhost:8080/"
        },
        "id": "1-IYj5NMDMMo",
        "outputId": "29ce69a6-b659-4f7e-ceeb-392a84dd9d99"
      },
      "source": [
        "def run_experiment(model):\n",
        "    optimizer = tfa.optimizers.AdamW(learning_rate=0.001, weight_decay=0.0001)\n",
        "\n",
        "    model.compile(\n",
        "        optimizer=optimizer,\n",
        "        loss=keras.losses.CategoricalCrossentropy(\n",
        "            from_logits=True, label_smoothing=0.1\n",
        "        ),\n",
        "        metrics=[\n",
        "            keras.metrics.CategoricalAccuracy(name=\"accuracy\"),\n",
        "            keras.metrics.TopKCategoricalAccuracy(5, name=\"top-5-accuracy\"),\n",
        "        ],\n",
        "    )\n",
        "\n",
        "    checkpoint_filepath = \"/tmp/checkpoint\"\n",
        "    checkpoint_callback = keras.callbacks.ModelCheckpoint(\n",
        "        checkpoint_filepath,\n",
        "        monitor=\"val_accuracy\",\n",
        "        save_best_only=True,\n",
        "        save_weights_only=True,\n",
        "    )\n",
        "\n",
        "    history = model.fit(\n",
        "        x=x_train,\n",
        "        y=y_train,\n",
        "        batch_size=batch_size,\n",
        "        epochs=num_epochs,\n",
        "        validation_split=0.1,\n",
        "        callbacks=[checkpoint_callback],\n",
        "    )\n",
        "\n",
        "    model.load_weights(checkpoint_filepath)\n",
        "    _, accuracy, top_5_accuracy = model.evaluate(x_test, y_test)\n",
        "    print(f\"Test accuracy: {round(accuracy * 100, 2)}%\")\n",
        "    print(f\"Test top 5 accuracy: {round(top_5_accuracy * 100, 2)}%\")\n",
        "\n",
        "    return history\n",
        "\n",
        "\n",
        "cct_model = create_cct_model()\n",
        "history = run_experiment(cct_model)\n"
      ],
      "execution_count": null,
      "outputs": [
        {
          "output_type": "stream",
          "name": "stdout",
          "text": [
            "Epoch 1/30\n",
            "352/352 [==============================] - 35s 81ms/step - loss: 1.9436 - accuracy: 0.3150 - top-5-accuracy: 0.8193 - val_loss: 1.7112 - val_accuracy: 0.4506 - val_top-5-accuracy: 0.8958\n",
            "Epoch 2/30\n",
            "352/352 [==============================] - 28s 78ms/step - loss: 1.6185 - accuracy: 0.4759 - top-5-accuracy: 0.9230 - val_loss: 1.5266 - val_accuracy: 0.5062 - val_top-5-accuracy: 0.9450\n",
            "Epoch 3/30\n",
            "352/352 [==============================] - 28s 79ms/step - loss: 1.4740 - accuracy: 0.5480 - top-5-accuracy: 0.9479 - val_loss: 1.3813 - val_accuracy: 0.5928 - val_top-5-accuracy: 0.9560\n",
            "Epoch 4/30\n",
            "352/352 [==============================] - 27s 78ms/step - loss: 1.3852 - accuracy: 0.5931 - top-5-accuracy: 0.9581 - val_loss: 1.4215 - val_accuracy: 0.5770 - val_top-5-accuracy: 0.9542\n",
            "Epoch 5/30\n",
            "352/352 [==============================] - 27s 78ms/step - loss: 1.3285 - accuracy: 0.6211 - top-5-accuracy: 0.9630 - val_loss: 1.3734 - val_accuracy: 0.6030 - val_top-5-accuracy: 0.9670\n",
            "Epoch 6/30\n",
            "352/352 [==============================] - 28s 78ms/step - loss: 1.2829 - accuracy: 0.6426 - top-5-accuracy: 0.9668 - val_loss: 1.2431 - val_accuracy: 0.6612 - val_top-5-accuracy: 0.9698\n",
            "Epoch 7/30\n",
            "352/352 [==============================] - 28s 78ms/step - loss: 1.2446 - accuracy: 0.6659 - top-5-accuracy: 0.9705 - val_loss: 1.2191 - val_accuracy: 0.6788 - val_top-5-accuracy: 0.9724\n",
            "Epoch 8/30\n",
            "352/352 [==============================] - 28s 78ms/step - loss: 1.2040 - accuracy: 0.6810 - top-5-accuracy: 0.9736 - val_loss: 1.1895 - val_accuracy: 0.6950 - val_top-5-accuracy: 0.9728\n",
            "Epoch 9/30\n",
            "352/352 [==============================] - 27s 78ms/step - loss: 1.1905 - accuracy: 0.6870 - top-5-accuracy: 0.9740 - val_loss: 1.1542 - val_accuracy: 0.7040 - val_top-5-accuracy: 0.9766\n",
            "Epoch 10/30\n",
            "352/352 [==============================] - 28s 78ms/step - loss: 1.1563 - accuracy: 0.7048 - top-5-accuracy: 0.9770 - val_loss: 1.1444 - val_accuracy: 0.7104 - val_top-5-accuracy: 0.9766\n",
            "Epoch 11/30\n",
            "352/352 [==============================] - 27s 78ms/step - loss: 1.1321 - accuracy: 0.7184 - top-5-accuracy: 0.9789 - val_loss: 1.1493 - val_accuracy: 0.7160 - val_top-5-accuracy: 0.9788\n",
            "Epoch 12/30\n",
            "352/352 [==============================] - 28s 78ms/step - loss: 1.1161 - accuracy: 0.7242 - top-5-accuracy: 0.9802 - val_loss: 1.1239 - val_accuracy: 0.7228 - val_top-5-accuracy: 0.9772\n",
            "Epoch 13/30\n",
            "352/352 [==============================] - 27s 78ms/step - loss: 1.0917 - accuracy: 0.7369 - top-5-accuracy: 0.9825 - val_loss: 1.1326 - val_accuracy: 0.7176 - val_top-5-accuracy: 0.9798\n",
            "Epoch 14/30\n",
            "352/352 [==============================] - 28s 78ms/step - loss: 1.0802 - accuracy: 0.7414 - top-5-accuracy: 0.9830 - val_loss: 1.0938 - val_accuracy: 0.7358 - val_top-5-accuracy: 0.9832\n",
            "Epoch 15/30\n",
            "352/352 [==============================] - 28s 79ms/step - loss: 1.0568 - accuracy: 0.7537 - top-5-accuracy: 0.9839 - val_loss: 1.0687 - val_accuracy: 0.7524 - val_top-5-accuracy: 0.9816\n",
            "Epoch 16/30\n",
            "352/352 [==============================] - 27s 78ms/step - loss: 1.0464 - accuracy: 0.7588 - top-5-accuracy: 0.9845 - val_loss: 1.0464 - val_accuracy: 0.7668 - val_top-5-accuracy: 0.9812\n",
            "Epoch 17/30\n",
            "352/352 [==============================] - 27s 78ms/step - loss: 1.0369 - accuracy: 0.7617 - top-5-accuracy: 0.9852 - val_loss: 1.0462 - val_accuracy: 0.7594 - val_top-5-accuracy: 0.9844\n",
            "Epoch 18/30\n",
            "352/352 [==============================] - 27s 78ms/step - loss: 1.0289 - accuracy: 0.7653 - top-5-accuracy: 0.9868 - val_loss: 1.0639 - val_accuracy: 0.7554 - val_top-5-accuracy: 0.9838\n",
            "Epoch 19/30\n",
            "352/352 [==============================] - 28s 78ms/step - loss: 1.0191 - accuracy: 0.7706 - top-5-accuracy: 0.9868 - val_loss: 1.0253 - val_accuracy: 0.7670 - val_top-5-accuracy: 0.9826\n",
            "Epoch 20/30\n",
            "352/352 [==============================] - 27s 78ms/step - loss: 0.9996 - accuracy: 0.7792 - top-5-accuracy: 0.9870 - val_loss: 1.0723 - val_accuracy: 0.7500 - val_top-5-accuracy: 0.9836\n",
            "Epoch 21/30\n",
            "352/352 [==============================] - 28s 78ms/step - loss: 0.9953 - accuracy: 0.7805 - top-5-accuracy: 0.9870 - val_loss: 1.0222 - val_accuracy: 0.7776 - val_top-5-accuracy: 0.9870\n",
            "Epoch 22/30\n",
            "352/352 [==============================] - 27s 78ms/step - loss: 0.9841 - accuracy: 0.7859 - top-5-accuracy: 0.9887 - val_loss: 1.0563 - val_accuracy: 0.7608 - val_top-5-accuracy: 0.9830\n",
            "Epoch 23/30\n",
            "352/352 [==============================] - 28s 78ms/step - loss: 0.9747 - accuracy: 0.7898 - top-5-accuracy: 0.9891 - val_loss: 1.0349 - val_accuracy: 0.7654 - val_top-5-accuracy: 0.9858\n",
            "Epoch 24/30\n",
            "352/352 [==============================] - 28s 78ms/step - loss: 0.9702 - accuracy: 0.7929 - top-5-accuracy: 0.9879 - val_loss: 1.0230 - val_accuracy: 0.7714 - val_top-5-accuracy: 0.9868\n",
            "Epoch 25/30\n",
            "352/352 [==============================] - 28s 78ms/step - loss: 0.9670 - accuracy: 0.7928 - top-5-accuracy: 0.9892 - val_loss: 1.0655 - val_accuracy: 0.7580 - val_top-5-accuracy: 0.9766\n",
            "Epoch 26/30\n",
            "352/352 [==============================] - 28s 78ms/step - loss: 0.9565 - accuracy: 0.8005 - top-5-accuracy: 0.9891 - val_loss: 1.0264 - val_accuracy: 0.7744 - val_top-5-accuracy: 0.9848\n",
            "Epoch 27/30\n",
            "352/352 [==============================] - 28s 78ms/step - loss: 0.9529 - accuracy: 0.8000 - top-5-accuracy: 0.9898 - val_loss: 0.9891 - val_accuracy: 0.7868 - val_top-5-accuracy: 0.9862\n",
            "Epoch 28/30\n",
            "352/352 [==============================] - 28s 78ms/step - loss: 0.9425 - accuracy: 0.8050 - top-5-accuracy: 0.9901 - val_loss: 1.0125 - val_accuracy: 0.7794 - val_top-5-accuracy: 0.9854\n",
            "Epoch 29/30\n",
            "352/352 [==============================] - 27s 78ms/step - loss: 0.9431 - accuracy: 0.8036 - top-5-accuracy: 0.9905 - val_loss: 1.0196 - val_accuracy: 0.7726 - val_top-5-accuracy: 0.9880\n",
            "Epoch 30/30\n",
            "352/352 [==============================] - 27s 78ms/step - loss: 0.9359 - accuracy: 0.8079 - top-5-accuracy: 0.9900 - val_loss: 1.0174 - val_accuracy: 0.7758 - val_top-5-accuracy: 0.9874\n",
            "313/313 [==============================] - 5s 17ms/step - loss: 1.0119 - accuracy: 0.7750 - top-5-accuracy: 0.9828\n",
            "Test accuracy: 77.5%\n",
            "Test top 5 accuracy: 98.28%\n"
          ]
        }
      ]
    },
    {
      "cell_type": "code",
      "metadata": {
        "colab": {
          "base_uri": "https://localhost:8080/",
          "height": 296
        },
        "id": "F_p3vRtXHF8C",
        "outputId": "217b3129-6d6a-4beb-e80f-fc0a37551444"
      },
      "source": [
        "plt.plot(history.history[\"loss\"], label=\"train_loss\")\n",
        "plt.plot(history.history[\"val_loss\"], label=\"val_loss\")\n",
        "plt.xlabel(\"Epochs\")\n",
        "plt.ylabel(\"Loss\")\n",
        "plt.title(\"Train and Validation Losses Over Epochs\", fontsize=14)\n",
        "plt.legend()\n",
        "plt.grid()\n",
        "plt.show()"
      ],
      "execution_count": null,
      "outputs": [
        {
          "output_type": "display_data",
          "data": {
            "image/png": "[encoded data removed]",
            "text/plain": [
              "<Figure size 432x288 with 1 Axes>"
            ]
          },
          "metadata": {
            "needs_background": "light"
          }
        }
      ]
    },
    {
      "cell_type": "code",
      "metadata": {
        "colab": {
          "base_uri": "https://localhost:8080/",
          "height": 296
        },
        "id": "r8kDvfMwKufN",
        "outputId": "3a332be5-f9c4-46d8-c2fc-cdab1fc95a90"
      },
      "source": [
        "plt.plot(history.history[\"accuracy\"], label=\"train_accuracy\")\n",
        "plt.plot(history.history[\"val_accuracy\"], label=\"val_accuracy\")\n",
        "plt.xlabel(\"Epochs\")\n",
        "plt.ylabel(\"Loss\")\n",
        "plt.title(\"Training and Validation accuracy Over Epochs\", fontsize=14)\n",
        "plt.legend()\n",
        "plt.grid()\n",
        "plt.show()"
      ],
      "execution_count": null,
      "outputs": [
        {
          "output_type": "display_data",
          "data": {
            "image/png": "[encoded data removed]",
            "text/plain": [
              "<Figure size 432x288 with 1 Axes>"
            ]
          },
          "metadata": {
            "needs_background": "light"
          }
        }
      ]
    }
  ]
}