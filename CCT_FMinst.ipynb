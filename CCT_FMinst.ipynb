{
  "nbformat": 4,
  "nbformat_minor": 0,
  "metadata": {
    "colab": {
      "name": "CCT_FMinst.ipynb",
      "provenance": [],
      "collapsed_sections": []
    },
    "kernelspec": {
      "name": "python3",
      "display_name": "Python 3"
    },
    "language_info": {
      "name": "python"
    },
    "accelerator": "GPU"
  },
  "cells": [
    {
      "cell_type": "code",
      "metadata": {
        "id": "WJjF6jh2dFjW",
        "colab": {
          "base_uri": "https://localhost:8080/"
        },
        "outputId": "ffe9b311-fd86-48e2-ba95-23e2282c68a6"
      },
      "source": [
        "from tensorflow.keras import layers\n",
        "from tensorflow import keras\n",
        "import numpy as np\n",
        "import matplotlib.pyplot as plt\n",
        "import numpy as np\n",
        "import tensorflow as tf\n",
        "!pip install tensorflow-addons\n",
        "import tensorflow_addons as tfa"
      ],
      "execution_count": null,
      "outputs": [
        {
          "output_type": "stream",
          "name": "stdout",
          "text": [
            "Collecting tensorflow-addons\n",
            "  Downloading tensorflow_addons-0.15.0-cp37-cp37m-manylinux_2_12_x86_64.manylinux2010_x86_64.whl (1.1 MB)\n",
            "\u001b[?25l\r\u001b[K     |▎                               | 10 kB 12.5 MB/s eta 0:00:01\r\u001b[K     |▋                               | 20 kB 17.3 MB/s eta 0:00:01\r\u001b[K     |▉                               | 30 kB 21.9 MB/s eta 0:00:01\r\u001b[K     |█▏                              | 40 kB 14.9 MB/s eta 0:00:01\r\u001b[K     |█▌                              | 51 kB 6.3 MB/s eta 0:00:01\r\u001b[K     |█▊                              | 61 kB 6.9 MB/s eta 0:00:01\r\u001b[K     |██                              | 71 kB 6.0 MB/s eta 0:00:01\r\u001b[K     |██▍                             | 81 kB 6.7 MB/s eta 0:00:01\r\u001b[K     |██▋                             | 92 kB 5.2 MB/s eta 0:00:01\r\u001b[K     |███                             | 102 kB 5.6 MB/s eta 0:00:01\r\u001b[K     |███▎                            | 112 kB 5.6 MB/s eta 0:00:01\r\u001b[K     |███▌                            | 122 kB 5.6 MB/s eta 0:00:01\r\u001b[K     |███▉                            | 133 kB 5.6 MB/s eta 0:00:01\r\u001b[K     |████▏                           | 143 kB 5.6 MB/s eta 0:00:01\r\u001b[K     |████▍                           | 153 kB 5.6 MB/s eta 0:00:01\r\u001b[K     |████▊                           | 163 kB 5.6 MB/s eta 0:00:01\r\u001b[K     |█████                           | 174 kB 5.6 MB/s eta 0:00:01\r\u001b[K     |█████▎                          | 184 kB 5.6 MB/s eta 0:00:01\r\u001b[K     |█████▋                          | 194 kB 5.6 MB/s eta 0:00:01\r\u001b[K     |█████▉                          | 204 kB 5.6 MB/s eta 0:00:01\r\u001b[K     |██████▏                         | 215 kB 5.6 MB/s eta 0:00:01\r\u001b[K     |██████▌                         | 225 kB 5.6 MB/s eta 0:00:01\r\u001b[K     |██████▊                         | 235 kB 5.6 MB/s eta 0:00:01\r\u001b[K     |███████                         | 245 kB 5.6 MB/s eta 0:00:01\r\u001b[K     |███████▍                        | 256 kB 5.6 MB/s eta 0:00:01\r\u001b[K     |███████▋                        | 266 kB 5.6 MB/s eta 0:00:01\r\u001b[K     |████████                        | 276 kB 5.6 MB/s eta 0:00:01\r\u001b[K     |████████▎                       | 286 kB 5.6 MB/s eta 0:00:01\r\u001b[K     |████████▌                       | 296 kB 5.6 MB/s eta 0:00:01\r\u001b[K     |████████▉                       | 307 kB 5.6 MB/s eta 0:00:01\r\u001b[K     |█████████                       | 317 kB 5.6 MB/s eta 0:00:01\r\u001b[K     |█████████▍                      | 327 kB 5.6 MB/s eta 0:00:01\r\u001b[K     |█████████▊                      | 337 kB 5.6 MB/s eta 0:00:01\r\u001b[K     |██████████                      | 348 kB 5.6 MB/s eta 0:00:01\r\u001b[K     |██████████▎                     | 358 kB 5.6 MB/s eta 0:00:01\r\u001b[K     |██████████▋                     | 368 kB 5.6 MB/s eta 0:00:01\r\u001b[K     |██████████▉                     | 378 kB 5.6 MB/s eta 0:00:01\r\u001b[K     |███████████▏                    | 389 kB 5.6 MB/s eta 0:00:01\r\u001b[K     |███████████▌                    | 399 kB 5.6 MB/s eta 0:00:01\r\u001b[K     |███████████▊                    | 409 kB 5.6 MB/s eta 0:00:01\r\u001b[K     |████████████                    | 419 kB 5.6 MB/s eta 0:00:01\r\u001b[K     |████████████▍                   | 430 kB 5.6 MB/s eta 0:00:01\r\u001b[K     |████████████▋                   | 440 kB 5.6 MB/s eta 0:00:01\r\u001b[K     |█████████████                   | 450 kB 5.6 MB/s eta 0:00:01\r\u001b[K     |█████████████▎                  | 460 kB 5.6 MB/s eta 0:00:01\r\u001b[K     |█████████████▌                  | 471 kB 5.6 MB/s eta 0:00:01\r\u001b[K     |█████████████▉                  | 481 kB 5.6 MB/s eta 0:00:01\r\u001b[K     |██████████████                  | 491 kB 5.6 MB/s eta 0:00:01\r\u001b[K     |██████████████▍                 | 501 kB 5.6 MB/s eta 0:00:01\r\u001b[K     |██████████████▊                 | 512 kB 5.6 MB/s eta 0:00:01\r\u001b[K     |███████████████                 | 522 kB 5.6 MB/s eta 0:00:01\r\u001b[K     |███████████████▎                | 532 kB 5.6 MB/s eta 0:00:01\r\u001b[K     |███████████████▋                | 542 kB 5.6 MB/s eta 0:00:01\r\u001b[K     |███████████████▉                | 552 kB 5.6 MB/s eta 0:00:01\r\u001b[K     |████████████████▏               | 563 kB 5.6 MB/s eta 0:00:01\r\u001b[K     |████████████████▌               | 573 kB 5.6 MB/s eta 0:00:01\r\u001b[K     |████████████████▊               | 583 kB 5.6 MB/s eta 0:00:01\r\u001b[K     |█████████████████               | 593 kB 5.6 MB/s eta 0:00:01\r\u001b[K     |█████████████████▍              | 604 kB 5.6 MB/s eta 0:00:01\r\u001b[K     |█████████████████▋              | 614 kB 5.6 MB/s eta 0:00:01\r\u001b[K     |██████████████████              | 624 kB 5.6 MB/s eta 0:00:01\r\u001b[K     |██████████████████▏             | 634 kB 5.6 MB/s eta 0:00:01\r\u001b[K     |██████████████████▌             | 645 kB 5.6 MB/s eta 0:00:01\r\u001b[K     |██████████████████▉             | 655 kB 5.6 MB/s eta 0:00:01\r\u001b[K     |███████████████████             | 665 kB 5.6 MB/s eta 0:00:01\r\u001b[K     |███████████████████▍            | 675 kB 5.6 MB/s eta 0:00:01\r\u001b[K     |███████████████████▊            | 686 kB 5.6 MB/s eta 0:00:01\r\u001b[K     |████████████████████            | 696 kB 5.6 MB/s eta 0:00:01\r\u001b[K     |████████████████████▎           | 706 kB 5.6 MB/s eta 0:00:01\r\u001b[K     |████████████████████▋           | 716 kB 5.6 MB/s eta 0:00:01\r\u001b[K     |████████████████████▉           | 727 kB 5.6 MB/s eta 0:00:01\r\u001b[K     |█████████████████████▏          | 737 kB 5.6 MB/s eta 0:00:01\r\u001b[K     |█████████████████████▌          | 747 kB 5.6 MB/s eta 0:00:01\r\u001b[K     |█████████████████████▊          | 757 kB 5.6 MB/s eta 0:00:01\r\u001b[K     |██████████████████████          | 768 kB 5.6 MB/s eta 0:00:01\r\u001b[K     |██████████████████████▎         | 778 kB 5.6 MB/s eta 0:00:01\r\u001b[K     |██████████████████████▋         | 788 kB 5.6 MB/s eta 0:00:01\r\u001b[K     |███████████████████████         | 798 kB 5.6 MB/s eta 0:00:01\r\u001b[K     |███████████████████████▏        | 808 kB 5.6 MB/s eta 0:00:01\r\u001b[K     |███████████████████████▌        | 819 kB 5.6 MB/s eta 0:00:01\r\u001b[K     |███████████████████████▉        | 829 kB 5.6 MB/s eta 0:00:01\r\u001b[K     |████████████████████████        | 839 kB 5.6 MB/s eta 0:00:01\r\u001b[K     |████████████████████████▍       | 849 kB 5.6 MB/s eta 0:00:01\r\u001b[K     |████████████████████████▊       | 860 kB 5.6 MB/s eta 0:00:01\r\u001b[K     |█████████████████████████       | 870 kB 5.6 MB/s eta 0:00:01\r\u001b[K     |█████████████████████████▎      | 880 kB 5.6 MB/s eta 0:00:01\r\u001b[K     |█████████████████████████▋      | 890 kB 5.6 MB/s eta 0:00:01\r\u001b[K     |█████████████████████████▉      | 901 kB 5.6 MB/s eta 0:00:01\r\u001b[K     |██████████████████████████▏     | 911 kB 5.6 MB/s eta 0:00:01\r\u001b[K     |██████████████████████████▌     | 921 kB 5.6 MB/s eta 0:00:01\r\u001b[K     |██████████████████████████▊     | 931 kB 5.6 MB/s eta 0:00:01\r\u001b[K     |███████████████████████████     | 942 kB 5.6 MB/s eta 0:00:01\r\u001b[K     |███████████████████████████▎    | 952 kB 5.6 MB/s eta 0:00:01\r\u001b[K     |███████████████████████████▋    | 962 kB 5.6 MB/s eta 0:00:01\r\u001b[K     |████████████████████████████    | 972 kB 5.6 MB/s eta 0:00:01\r\u001b[K     |████████████████████████████▏   | 983 kB 5.6 MB/s eta 0:00:01\r\u001b[K     |████████████████████████████▌   | 993 kB 5.6 MB/s eta 0:00:01\r\u001b[K     |████████████████████████████▉   | 1.0 MB 5.6 MB/s eta 0:00:01\r\u001b[K     |█████████████████████████████   | 1.0 MB 5.6 MB/s eta 0:00:01\r\u001b[K     |█████████████████████████████▍  | 1.0 MB 5.6 MB/s eta 0:00:01\r\u001b[K     |█████████████████████████████▊  | 1.0 MB 5.6 MB/s eta 0:00:01\r\u001b[K     |██████████████████████████████  | 1.0 MB 5.6 MB/s eta 0:00:01\r\u001b[K     |██████████████████████████████▎ | 1.1 MB 5.6 MB/s eta 0:00:01\r\u001b[K     |██████████████████████████████▋ | 1.1 MB 5.6 MB/s eta 0:00:01\r\u001b[K     |██████████████████████████████▉ | 1.1 MB 5.6 MB/s eta 0:00:01\r\u001b[K     |███████████████████████████████▏| 1.1 MB 5.6 MB/s eta 0:00:01\r\u001b[K     |███████████████████████████████▍| 1.1 MB 5.6 MB/s eta 0:00:01\r\u001b[K     |███████████████████████████████▊| 1.1 MB 5.6 MB/s eta 0:00:01\r\u001b[K     |████████████████████████████████| 1.1 MB 5.6 MB/s \n",
            "\u001b[?25hRequirement already satisfied: typeguard>=2.7 in /usr/local/lib/python3.7/dist-packages (from tensorflow-addons) (2.7.1)\n",
            "Installing collected packages: tensorflow-addons\n",
            "Successfully installed tensorflow-addons-0.15.0\n"
          ]
        }
      ]
    },
    {
      "cell_type": "code",
      "metadata": {
        "id": "UpRtmmSEd0ML"
      },
      "source": [
        "positional_emb = True\n",
        "conv_layers = 2\n",
        "projection_dim = 128\n",
        "\n",
        "num_heads = 2\n",
        "transformer_units = [\n",
        "    projection_dim,\n",
        "    projection_dim,\n",
        "]\n",
        "transformer_layers = 2\n",
        "stochastic_depth_rate = 0.1\n",
        "\n",
        "learning_rate = 0.001\n",
        "weight_decay = 0.0001\n",
        "batch_size = 64\n",
        "num_epochs = 20\n",
        "image_size = 28"
      ],
      "execution_count": null,
      "outputs": []
    },
    {
      "cell_type": "code",
      "metadata": {
        "colab": {
          "base_uri": "https://localhost:8080/"
        },
        "id": "VSXyNXPGd6oz",
        "outputId": "872106ff-1b92-4e88-c1f6-d00940c39aff"
      },
      "source": [
        "num_classes = 10\n",
        "input_shape = (28, 28, 1)\n",
        "\n",
        "(x_train, y_train), (x_test, y_test) = keras.datasets.fashion_mnist.load_data()\n",
        "\n",
        "y_train = keras.utils.to_categorical(y_train, num_classes)\n",
        "y_test = keras.utils.to_categorical(y_test, num_classes)\n",
        "\n",
        "print(f\"x_train shape: {x_train.shape} - y_train shape: {y_train.shape}\")\n",
        "print(f\"x_test shape: {x_test.shape} - y_test shape: {y_test.shape}\")"
      ],
      "execution_count": null,
      "outputs": [
        {
          "output_type": "stream",
          "name": "stdout",
          "text": [
            "x_train shape: (60000, 28, 28) - y_train shape: (60000, 10)\n",
            "x_test shape: (10000, 28, 28) - y_test shape: (10000, 10)\n"
          ]
        }
      ]
    },
    {
      "cell_type": "code",
      "metadata": {
        "id": "-ZjqMHkpemwk"
      },
      "source": [
        "class CCTTokenizer(layers.Layer):\n",
        "    def __init__(\n",
        "        self,\n",
        "        kernel_size=3,\n",
        "        stride=1,\n",
        "        padding=1,\n",
        "        pooling_kernel_size=3,\n",
        "        pooling_stride=2,\n",
        "        num_conv_layers=conv_layers,\n",
        "        num_output_channels=[64, 128],\n",
        "        positional_emb=positional_emb,\n",
        "        **kwargs,\n",
        "    ):\n",
        "        super(CCTTokenizer, self).__init__(**kwargs)\n",
        "\n",
        "        # This is our tokenizer.\n",
        "        self.conv_model = keras.Sequential()\n",
        "        for i in range(num_conv_layers):\n",
        "            self.conv_model.add(\n",
        "                layers.Conv2D(\n",
        "                    num_output_channels[i],\n",
        "                    kernel_size,\n",
        "                    stride,\n",
        "                    padding=\"valid\",\n",
        "                    use_bias=False,\n",
        "                    activation=\"relu\",\n",
        "                    kernel_initializer=\"he_normal\",\n",
        "                )\n",
        "            )\n",
        "            self.conv_model.add(layers.ZeroPadding2D(padding))\n",
        "            self.conv_model.add(\n",
        "                layers.MaxPool2D(pooling_kernel_size, pooling_stride, \"same\")\n",
        "            )\n",
        "\n",
        "        self.positional_emb = positional_emb\n",
        "\n",
        "    def call(self, images):\n",
        "        outputs = self.conv_model(images)\n",
        "        # After passing the images through our mini-network the spatial dimensions\n",
        "        # are flattened to form sequences.\n",
        "        reshaped = tf.reshape(\n",
        "            outputs,\n",
        "            (-1, tf.shape(outputs)[1] * tf.shape(outputs)[2], tf.shape(outputs)[-1]),\n",
        "        )\n",
        "        return reshaped\n",
        "\n",
        "    def positional_embedding(self, image_size):\n",
        "        # Positional embeddings are optional in CCT. Here, we calculate\n",
        "        # the number of sequences and initialize an `Embedding` layer to\n",
        "        # compute the positional embeddings later.\n",
        "        if self.positional_emb:\n",
        "            dummy_inputs = tf.ones((1, image_size, image_size, 1))\n",
        "            dummy_outputs = self.call(dummy_inputs)\n",
        "            sequence_length = tf.shape(dummy_outputs)[1]\n",
        "            projection_dim = tf.shape(dummy_outputs)[-1]\n",
        "\n",
        "            embed_layer = layers.Embedding(\n",
        "                input_dim=sequence_length, output_dim=projection_dim\n",
        "            )\n",
        "            return embed_layer, sequence_length\n",
        "        else:\n",
        "            return None"
      ],
      "execution_count": null,
      "outputs": []
    },
    {
      "cell_type": "code",
      "metadata": {
        "id": "ssK7M_67er8r"
      },
      "source": [
        "class StochasticDepth(layers.Layer):\n",
        "    def __init__(self, drop_prop, **kwargs):\n",
        "        super(StochasticDepth, self).__init__(**kwargs)\n",
        "        self.drop_prob = drop_prop\n",
        "\n",
        "    def call(self, x, training=None):\n",
        "        if training:\n",
        "            keep_prob = 1 - self.drop_prob\n",
        "            shape = (tf.shape(x)[0],) + (1,) * (len(tf.shape(x)) - 1)\n",
        "            random_tensor = keep_prob + tf.random.uniform(shape, 0, 1)\n",
        "            random_tensor = tf.floor(random_tensor)\n",
        "            return (x / keep_prob) * random_tensor\n",
        "        return x"
      ],
      "execution_count": null,
      "outputs": []
    },
    {
      "cell_type": "code",
      "metadata": {
        "id": "oWsI-DbZeu8k"
      },
      "source": [
        "def mlp(x, hidden_units, dropout_rate):\n",
        "    for units in hidden_units:\n",
        "        x = layers.Dense(units, activation=tf.nn.gelu)(x)\n",
        "        x = layers.Dropout(dropout_rate)(x)\n",
        "    return x"
      ],
      "execution_count": null,
      "outputs": []
    },
    {
      "cell_type": "code",
      "metadata": {
        "id": "LHzQJisAezgR"
      },
      "source": [
        "data_augmentation = keras.Sequential(\n",
        "    [\n",
        "        layers.Rescaling(scale=1.0 / 255),\n",
        "        layers.RandomCrop(image_size, image_size),\n",
        "        layers.RandomFlip(\"horizontal\"),\n",
        "    ],\n",
        "    name=\"data_augmentation\",\n",
        ")"
      ],
      "execution_count": null,
      "outputs": []
    },
    {
      "cell_type": "code",
      "metadata": {
        "id": "91KzdSXIe4uw"
      },
      "source": [
        "def create_cct_model(\n",
        "    image_size=image_size,\n",
        "    input_shape=input_shape,\n",
        "    num_heads=num_heads,\n",
        "    projection_dim=projection_dim,\n",
        "    transformer_units=transformer_units,\n",
        "):\n",
        "\n",
        "    inputs = layers.Input(input_shape)\n",
        "\n",
        "    # Augment data.\n",
        "    augmented = data_augmentation(inputs)\n",
        "\n",
        "    # Encode patches.\n",
        "    cct_tokenizer = CCTTokenizer()\n",
        "    encoded_patches = cct_tokenizer(augmented)\n",
        "\n",
        "    # Apply positional embedding.\n",
        "    if positional_emb:\n",
        "        pos_embed, seq_length = cct_tokenizer.positional_embedding(image_size)\n",
        "        positions = tf.range(start=0, limit=seq_length, delta=1)\n",
        "        position_embeddings = pos_embed(positions)\n",
        "        encoded_patches += position_embeddings\n",
        "\n",
        "    # Calculate Stochastic Depth probabilities.\n",
        "    dpr = [x for x in np.linspace(0, stochastic_depth_rate, transformer_layers)]\n",
        "\n",
        "    # Create multiple layers of the Transformer block.\n",
        "    for i in range(transformer_layers):\n",
        "        # Layer normalization 1.\n",
        "        x1 = layers.LayerNormalization(epsilon=1e-5)(encoded_patches)\n",
        "\n",
        "        # Create a multi-head attention layer.\n",
        "        attention_output = layers.MultiHeadAttention(\n",
        "            num_heads=num_heads, key_dim=projection_dim, dropout=0.1\n",
        "        )(x1, x1)\n",
        "\n",
        "        # Skip connection 1.\n",
        "        attention_output = StochasticDepth(dpr[i])(attention_output)\n",
        "        x2 = layers.Add()([attention_output, encoded_patches])\n",
        "\n",
        "        # Layer normalization 2.\n",
        "        x3 = layers.LayerNormalization(epsilon=1e-5)(x2)\n",
        "\n",
        "        # MLP.\n",
        "        x3 = mlp(x3, hidden_units=transformer_units, dropout_rate=0.1)\n",
        "\n",
        "        # Skip connection 2.\n",
        "        x3 = StochasticDepth(dpr[i])(x3)\n",
        "        encoded_patches = layers.Add()([x3, x2])\n",
        "\n",
        "    # Apply sequence pooling.\n",
        "    representation = layers.LayerNormalization(epsilon=1e-5)(encoded_patches)\n",
        "    attention_weights = tf.nn.softmax(layers.Dense(1)(representation), axis=1)\n",
        "    weighted_representation = tf.matmul(\n",
        "        attention_weights, representation, transpose_a=True\n",
        "    )\n",
        "    weighted_representation = tf.squeeze(weighted_representation, -2)\n",
        "\n",
        "    # Classify outputs.\n",
        "    logits = layers.Dense(num_classes)(weighted_representation)\n",
        "    # Create the Keras model.\n",
        "    model = keras.Model(inputs=inputs, outputs=logits)\n",
        "    return model"
      ],
      "execution_count": null,
      "outputs": []
    },
    {
      "cell_type": "code",
      "metadata": {
        "colab": {
          "base_uri": "https://localhost:8080/"
        },
        "id": "CapQFTrefB0v",
        "outputId": "5c90a978-d1c4-4fb2-f6ef-bc9515cc699b"
      },
      "source": [
        "def run_experiment(model):\n",
        "    optimizer = tfa.optimizers.AdamW(learning_rate=0.001, weight_decay=0.0001)\n",
        "\n",
        "    model.compile(\n",
        "        optimizer=optimizer,\n",
        "        loss=keras.losses.CategoricalCrossentropy(\n",
        "            from_logits=True, label_smoothing=0.1\n",
        "        ),\n",
        "        metrics=[\n",
        "            keras.metrics.CategoricalAccuracy(name=\"accuracy\"),\n",
        "            keras.metrics.TopKCategoricalAccuracy(5, name=\"top-5-accuracy\"),\n",
        "        ],\n",
        "    )\n",
        "\n",
        "    checkpoint_filepath = \"/tmp/checkpoint\"\n",
        "    checkpoint_callback = keras.callbacks.ModelCheckpoint(\n",
        "        checkpoint_filepath,\n",
        "        monitor=\"val_accuracy\",\n",
        "        save_best_only=True,\n",
        "        save_weights_only=True,\n",
        "    )\n",
        "\n",
        "    history = model.fit(\n",
        "        x=x_train,\n",
        "        y=y_train,\n",
        "        batch_size=batch_size,\n",
        "        epochs=num_epochs,\n",
        "        validation_split=0.1,\n",
        "        callbacks=[checkpoint_callback],\n",
        "    )\n",
        "\n",
        "    model.load_weights(checkpoint_filepath)\n",
        "    _, accuracy, top_5_accuracy = model.evaluate(x_test, y_test)\n",
        "    print(f\"Test accuracy: {round(accuracy * 100, 2)}%\")\n",
        "    print(f\"Test top 5 accuracy: {round(top_5_accuracy * 100, 2)}%\")\n",
        "\n",
        "    return history\n",
        "\n",
        "\n",
        "cct_model = create_cct_model()\n",
        "history = run_experiment(cct_model)"
      ],
      "execution_count": null,
      "outputs": [
        {
          "output_type": "stream",
          "name": "stdout",
          "text": [
            "Epoch 1/20\n",
            "844/844 [==============================] - 40s 43ms/step - loss: 1.0019 - accuracy: 0.7699 - top-5-accuracy: 0.9882 - val_loss: 0.8448 - val_accuracy: 0.8473 - val_top-5-accuracy: 0.9955\n",
            "Epoch 2/20\n",
            "844/844 [==============================] - 35s 42ms/step - loss: 0.8390 - accuracy: 0.8474 - top-5-accuracy: 0.9954 - val_loss: 0.7991 - val_accuracy: 0.8618 - val_top-5-accuracy: 0.9977\n",
            "Epoch 3/20\n",
            "844/844 [==============================] - 35s 41ms/step - loss: 0.8008 - accuracy: 0.8621 - top-5-accuracy: 0.9967 - val_loss: 0.7697 - val_accuracy: 0.8755 - val_top-5-accuracy: 0.9980\n",
            "Epoch 4/20\n",
            "844/844 [==============================] - 35s 41ms/step - loss: 0.7739 - accuracy: 0.8751 - top-5-accuracy: 0.9973 - val_loss: 0.7649 - val_accuracy: 0.8767 - val_top-5-accuracy: 0.9973\n",
            "Epoch 5/20\n",
            "844/844 [==============================] - 35s 41ms/step - loss: 0.7568 - accuracy: 0.8832 - top-5-accuracy: 0.9968 - val_loss: 0.7761 - val_accuracy: 0.8730 - val_top-5-accuracy: 0.9970\n",
            "Epoch 6/20\n",
            "844/844 [==============================] - 35s 42ms/step - loss: 0.7469 - accuracy: 0.8879 - top-5-accuracy: 0.9976 - val_loss: 0.7339 - val_accuracy: 0.8945 - val_top-5-accuracy: 0.9973\n",
            "Epoch 7/20\n",
            "844/844 [==============================] - 35s 41ms/step - loss: 0.7345 - accuracy: 0.8933 - top-5-accuracy: 0.9979 - val_loss: 0.7382 - val_accuracy: 0.8875 - val_top-5-accuracy: 0.9983\n",
            "Epoch 8/20\n",
            "844/844 [==============================] - 35s 41ms/step - loss: 0.7257 - accuracy: 0.8989 - top-5-accuracy: 0.9980 - val_loss: 0.7164 - val_accuracy: 0.9015 - val_top-5-accuracy: 0.9977\n",
            "Epoch 9/20\n",
            "844/844 [==============================] - 35s 42ms/step - loss: 0.7185 - accuracy: 0.9007 - top-5-accuracy: 0.9978 - val_loss: 0.7542 - val_accuracy: 0.8865 - val_top-5-accuracy: 0.9963\n",
            "Epoch 10/20\n",
            "844/844 [==============================] - 35s 41ms/step - loss: 0.7148 - accuracy: 0.9034 - top-5-accuracy: 0.9984 - val_loss: 0.7219 - val_accuracy: 0.9003 - val_top-5-accuracy: 0.9970\n",
            "Epoch 11/20\n",
            "844/844 [==============================] - 35s 42ms/step - loss: 0.7120 - accuracy: 0.9045 - top-5-accuracy: 0.9980 - val_loss: 0.7401 - val_accuracy: 0.8898 - val_top-5-accuracy: 0.9983\n",
            "Epoch 12/20\n",
            "844/844 [==============================] - 35s 42ms/step - loss: 0.7057 - accuracy: 0.9074 - top-5-accuracy: 0.9982 - val_loss: 0.7062 - val_accuracy: 0.9047 - val_top-5-accuracy: 0.9987\n",
            "Epoch 13/20\n",
            "844/844 [==============================] - 35s 42ms/step - loss: 0.7015 - accuracy: 0.9092 - top-5-accuracy: 0.9986 - val_loss: 0.7006 - val_accuracy: 0.9067 - val_top-5-accuracy: 0.9985\n",
            "Epoch 14/20\n",
            "844/844 [==============================] - 35s 42ms/step - loss: 0.6984 - accuracy: 0.9099 - top-5-accuracy: 0.9981 - val_loss: 0.7057 - val_accuracy: 0.9025 - val_top-5-accuracy: 0.9978\n",
            "Epoch 15/20\n",
            "844/844 [==============================] - 36s 42ms/step - loss: 0.6945 - accuracy: 0.9129 - top-5-accuracy: 0.9984 - val_loss: 0.7023 - val_accuracy: 0.9082 - val_top-5-accuracy: 0.9982\n",
            "Epoch 16/20\n",
            "844/844 [==============================] - 36s 43ms/step - loss: 0.6933 - accuracy: 0.9120 - top-5-accuracy: 0.9985 - val_loss: 0.6955 - val_accuracy: 0.9103 - val_top-5-accuracy: 0.9985\n",
            "Epoch 17/20\n",
            "844/844 [==============================] - 36s 42ms/step - loss: 0.6907 - accuracy: 0.9129 - top-5-accuracy: 0.9988 - val_loss: 0.7023 - val_accuracy: 0.9062 - val_top-5-accuracy: 0.9985\n",
            "Epoch 18/20\n",
            "844/844 [==============================] - 36s 42ms/step - loss: 0.6893 - accuracy: 0.9134 - top-5-accuracy: 0.9985 - val_loss: 0.6880 - val_accuracy: 0.9150 - val_top-5-accuracy: 0.9982\n",
            "Epoch 19/20\n",
            "844/844 [==============================] - 36s 42ms/step - loss: 0.6860 - accuracy: 0.9159 - top-5-accuracy: 0.9986 - val_loss: 0.7081 - val_accuracy: 0.9048 - val_top-5-accuracy: 0.9983\n",
            "Epoch 20/20\n",
            "844/844 [==============================] - 35s 42ms/step - loss: 0.6850 - accuracy: 0.9161 - top-5-accuracy: 0.9987 - val_loss: 0.6883 - val_accuracy: 0.9138 - val_top-5-accuracy: 0.9988\n",
            "313/313 [==============================] - 4s 14ms/step - loss: 0.7111 - accuracy: 0.9064 - top-5-accuracy: 0.9971\n",
            "Test accuracy: 90.64%\n",
            "Test top 5 accuracy: 99.71%\n"
          ]
        }
      ]
    },
    {
      "cell_type": "code",
      "metadata": {
        "id": "QdGJS8xLSnEg"
      },
      "source": [
        "from google.colab import files"
      ],
      "execution_count": null,
      "outputs": []
    },
    {
      "cell_type": "code",
      "metadata": {
        "colab": {
          "base_uri": "https://localhost:8080/",
          "height": 313
        },
        "id": "hvXhfPg7LqqL",
        "outputId": "8255f16d-beac-444c-95db-f39ba41b568e"
      },
      "source": [
        "plt.plot(history.history[\"loss\"], label=\"train_loss\")\n",
        "plt.plot(history.history[\"val_loss\"], label=\"val_loss\")\n",
        "plt.xlabel(\"Epochs\")\n",
        "plt.ylabel(\"Loss\")\n",
        "plt.title(\"Train and Validation Losses Over Epochs\", fontsize=14)\n",
        "plt.legend()\n",
        "plt.grid()\n",
        "plt.show()\n",
        "plt.savefig('FminstLoss.png')\n",
        "files.download('FminstLoss.png')"
      ],
      "execution_count": null,
      "outputs": [
        {
          "output_type": "display_data",
          "data": {
            "image/png": "[encoded data removed]",
            "text/plain": [
              "<Figure size 432x288 with 1 Axes>"
            ]
          },
          "metadata": {
            "needs_background": "light"
          }
        },
        {
          "output_type": "display_data",
          "data": {
            "application/javascript": [
              "\n",
              "    async function download(id, filename, size) {\n",
              "      if (!google.colab.kernel.accessAllowed) {\n",
              "        return;\n",
              "      }\n",
              "      const div = document.createElement('div');\n",
              "      const label = document.createElement('label');\n",
              "      label.textContent = `Downloading \"${filename}\": `;\n",
              "      div.appendChild(label);\n",
              "      const progress = document.createElement('progress');\n",
              "      progress.max = size;\n",
              "      div.appendChild(progress);\n",
              "      document.body.appendChild(div);\n",
              "\n",
              "      const buffers = [];\n",
              "      let downloaded = 0;\n",
              "\n",
              "      const channel = await google.colab.kernel.comms.open(id);\n",
              "      // Send a message to notify the kernel that we're ready.\n",
              "      channel.send({})\n",
              "\n",
              "      for await (const message of channel.messages) {\n",
              "        // Send a message to notify the kernel that we're ready.\n",
              "        channel.send({})\n",
              "        if (message.buffers) {\n",
              "          for (const buffer of message.buffers) {\n",
              "            buffers.push(buffer);\n",
              "            downloaded += buffer.byteLength;\n",
              "            progress.value = downloaded;\n",
              "          }\n",
              "        }\n",
              "      }\n",
              "      const blob = new Blob(buffers, {type: 'application/binary'});\n",
              "      const a = document.createElement('a');\n",
              "      a.href = window.URL.createObjectURL(blob);\n",
              "      a.download = filename;\n",
              "      div.appendChild(a);\n",
              "      a.click();\n",
              "      div.remove();\n",
              "    }\n",
              "  "
            ],
            "text/plain": [
              "<IPython.core.display.Javascript object>"
            ]
          },
          "metadata": {}
        },
        {
          "output_type": "display_data",
          "data": {
            "application/javascript": [
              "download(\"download_fdd130bd-60da-4421-adc1-59d519ede848\", \"FminstLoss.png\", 1273)"
            ],
            "text/plain": [
              "<IPython.core.display.Javascript object>"
            ]
          },
          "metadata": {}
        },
        {
          "output_type": "display_data",
          "data": {
            "text/plain": [
              "<Figure size 432x288 with 0 Axes>"
            ]
          },
          "metadata": {}
        }
      ]
    },
    {
      "cell_type": "code",
      "metadata": {
        "colab": {
          "base_uri": "https://localhost:8080/",
          "height": 313
        },
        "id": "TBxjGuERLskd",
        "outputId": "09b02b2e-50c8-47bf-8b13-2afda9483c2e"
      },
      "source": [
        "plt.plot(history.history[\"accuracy\"], label=\"accuracy\")\n",
        "plt.plot(history.history[\"val_accuracy\"], label=\"val_accuracy\")\n",
        "plt.xlabel(\"Epochs\")\n",
        "plt.ylabel(\"Accuracy\")\n",
        "plt.title(\"Training and Validation Accuracy Over Epochs\", fontsize=14)\n",
        "plt.legend()\n",
        "plt.grid()\n",
        "plt.show()\n",
        "plt.savefig('FminstAccu.png')\n",
        "files.download('FminstAccu.png')"
      ],
      "execution_count": null,
      "outputs": [
        {
          "output_type": "display_data",
          "data": {
            "image/png": "[encoded data removed]",
            "text/plain": [
              "<Figure size 432x288 with 1 Axes>"
            ]
          },
          "metadata": {
            "needs_background": "light"
          }
        },
        {
          "output_type": "display_data",
          "data": {
            "application/javascript": [
              "\n",
              "    async function download(id, filename, size) {\n",
              "      if (!google.colab.kernel.accessAllowed) {\n",
              "        return;\n",
              "      }\n",
              "      const div = document.createElement('div');\n",
              "      const label = document.createElement('label');\n",
              "      label.textContent = `Downloading \"${filename}\": `;\n",
              "      div.appendChild(label);\n",
              "      const progress = document.createElement('progress');\n",
              "      progress.max = size;\n",
              "      div.appendChild(progress);\n",
              "      document.body.appendChild(div);\n",
              "\n",
              "      const buffers = [];\n",
              "      let downloaded = 0;\n",
              "\n",
              "      const channel = await google.colab.kernel.comms.open(id);\n",
              "      // Send a message to notify the kernel that we're ready.\n",
              "      channel.send({})\n",
              "\n",
              "      for await (const message of channel.messages) {\n",
              "        // Send a message to notify the kernel that we're ready.\n",
              "        channel.send({})\n",
              "        if (message.buffers) {\n",
              "          for (const buffer of message.buffers) {\n",
              "            buffers.push(buffer);\n",
              "            downloaded += buffer.byteLength;\n",
              "            progress.value = downloaded;\n",
              "          }\n",
              "        }\n",
              "      }\n",
              "      const blob = new Blob(buffers, {type: 'application/binary'});\n",
              "      const a = document.createElement('a');\n",
              "      a.href = window.URL.createObjectURL(blob);\n",
              "      a.download = filename;\n",
              "      div.appendChild(a);\n",
              "      a.click();\n",
              "      div.remove();\n",
              "    }\n",
              "  "
            ],
            "text/plain": [
              "<IPython.core.display.Javascript object>"
            ]
          },
          "metadata": {}
        },
        {
          "output_type": "display_data",
          "data": {
            "application/javascript": [
              "download(\"download_06f5dd85-7d15-4655-a97c-6cdc8bf34ffa\", \"FminstAccu.png\", 1273)"
            ],
            "text/plain": [
              "<IPython.core.display.Javascript object>"
            ]
          },
          "metadata": {}
        },
        {
          "output_type": "display_data",
          "data": {
            "text/plain": [
              "<Figure size 432x288 with 0 Axes>"
            ]
          },
          "metadata": {}
        }
      ]
    },
    {
      "cell_type": "code",
      "metadata": {
        "colab": {
          "base_uri": "https://localhost:8080/",
          "height": 313
        },
        "id": "Z2zqMzEDLv8R",
        "outputId": "915b05c8-6a4f-409e-bc73-69e2185ebc0e"
      },
      "source": [
        "plt.plot(history.history[\"accuracy\"], label=\"accuracy\")\n",
        "plt.plot(history.history[\"val_accuracy\"], label=\"val_accuracy\")\n",
        "plt.plot(history.history[\"val_top-5-accuracy\"], label=\"val_top-5-accuracy\")\n",
        "plt.xlabel(\"Epochs\")\n",
        "plt.ylabel(\"Accuracy\")\n",
        "plt.title(\"Training, Validation and Top-5 Validation accuracy Over Epochs\", fontsize=14)\n",
        "plt.legend()\n",
        "plt.grid()\n",
        "plt.show()\n",
        "plt.savefig('AccuracyComp.png')\n",
        "files.download('AccuracyComp.png')"
      ],
      "execution_count": null,
      "outputs": [
        {
          "output_type": "display_data",
          "data": {
            "image/png": "[encoded data removed]",
            "text/plain": [
              "<Figure size 432x288 with 1 Axes>"
            ]
          },
          "metadata": {
            "needs_background": "light"
          }
        },
        {
          "output_type": "display_data",
          "data": {
            "application/javascript": [
              "\n",
              "    async function download(id, filename, size) {\n",
              "      if (!google.colab.kernel.accessAllowed) {\n",
              "        return;\n",
              "      }\n",
              "      const div = document.createElement('div');\n",
              "      const label = document.createElement('label');\n",
              "      label.textContent = `Downloading \"${filename}\": `;\n",
              "      div.appendChild(label);\n",
              "      const progress = document.createElement('progress');\n",
              "      progress.max = size;\n",
              "      div.appendChild(progress);\n",
              "      document.body.appendChild(div);\n",
              "\n",
              "      const buffers = [];\n",
              "      let downloaded = 0;\n",
              "\n",
              "      const channel = await google.colab.kernel.comms.open(id);\n",
              "      // Send a message to notify the kernel that we're ready.\n",
              "      channel.send({})\n",
              "\n",
              "      for await (const message of channel.messages) {\n",
              "        // Send a message to notify the kernel that we're ready.\n",
              "        channel.send({})\n",
              "        if (message.buffers) {\n",
              "          for (const buffer of message.buffers) {\n",
              "            buffers.push(buffer);\n",
              "            downloaded += buffer.byteLength;\n",
              "            progress.value = downloaded;\n",
              "          }\n",
              "        }\n",
              "      }\n",
              "      const blob = new Blob(buffers, {type: 'application/binary'});\n",
              "      const a = document.createElement('a');\n",
              "      a.href = window.URL.createObjectURL(blob);\n",
              "      a.download = filename;\n",
              "      div.appendChild(a);\n",
              "      a.click();\n",
              "      div.remove();\n",
              "    }\n",
              "  "
            ],
            "text/plain": [
              "<IPython.core.display.Javascript object>"
            ]
          },
          "metadata": {}
        },
        {
          "output_type": "display_data",
          "data": {
            "application/javascript": [
              "download(\"download_4f98066b-9fb0-4e1e-9d45-3a4e324f70dd\", \"AccuracyComp.png\", 1273)"
            ],
            "text/plain": [
              "<IPython.core.display.Javascript object>"
            ]
          },
          "metadata": {}
        },
        {
          "output_type": "display_data",
          "data": {
            "text/plain": [
              "<Figure size 432x288 with 0 Axes>"
            ]
          },
          "metadata": {}
        }
      ]
    }
  ]
}